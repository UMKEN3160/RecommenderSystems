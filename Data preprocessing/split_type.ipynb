{
 "cells": [
  {
   "cell_type": "code",
   "execution_count": 99,
   "id": "0b17b9fe-0d6a-4ee5-8ae0-7cff24d6ec22",
   "metadata": {},
   "outputs": [],
   "source": [
    "## all imports up here, rerun this block when adding\n",
    "import pandas as pd\n",
    "import numpy as np\n",
    "import cv2 as cv"
   ]
  },
  {
   "cell_type": "code",
   "execution_count": 101,
   "id": "2e8b5bf5-715a-49c1-aae1-b46011cd8297",
   "metadata": {},
   "outputs": [],
   "source": [
    "wines = pd.read_csv(\"../../Datasets/All-XWines_Full_100K_wines_21M_ratings/XWines_Full_100K_wines.csv\", low_memory=False, encoding=\"utf-8\", memory_map=True)\n"
   ]
  },
  {
   "cell_type": "code",
   "execution_count": 104,
   "id": "866f171f-cc15-446c-89c1-30a71d37ff10",
   "metadata": {},
   "outputs": [
    {
     "data": {
      "text/plain": [
       "Index(['WineID', 'WineName', 'Type', 'Elaborate', 'Grapes', 'Harmonize', 'ABV',\n",
       "       'Body', 'Acidity', 'Code', 'Country', 'RegionID', 'RegionName',\n",
       "       'WineryID', 'WineryName', 'Website', 'Vintages'],\n",
       "      dtype='object')"
      ]
     },
     "execution_count": 104,
     "metadata": {},
     "output_type": "execute_result"
    }
   ],
   "source": [
    "wines.columns"
   ]
  },
  {
   "cell_type": "code",
   "execution_count": 250,
   "id": "87e27a3f-4a0c-4836-9868-829b639b4802",
   "metadata": {
    "isPromptEdit": false
   },
   "outputs": [],
   "source": [
    "wine_types = wines['Type'].unique()\n",
    "wine_subtypes = {}\n",
    "\n",
    "for wine_type in wine_types:\n",
    "    lower_type = wine_type.lower() \n",
    "    wine_subtypes[lower_type] = wines[wines['Type'] == wine_type]  "
   ]
  },
  {
   "cell_type": "code",
   "execution_count": 282,
   "id": "1176d039-c306-4a78-8248-ef225d083cf3",
   "metadata": {},
   "outputs": [
    {
     "data": {
      "text/plain": [
       "array(['Sparkling', 'Red', 'White', 'Dessert/Port', 'Dessert', 'Rosé'],\n",
       "      dtype=object)"
      ]
     },
     "execution_count": 282,
     "metadata": {},
     "output_type": "execute_result"
    }
   ],
   "source": [
    "wines['Type'].unique()"
   ]
  },
  {
   "cell_type": "markdown",
   "id": "77cb296b-07eb-4779-a245-030658b2c829",
   "metadata": {},
   "source": [
    "**If you want to retrieve wines from the Dictiory use small letters for the type of wine you would like to retrieve**"
   ]
  },
  {
   "cell_type": "code",
   "execution_count": 312,
   "id": "34c32eed-6775-4b61-8475-b6f2aac65cde",
   "metadata": {},
   "outputs": [],
   "source": [
    "def subtypes_wine(directory: str) -> Dict:\n",
    "    wine_types = wines['Type'].unique()\n",
    "    wine_subtypes = {}\n",
    "\n",
    "    for wine_type in wine_types:\n",
    "        lower_type = wine_type.lower()\n",
    "        wine_subtypes[lower_type] = wines[wines['Type'] == wine_type]\n",
    "        \n",
    "    return wine_subtypes"
   ]
  }
 ],
 "metadata": {
  "kernelspec": {
   "display_name": "Python 3 (ipykernel)",
   "language": "python",
   "name": "python3"
  },
  "language_info": {
   "codemirror_mode": {
    "name": "ipython",
    "version": 3
   },
   "file_extension": ".py",
   "mimetype": "text/x-python",
   "name": "python",
   "nbconvert_exporter": "python",
   "pygments_lexer": "ipython3",
   "version": "3.11.7"
  }
 },
 "nbformat": 4,
 "nbformat_minor": 5
}
