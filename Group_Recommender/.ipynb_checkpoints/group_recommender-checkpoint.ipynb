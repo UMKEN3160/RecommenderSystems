{
 "cells": [
  {
   "cell_type": "code",
   "execution_count": 2,
   "id": "8e2be399-cfdb-4b76-b65e-61fe3c93fa36",
   "metadata": {},
   "outputs": [],
   "source": [
    "## all imports up here, rerun this block when adding\n",
    "import pandas as pd\n",
    "import numpy as np\n",
    "import cv2 as cv\n",
    "import sys\n",
    "sys.path.insert(0, '../Synthetic Group Creation/')\n",
    "from groups_generators import GroupsGenerator\n",
    "sys.path.insert(0, '../Synthetic Group Creation/')\n",
    "import config as cfg  \n"
   ]
  },
  {
   "cell_type": "code",
   "execution_count": 105,
   "id": "fb44a283-6534-4f85-ae76-1a041d0b039f",
   "metadata": {},
   "outputs": [],
   "source": [
    "ratings_df = pd.read_csv(\"../../Datasets/XWines_Slim_1K_wines_150K_ratings/XWines_Slim_150K_ratings.csv\", low_memory=False, encoding=\"utf-8\", memory_map=True)\n",
    "wines_df = pd.read_csv(\"../../Datasets/XWines_Slim_1K_wines_150K_ratings/XWines_Slim_1K_wines.csv\", low_memory=False, encoding=\"utf-8\", memory_map=True)"
   ]
  },
  {
   "cell_type": "code",
   "execution_count": 107,
   "id": "4c036882-5f10-4640-999b-3bafc56ce1ff",
   "metadata": {},
   "outputs": [],
   "source": [
    "#wines_df = pd.read_csv(\"../../Datasets/All-XWines_Full_100K_wines_21M_ratings/XWines_Full_100K_wines.csv\", low_memory=False, encoding=\"utf-8\", memory_map=True)\n",
    "#ratings_df = pd.read_csv(\"../../Datasets/All-XWines_Full_100K_wines_21M_ratings/XWines_Full_21M_ratings.csv\", low_memory=False, encoding=\"utf-8\", memory_map=True)"
   ]
  },
  {
   "cell_type": "code",
   "execution_count": 109,
   "id": "b83b66a0-1e05-46f1-8704-f2bdbc494845",
   "metadata": {},
   "outputs": [
    {
     "data": {
      "text/html": [
       "<div>\n",
       "<style scoped>\n",
       "    .dataframe tbody tr th:only-of-type {\n",
       "        vertical-align: middle;\n",
       "    }\n",
       "\n",
       "    .dataframe tbody tr th {\n",
       "        vertical-align: top;\n",
       "    }\n",
       "\n",
       "    .dataframe thead th {\n",
       "        text-align: right;\n",
       "    }\n",
       "</style>\n",
       "<table border=\"1\" class=\"dataframe\">\n",
       "  <thead>\n",
       "    <tr style=\"text-align: right;\">\n",
       "      <th></th>\n",
       "      <th>RatingID</th>\n",
       "      <th>UserID</th>\n",
       "      <th>WineID</th>\n",
       "      <th>Vintage</th>\n",
       "      <th>Rating</th>\n",
       "      <th>Date</th>\n",
       "    </tr>\n",
       "  </thead>\n",
       "  <tbody>\n",
       "    <tr>\n",
       "      <th>0</th>\n",
       "      <td>143</td>\n",
       "      <td>1356810</td>\n",
       "      <td>103471</td>\n",
       "      <td>1950</td>\n",
       "      <td>4.5</td>\n",
       "      <td>2021-11-02 20:52:59</td>\n",
       "    </tr>\n",
       "    <tr>\n",
       "      <th>1</th>\n",
       "      <td>199</td>\n",
       "      <td>1173759</td>\n",
       "      <td>111415</td>\n",
       "      <td>1951</td>\n",
       "      <td>5.0</td>\n",
       "      <td>2015-08-20 17:46:26</td>\n",
       "    </tr>\n",
       "    <tr>\n",
       "      <th>2</th>\n",
       "      <td>348</td>\n",
       "      <td>1164877</td>\n",
       "      <td>111395</td>\n",
       "      <td>1952</td>\n",
       "      <td>5.0</td>\n",
       "      <td>2020-11-13 05:40:26</td>\n",
       "    </tr>\n",
       "    <tr>\n",
       "      <th>3</th>\n",
       "      <td>374</td>\n",
       "      <td>1207665</td>\n",
       "      <td>111433</td>\n",
       "      <td>1953</td>\n",
       "      <td>5.0</td>\n",
       "      <td>2017-05-05 06:44:13</td>\n",
       "    </tr>\n",
       "    <tr>\n",
       "      <th>4</th>\n",
       "      <td>834</td>\n",
       "      <td>1075841</td>\n",
       "      <td>111431</td>\n",
       "      <td>1955</td>\n",
       "      <td>5.0</td>\n",
       "      <td>2016-09-14 20:18:38</td>\n",
       "    </tr>\n",
       "  </tbody>\n",
       "</table>\n",
       "</div>"
      ],
      "text/plain": [
       "   RatingID   UserID  WineID Vintage  Rating                 Date\n",
       "0       143  1356810  103471    1950     4.5  2021-11-02 20:52:59\n",
       "1       199  1173759  111415    1951     5.0  2015-08-20 17:46:26\n",
       "2       348  1164877  111395    1952     5.0  2020-11-13 05:40:26\n",
       "3       374  1207665  111433    1953     5.0  2017-05-05 06:44:13\n",
       "4       834  1075841  111431    1955     5.0  2016-09-14 20:18:38"
      ]
     },
     "execution_count": 109,
     "metadata": {},
     "output_type": "execute_result"
    }
   ],
   "source": [
    "ratings_df.head()"
   ]
  },
  {
   "cell_type": "code",
   "execution_count": 111,
   "id": "83c11fca-9561-4657-abbd-a258aa297dcf",
   "metadata": {},
   "outputs": [
    {
     "data": {
      "text/plain": [
       "(1007, 17)"
      ]
     },
     "execution_count": 111,
     "metadata": {},
     "output_type": "execute_result"
    }
   ],
   "source": [
    "wines_df.shape"
   ]
  },
  {
   "cell_type": "code",
   "execution_count": 113,
   "id": "6d848890-9ed7-447b-929a-7528881d4a0d",
   "metadata": {},
   "outputs": [
    {
     "data": {
      "text/html": [
       "<div>\n",
       "<style scoped>\n",
       "    .dataframe tbody tr th:only-of-type {\n",
       "        vertical-align: middle;\n",
       "    }\n",
       "\n",
       "    .dataframe tbody tr th {\n",
       "        vertical-align: top;\n",
       "    }\n",
       "\n",
       "    .dataframe thead th {\n",
       "        text-align: right;\n",
       "    }\n",
       "</style>\n",
       "<table border=\"1\" class=\"dataframe\">\n",
       "  <thead>\n",
       "    <tr style=\"text-align: right;\">\n",
       "      <th></th>\n",
       "      <th>WineID</th>\n",
       "      <th>WineName</th>\n",
       "      <th>Type</th>\n",
       "      <th>Elaborate</th>\n",
       "      <th>Grapes</th>\n",
       "      <th>Harmonize</th>\n",
       "      <th>ABV</th>\n",
       "      <th>Body</th>\n",
       "      <th>Acidity</th>\n",
       "      <th>Code</th>\n",
       "      <th>Country</th>\n",
       "      <th>RegionID</th>\n",
       "      <th>RegionName</th>\n",
       "      <th>WineryID</th>\n",
       "      <th>WineryName</th>\n",
       "      <th>Website</th>\n",
       "      <th>Vintages</th>\n",
       "    </tr>\n",
       "  </thead>\n",
       "  <tbody>\n",
       "    <tr>\n",
       "      <th>0</th>\n",
       "      <td>100001</td>\n",
       "      <td>Espumante Moscatel</td>\n",
       "      <td>Sparkling</td>\n",
       "      <td>Varietal/100%</td>\n",
       "      <td>['Muscat/Moscato']</td>\n",
       "      <td>['Pork', 'Rich Fish', 'Shellfish']</td>\n",
       "      <td>7.5</td>\n",
       "      <td>Medium-bodied</td>\n",
       "      <td>High</td>\n",
       "      <td>BR</td>\n",
       "      <td>Brazil</td>\n",
       "      <td>1001</td>\n",
       "      <td>Serra Gaúcha</td>\n",
       "      <td>10001</td>\n",
       "      <td>Casa Perini</td>\n",
       "      <td>http://www.vinicolaperini.com.br</td>\n",
       "      <td>[2020, 2019, 2018, 2017, 2016, 2015, 2014, 201...</td>\n",
       "    </tr>\n",
       "    <tr>\n",
       "      <th>1</th>\n",
       "      <td>100002</td>\n",
       "      <td>Ancellotta</td>\n",
       "      <td>Red</td>\n",
       "      <td>Varietal/100%</td>\n",
       "      <td>['Ancellotta']</td>\n",
       "      <td>['Beef', 'Barbecue', 'Codfish', 'Pasta', 'Pizz...</td>\n",
       "      <td>12.0</td>\n",
       "      <td>Medium-bodied</td>\n",
       "      <td>Medium</td>\n",
       "      <td>BR</td>\n",
       "      <td>Brazil</td>\n",
       "      <td>1001</td>\n",
       "      <td>Serra Gaúcha</td>\n",
       "      <td>10001</td>\n",
       "      <td>Casa Perini</td>\n",
       "      <td>http://www.vinicolaperini.com.br</td>\n",
       "      <td>[2016, 2015, 2014, 2013, 2012, 2011, 2010, 200...</td>\n",
       "    </tr>\n",
       "    <tr>\n",
       "      <th>2</th>\n",
       "      <td>100003</td>\n",
       "      <td>Cabernet Sauvignon</td>\n",
       "      <td>Red</td>\n",
       "      <td>Varietal/100%</td>\n",
       "      <td>['Cabernet Sauvignon']</td>\n",
       "      <td>['Beef', 'Lamb', 'Poultry']</td>\n",
       "      <td>12.0</td>\n",
       "      <td>Full-bodied</td>\n",
       "      <td>High</td>\n",
       "      <td>BR</td>\n",
       "      <td>Brazil</td>\n",
       "      <td>1001</td>\n",
       "      <td>Serra Gaúcha</td>\n",
       "      <td>10002</td>\n",
       "      <td>Castellamare</td>\n",
       "      <td>https://www.emporiocastellamare.com.br</td>\n",
       "      <td>[2021, 2020, 2019, 2018, 2017, 2016, 2015, 201...</td>\n",
       "    </tr>\n",
       "    <tr>\n",
       "      <th>3</th>\n",
       "      <td>100005</td>\n",
       "      <td>Maison de Ville Cabernet-Merlot</td>\n",
       "      <td>Red</td>\n",
       "      <td>Assemblage/Bordeaux Red Blend</td>\n",
       "      <td>['Cabernet Sauvignon', 'Merlot']</td>\n",
       "      <td>['Beef', 'Lamb', 'Game Meat', 'Poultry']</td>\n",
       "      <td>11.0</td>\n",
       "      <td>Full-bodied</td>\n",
       "      <td>Medium</td>\n",
       "      <td>BR</td>\n",
       "      <td>Brazil</td>\n",
       "      <td>1001</td>\n",
       "      <td>Serra Gaúcha</td>\n",
       "      <td>10000</td>\n",
       "      <td>Aurora</td>\n",
       "      <td>http://www.vinicolaaurora.com.br</td>\n",
       "      <td>[2021, 2020, 2019, 2018, 2017, 2016, 2015, 201...</td>\n",
       "    </tr>\n",
       "    <tr>\n",
       "      <th>4</th>\n",
       "      <td>100007</td>\n",
       "      <td>Do Lugar Moscatel Espumantes</td>\n",
       "      <td>Sparkling</td>\n",
       "      <td>Varietal/100%</td>\n",
       "      <td>['Muscat/Moscato Bianco']</td>\n",
       "      <td>['Pork', 'Rich Fish', 'Shellfish']</td>\n",
       "      <td>7.5</td>\n",
       "      <td>Medium-bodied</td>\n",
       "      <td>High</td>\n",
       "      <td>BR</td>\n",
       "      <td>Brazil</td>\n",
       "      <td>1001</td>\n",
       "      <td>Serra Gaúcha</td>\n",
       "      <td>10012</td>\n",
       "      <td>Dal Pizzol</td>\n",
       "      <td>http://www.dalpizzol.com.br</td>\n",
       "      <td>[2018, 2017, 2016, 2015, 2014, 2013, 2012, 201...</td>\n",
       "    </tr>\n",
       "  </tbody>\n",
       "</table>\n",
       "</div>"
      ],
      "text/plain": [
       "   WineID                         WineName       Type  \\\n",
       "0  100001               Espumante Moscatel  Sparkling   \n",
       "1  100002                       Ancellotta        Red   \n",
       "2  100003               Cabernet Sauvignon        Red   \n",
       "3  100005  Maison de Ville Cabernet-Merlot        Red   \n",
       "4  100007     Do Lugar Moscatel Espumantes  Sparkling   \n",
       "\n",
       "                       Elaborate                            Grapes  \\\n",
       "0                  Varietal/100%                ['Muscat/Moscato']   \n",
       "1                  Varietal/100%                    ['Ancellotta']   \n",
       "2                  Varietal/100%            ['Cabernet Sauvignon']   \n",
       "3  Assemblage/Bordeaux Red Blend  ['Cabernet Sauvignon', 'Merlot']   \n",
       "4                  Varietal/100%         ['Muscat/Moscato Bianco']   \n",
       "\n",
       "                                           Harmonize   ABV           Body  \\\n",
       "0                 ['Pork', 'Rich Fish', 'Shellfish']   7.5  Medium-bodied   \n",
       "1  ['Beef', 'Barbecue', 'Codfish', 'Pasta', 'Pizz...  12.0  Medium-bodied   \n",
       "2                        ['Beef', 'Lamb', 'Poultry']  12.0    Full-bodied   \n",
       "3           ['Beef', 'Lamb', 'Game Meat', 'Poultry']  11.0    Full-bodied   \n",
       "4                 ['Pork', 'Rich Fish', 'Shellfish']   7.5  Medium-bodied   \n",
       "\n",
       "  Acidity Code Country  RegionID    RegionName  WineryID    WineryName  \\\n",
       "0    High   BR  Brazil      1001  Serra Gaúcha     10001   Casa Perini   \n",
       "1  Medium   BR  Brazil      1001  Serra Gaúcha     10001   Casa Perini   \n",
       "2    High   BR  Brazil      1001  Serra Gaúcha     10002  Castellamare   \n",
       "3  Medium   BR  Brazil      1001  Serra Gaúcha     10000        Aurora   \n",
       "4    High   BR  Brazil      1001  Serra Gaúcha     10012    Dal Pizzol   \n",
       "\n",
       "                                  Website  \\\n",
       "0        http://www.vinicolaperini.com.br   \n",
       "1        http://www.vinicolaperini.com.br   \n",
       "2  https://www.emporiocastellamare.com.br   \n",
       "3        http://www.vinicolaaurora.com.br   \n",
       "4             http://www.dalpizzol.com.br   \n",
       "\n",
       "                                            Vintages  \n",
       "0  [2020, 2019, 2018, 2017, 2016, 2015, 2014, 201...  \n",
       "1  [2016, 2015, 2014, 2013, 2012, 2011, 2010, 200...  \n",
       "2  [2021, 2020, 2019, 2018, 2017, 2016, 2015, 201...  \n",
       "3  [2021, 2020, 2019, 2018, 2017, 2016, 2015, 201...  \n",
       "4  [2018, 2017, 2016, 2015, 2014, 2013, 2012, 201...  "
      ]
     },
     "execution_count": 113,
     "metadata": {},
     "output_type": "execute_result"
    }
   ],
   "source": [
    "wines_df.head()"
   ]
  },
  {
   "cell_type": "markdown",
   "id": "f89ef9b3-6c6e-4c30-8a46-fdcf79c7cb4f",
   "metadata": {},
   "source": [
    "**Group settings**"
   ]
  },
  {
   "cell_type": "code",
   "execution_count": 117,
   "id": "96541610-8d07-436a-b2de-c6d1a6e8c15d",
   "metadata": {},
   "outputs": [],
   "source": [
    "group_sizes_to_create = cfg.group_sizes_to_create\n",
    "group_similarity_to_create = cfg.group_similarity_to_create\n",
    "group_number = cfg.group_number"
   ]
  },
  {
   "cell_type": "markdown",
   "id": "5bd6902b-124f-4667-a264-a7e2b9605cee",
   "metadata": {},
   "source": [
    "# Similarity evaluation"
   ]
  },
  {
   "cell_type": "code",
   "execution_count": 120,
   "id": "639c1bfa-0a0b-4ade-aec8-adb01bf2804c",
   "metadata": {},
   "outputs": [
    {
     "name": "stdout",
     "output_type": "stream",
     "text": [
      "14\n"
     ]
    }
   ],
   "source": [
    "# Counts the amount of ratings per user\n",
    "ratings_per_user = ratings_df.groupby('UserID').size()\n",
    "\n",
    "# Calculate the average number of ratings per user\n",
    "average_number_of_rating = ratings_per_user.mean()\n",
    "\n",
    "#Round Value\n",
    "rounded_average_number_of_rating = round(average_number_of_rating)\n",
    "print(rounded_average_number_of_rating)"
   ]
  },
  {
   "cell_type": "code",
   "execution_count": 122,
   "id": "89da2a5b-af2b-4740-b2fd-29a2fc7eea76",
   "metadata": {},
   "outputs": [
    {
     "name": "stdout",
     "output_type": "stream",
     "text": [
      "        RatingID   UserID  WineID Vintage  Rating                 Date\n",
      "3            374  1207665  111433    1953     5.0  2017-05-05 06:44:13\n",
      "4            834  1075841  111431    1955     5.0  2016-09-14 20:18:38\n",
      "5            876  1211463  111395    1955     5.0  2021-12-02 23:12:49\n",
      "6           1005  1076348  111433    1955     4.5  2021-06-19 19:53:56\n",
      "8           1029  1225931  111431    1955     5.0  2017-04-24 01:41:52\n",
      "...          ...      ...     ...     ...     ...                  ...\n",
      "149993  21013409  1086949  111484    N.V.     4.5  2019-04-14 17:31:49\n",
      "149994  21013430  1026866  111479    N.V.     4.0  2014-11-22 15:00:48\n",
      "149995  21013438  1000052  111468    N.V.     4.5  2021-12-22 21:03:51\n",
      "149997  21013494  1218581  113690    N.V.     3.5  2019-04-14 17:45:08\n",
      "149999  21013509  1059173  111479    N.V.     5.0  2019-09-08 15:42:28\n",
      "\n",
      "[70480 rows x 6 columns]\n"
     ]
    }
   ],
   "source": [
    "# Count the number of ratings for each user\n",
    "user_counts = ratings_df['UserID'].value_counts()\n",
    "\n",
    "# Filter users who have at least the specified number of ratings\n",
    "filtered_users = user_counts[user_counts <= rounded_average_number_of_rating].index\n",
    "\n",
    "# Filter the DataFrame to keep only these users\n",
    "ratings_df = ratings_df[ratings_df['UserID'].isin(filtered_users)]\n",
    "print(ratings_df)"
   ]
  },
  {
   "cell_type": "code",
   "execution_count": 124,
   "id": "66f9a940-275f-4871-a4cc-d1fca31cc70e",
   "metadata": {},
   "outputs": [],
   "source": [
    "# computing similarity between each pair of users\n",
    "user_matrix = ratings_df.pivot_table(columns='WineID', index='UserID', values='Rating')\n",
    "user_id_set = set(ratings_df['UserID'])\n",
    "user_id_indexes = user_matrix.index.values\n",
    "user_matrix = user_matrix.fillna(0)\n",
    "numpy_array = user_matrix.to_numpy()\n",
    "sim_matrix = np.corrcoef(numpy_array)"
   ]
  },
  {
   "cell_type": "markdown",
   "id": "fcfdb39b-c8e3-4ea2-9f8b-4917c4c66dae",
   "metadata": {},
   "source": [
    "## Visualization of the similarity distribution"
   ]
  },
  {
   "cell_type": "code",
   "execution_count": 126,
   "id": "3cefe30b-fc5a-4cd9-8269-1cd07ca4ff66",
   "metadata": {},
   "outputs": [
    {
     "data": {
      "text/plain": [
       "Text(0.5, 0, \"Pearson's Correlation Coeficient\")"
      ]
     },
     "execution_count": 126,
     "metadata": {},
     "output_type": "execute_result"
    },
    {
     "data": {
      "image/png": "[encoded data removed]",
      "text/plain": [
       "<Figure size 2000x1000 with 1 Axes>"
      ]
     },
     "metadata": {},
     "output_type": "display_data"
    }
   ],
   "source": [
    "%matplotlib inline\n",
    "import matplotlib.pyplot as plt\n",
    "plt.hist(sim_matrix.flatten())\n",
    "plt.yscale(\"log\")\n",
    "plt.xlabel(\"Pearson's Correlation Coeficient\")"
   ]
  },
  {
   "cell_type": "markdown",
   "id": "e08d5696-e75a-4ef7-87e2-8649c2ba7550",
   "metadata": {},
   "source": [
    "## Group creation"
   ]
  },
  {
   "cell_type": "code",
   "execution_count": 128,
   "id": "68873b73-1509-4a67-961a-fd879dbcd58c",
   "metadata": {},
   "outputs": [
    {
     "name": "stdout",
     "output_type": "stream",
     "text": [
      "20\n",
      "40\n",
      "60\n",
      "20\n",
      "40\n",
      "60\n",
      "20\n",
      "40\n",
      "60\n",
      "20\n",
      "40\n",
      "60\n"
     ]
    }
   ],
   "source": [
    "from groups_generators import GroupsGenerator\n",
    "user_id_set = sorted(user_id_set)\n",
    "group_list = list()\n",
    "\n",
    "for group_type in group_similarity_to_create:\n",
    "    grpGenerator = GroupsGenerator.getGroupsGenerator(group_type)\n",
    "    current_list = grpGenerator.generateGroups(user_id_indexes, user_id_set, sim_matrix, group_sizes_to_create, group_number)\n",
    "    group_list = group_list + current_list\n",
    "\n",
    "group_dict = dict()\n",
    "for group_id, group in zip(range(len(group_list)), group_list):\n",
    "    group_dict[group_id] = group"
   ]
  },
  {
   "cell_type": "code",
   "execution_count": 129,
   "id": "df781f21-5d44-4ee9-8d08-a73ceece9387",
   "metadata": {},
   "outputs": [
    {
     "data": {
      "image/png": "[encoded data removed]",
      "text/plain": [
       "<Figure size 2000x1000 with 1 Axes>"
      ]
     },
     "metadata": {},
     "output_type": "display_data"
    }
   ],
   "source": [
    "group_similarity = \"similar\"\n",
    "group_size = 8\n",
    "histogram_list = []\n",
    "for gid in group_dict.keys():\n",
    "    g = group_dict[gid]\n",
    "    if g[\"group_similarity\"] == group_similarity and g[\"group_size\"] == group_size:\n",
    "        member_index = [user_id_indexes.tolist().index(member) for member in g[\"group_members\"]]\n",
    "        s = sim_matrix[member_index]\n",
    "        histogram_list.extend(s[:,member_index].flatten().tolist())\n",
    "\n",
    "        \n",
    "plt.hist(histogram_list)\n",
    "#plt.yscale(\"log\")\n",
    "plt.xlabel(\"PCC for \"+group_similarity+\" groups, size:\"+str(group_size)+\" threshold:\"+str(cfg.similar_threshold))    \n",
    "plt.savefig(\"pcc_\"+group_similarity+\"_\"+str(group_size)+\"_\"+str(int(cfg.similar_threshold*10))+\".png\", dpi=300)"
   ]
  },
  {
   "cell_type": "code",
   "execution_count": 131,
   "id": "93052783-373d-4a79-9494-e0176c560219",
   "metadata": {},
   "outputs": [
    {
     "data": {
      "image/png": "[encoded data removed]",
      "text/plain": [
       "<Figure size 2000x1000 with 1 Axes>"
      ]
     },
     "metadata": {},
     "output_type": "display_data"
    }
   ],
   "source": [
    "group_similarity = \"divergent\"\n",
    "group_size = 8\n",
    "histogram_list = []\n",
    "for gid in group_dict.keys():\n",
    "    g = group_dict[gid]\n",
    "    if g[\"group_similarity\"] == group_similarity and g[\"group_size\"] == group_size:\n",
    "        member_index = [user_id_indexes.tolist().index(member) for member in g[\"group_members\"]]\n",
    "        s = sim_matrix[member_index]\n",
    "        histogram_list.extend(s[:,member_index].flatten().tolist())\n",
    "\n",
    "        \n",
    "plt.hist(histogram_list)\n",
    "#plt.yscale(\"log\")\n",
    "plt.xlabel(\"PCC for \"+group_similarity+\" groups, size:\"+str(group_size)+\" threshold:\"+str(cfg.dissimilar_threshold))    \n",
    "plt.savefig(\"pcc_\"+group_similarity+\"_\"+str(group_size)+\"_\"+str(int(cfg.dissimilar_threshold*10))+\".png\", dpi=300)"
   ]
  },
  {
   "cell_type": "markdown",
   "id": "5a3ecb65-b14d-4adf-95d3-0ad8727bd872",
   "metadata": {},
   "source": [
    "### Comparing groups internal average similarity between the different types and sizes "
   ]
  },
  {
   "cell_type": "code",
   "execution_count": 133,
   "id": "0bfa2fed-658d-41fd-a852-6a3ce40964e0",
   "metadata": {},
   "outputs": [
    {
     "data": {
      "text/html": [
       "<div>\n",
       "<style scoped>\n",
       "    .dataframe tbody tr th:only-of-type {\n",
       "        vertical-align: middle;\n",
       "    }\n",
       "\n",
       "    .dataframe tbody tr th {\n",
       "        vertical-align: top;\n",
       "    }\n",
       "\n",
       "    .dataframe thead th {\n",
       "        text-align: right;\n",
       "    }\n",
       "</style>\n",
       "<table border=\"1\" class=\"dataframe\">\n",
       "  <thead>\n",
       "    <tr style=\"text-align: right;\">\n",
       "      <th></th>\n",
       "      <th>group_id</th>\n",
       "      <th>group_size</th>\n",
       "      <th>group_similarity</th>\n",
       "      <th>group_members</th>\n",
       "      <th>avg_similarity</th>\n",
       "    </tr>\n",
       "  </thead>\n",
       "  <tbody>\n",
       "    <tr>\n",
       "      <th>0</th>\n",
       "      <td>0</td>\n",
       "      <td>2</td>\n",
       "      <td>random</td>\n",
       "      <td>[1229877, 1225159]</td>\n",
       "      <td>0.105180</td>\n",
       "    </tr>\n",
       "    <tr>\n",
       "      <th>1</th>\n",
       "      <td>1</td>\n",
       "      <td>2</td>\n",
       "      <td>random</td>\n",
       "      <td>[1906800, 1173695]</td>\n",
       "      <td>-0.010902</td>\n",
       "    </tr>\n",
       "    <tr>\n",
       "      <th>2</th>\n",
       "      <td>2</td>\n",
       "      <td>2</td>\n",
       "      <td>random</td>\n",
       "      <td>[1182396, 1726673]</td>\n",
       "      <td>-0.003023</td>\n",
       "    </tr>\n",
       "    <tr>\n",
       "      <th>3</th>\n",
       "      <td>3</td>\n",
       "      <td>2</td>\n",
       "      <td>random</td>\n",
       "      <td>[1404745, 1231770]</td>\n",
       "      <td>-0.010938</td>\n",
       "    </tr>\n",
       "    <tr>\n",
       "      <th>4</th>\n",
       "      <td>4</td>\n",
       "      <td>2</td>\n",
       "      <td>random</td>\n",
       "      <td>[1005243, 1225601]</td>\n",
       "      <td>-0.010869</td>\n",
       "    </tr>\n",
       "    <tr>\n",
       "      <th>5</th>\n",
       "      <td>5</td>\n",
       "      <td>2</td>\n",
       "      <td>random</td>\n",
       "      <td>[1175496, 1163035]</td>\n",
       "      <td>-0.006387</td>\n",
       "    </tr>\n",
       "    <tr>\n",
       "      <th>6</th>\n",
       "      <td>6</td>\n",
       "      <td>2</td>\n",
       "      <td>random</td>\n",
       "      <td>[1289991, 1076168]</td>\n",
       "      <td>-0.009043</td>\n",
       "    </tr>\n",
       "    <tr>\n",
       "      <th>7</th>\n",
       "      <td>7</td>\n",
       "      <td>2</td>\n",
       "      <td>random</td>\n",
       "      <td>[1007819, 1318845]</td>\n",
       "      <td>0.124947</td>\n",
       "    </tr>\n",
       "    <tr>\n",
       "      <th>8</th>\n",
       "      <td>8</td>\n",
       "      <td>2</td>\n",
       "      <td>random</td>\n",
       "      <td>[1190213, 1440594]</td>\n",
       "      <td>-0.012489</td>\n",
       "    </tr>\n",
       "    <tr>\n",
       "      <th>9</th>\n",
       "      <td>9</td>\n",
       "      <td>2</td>\n",
       "      <td>random</td>\n",
       "      <td>[1055919, 1214082]</td>\n",
       "      <td>-0.012389</td>\n",
       "    </tr>\n",
       "  </tbody>\n",
       "</table>\n",
       "</div>"
      ],
      "text/plain": [
       "   group_id  group_size group_similarity       group_members  avg_similarity\n",
       "0         0           2           random  [1229877, 1225159]        0.105180\n",
       "1         1           2           random  [1906800, 1173695]       -0.010902\n",
       "2         2           2           random  [1182396, 1726673]       -0.003023\n",
       "3         3           2           random  [1404745, 1231770]       -0.010938\n",
       "4         4           2           random  [1005243, 1225601]       -0.010869\n",
       "5         5           2           random  [1175496, 1163035]       -0.006387\n",
       "6         6           2           random  [1289991, 1076168]       -0.009043\n",
       "7         7           2           random  [1007819, 1318845]        0.124947\n",
       "8         8           2           random  [1190213, 1440594]       -0.012489\n",
       "9         9           2           random  [1055919, 1214082]       -0.012389"
      ]
     },
     "metadata": {},
     "output_type": "display_data"
    }
   ],
   "source": [
    "groups_list = list()\n",
    "for group in group_dict:\n",
    "    groups_list.append(\n",
    "        {\n",
    "            'group_id': group,\n",
    "            'group_size': group_dict[group]['group_size'],\n",
    "            'group_similarity': group_dict[group]['group_similarity'],\n",
    "            'group_members': group_dict[group]['group_members'],\n",
    "            'avg_similarity': group_dict[group]['avg_similarity']\n",
    "        }\n",
    "    )\n",
    "\n",
    "groups_df = pd.DataFrame.from_records(groups_list)\n",
    "display(groups_df.head(10))"
   ]
  },
  {
   "cell_type": "code",
   "execution_count": 135,
   "id": "f2fed3c0-ef28-433d-ad60-f1156e66dfac",
   "metadata": {},
   "outputs": [
    {
     "data": {
      "image/png": "[encoded data removed]",
      "text/plain": [
       "<Figure size 2000x1000 with 1 Axes>"
      ]
     },
     "metadata": {},
     "output_type": "display_data"
    }
   ],
   "source": [
    "import seaborn as sns\n",
    "\n",
    "\n",
    "plt.rcParams[\"figure.figsize\"] = (20,10)\n",
    "sns.boxplot(x = groups_df['group_size'],\n",
    "            y = groups_df['avg_similarity'],\n",
    "            hue = groups_df['group_similarity'])\n",
    "import matplotlib.pyplot as plt"
   ]
  },
  {
   "cell_type": "markdown",
   "id": "2c1a9397-df5f-43a8-b242-8da1b3919fcc",
   "metadata": {},
   "source": [
    "# Train/Test split"
   ]
  },
  {
   "cell_type": "code",
   "execution_count": 528,
   "id": "13a208dd-7909-4550-9964-1a0659f87169",
   "metadata": {},
   "outputs": [],
   "source": [
    "from sklearn.model_selection import train_test_split\n",
    "from sklearn.metrics import precision_recall_fscore_support"
   ]
  },
  {
   "cell_type": "code",
   "execution_count": 530,
   "id": "a25064cb-8a53-455b-b231-42d4482522f7",
   "metadata": {},
   "outputs": [],
   "source": [
    "ratings_df = pd.read_csv(\"../../Datasets/XWines_Slim_1K_wines_150K_ratings/XWines_Slim_150K_ratings.csv\", low_memory=False, encoding=\"utf-8\", memory_map=True)\n",
    "wines_df = pd.read_csv(\"../../Datasets/XWines_Slim_1K_wines_150K_ratings/XWines_Slim_1K_wines.csv\", low_memory=False, encoding=\"utf-8\", memory_map=True)"
   ]
  },
  {
   "cell_type": "code",
   "execution_count": 531,
   "id": "dcc256b8-454d-4959-9bfc-13f5a31da311",
   "metadata": {},
   "outputs": [
    {
     "data": {
      "text/html": [
       "<div>\n",
       "<style scoped>\n",
       "    .dataframe tbody tr th:only-of-type {\n",
       "        vertical-align: middle;\n",
       "    }\n",
       "\n",
       "    .dataframe tbody tr th {\n",
       "        vertical-align: top;\n",
       "    }\n",
       "\n",
       "    .dataframe thead th {\n",
       "        text-align: right;\n",
       "    }\n",
       "</style>\n",
       "<table border=\"1\" class=\"dataframe\">\n",
       "  <thead>\n",
       "    <tr style=\"text-align: right;\">\n",
       "      <th></th>\n",
       "      <th>RatingID</th>\n",
       "      <th>UserID</th>\n",
       "      <th>WineID</th>\n",
       "      <th>Vintage</th>\n",
       "      <th>Rating</th>\n",
       "      <th>Date</th>\n",
       "    </tr>\n",
       "  </thead>\n",
       "  <tbody>\n",
       "    <tr>\n",
       "      <th>0</th>\n",
       "      <td>143</td>\n",
       "      <td>1356810</td>\n",
       "      <td>103471</td>\n",
       "      <td>1950</td>\n",
       "      <td>4.5</td>\n",
       "      <td>2021-11-02 20:52:59</td>\n",
       "    </tr>\n",
       "    <tr>\n",
       "      <th>1</th>\n",
       "      <td>199</td>\n",
       "      <td>1173759</td>\n",
       "      <td>111415</td>\n",
       "      <td>1951</td>\n",
       "      <td>5.0</td>\n",
       "      <td>2015-08-20 17:46:26</td>\n",
       "    </tr>\n",
       "    <tr>\n",
       "      <th>2</th>\n",
       "      <td>348</td>\n",
       "      <td>1164877</td>\n",
       "      <td>111395</td>\n",
       "      <td>1952</td>\n",
       "      <td>5.0</td>\n",
       "      <td>2020-11-13 05:40:26</td>\n",
       "    </tr>\n",
       "    <tr>\n",
       "      <th>3</th>\n",
       "      <td>374</td>\n",
       "      <td>1207665</td>\n",
       "      <td>111433</td>\n",
       "      <td>1953</td>\n",
       "      <td>5.0</td>\n",
       "      <td>2017-05-05 06:44:13</td>\n",
       "    </tr>\n",
       "    <tr>\n",
       "      <th>4</th>\n",
       "      <td>834</td>\n",
       "      <td>1075841</td>\n",
       "      <td>111431</td>\n",
       "      <td>1955</td>\n",
       "      <td>5.0</td>\n",
       "      <td>2016-09-14 20:18:38</td>\n",
       "    </tr>\n",
       "  </tbody>\n",
       "</table>\n",
       "</div>"
      ],
      "text/plain": [
       "   RatingID   UserID  WineID Vintage  Rating                 Date\n",
       "0       143  1356810  103471    1950     4.5  2021-11-02 20:52:59\n",
       "1       199  1173759  111415    1951     5.0  2015-08-20 17:46:26\n",
       "2       348  1164877  111395    1952     5.0  2020-11-13 05:40:26\n",
       "3       374  1207665  111433    1953     5.0  2017-05-05 06:44:13\n",
       "4       834  1075841  111431    1955     5.0  2016-09-14 20:18:38"
      ]
     },
     "execution_count": 531,
     "metadata": {},
     "output_type": "execute_result"
    }
   ],
   "source": [
    "ratings_df.head()"
   ]
  },
  {
   "cell_type": "markdown",
   "id": "ca351718-4ac7-4992-bde7-23ec56fdc354",
   "metadata": {},
   "source": [
    "**To ensure that the distribution of users in the training and test sets is similar, we use stratified sampling. This means that the proportion of users in each group (similar or dissimilar) is preserved in both the training and test sets.**"
   ]
  },
  {
   "cell_type": "code",
   "execution_count": 535,
   "id": "789725b0-6b74-4229-87fc-e6c3ac7ed42e",
   "metadata": {},
   "outputs": [],
   "source": [
    "#items = set(ratings_df[\"WineID\"].tolist())\n",
    "#users = set(ratings_df[\"UserID\"].tolist())\n",
    "\n",
    "#train_df, test_df = train_test_split(filtered_ratings_df, test_size=0.2)\n",
    "\n",
    "#display(train_df.shape)\n",
    "#display(test_df.shape)"
   ]
  },
  {
   "cell_type": "code",
   "execution_count": 555,
   "id": "04648ad4-a852-467f-89fa-d0c7e652ff3d",
   "metadata": {},
   "outputs": [
    {
     "data": {
      "text/plain": [
       "1007"
      ]
     },
     "metadata": {},
     "output_type": "display_data"
    },
    {
     "data": {
      "text/plain": [
       "10561"
      ]
     },
     "metadata": {},
     "output_type": "display_data"
    },
    {
     "data": {
      "text/plain": [
       "1003"
      ]
     },
     "metadata": {},
     "output_type": "display_data"
    },
    {
     "data": {
      "text/plain": [
       "10314"
      ]
     },
     "metadata": {},
     "output_type": "display_data"
    },
    {
     "data": {
      "text/plain": [
       "(119802, 6)"
      ]
     },
     "metadata": {},
     "output_type": "display_data"
    },
    {
     "data": {
      "text/plain": [
       "(29951, 6)"
      ]
     },
     "metadata": {},
     "output_type": "display_data"
    }
   ],
   "source": [
    "# Handle the case where a UserID might have too few ratings by removing such users. This ensures the stratificaiton works\n",
    "# and the test set can make predictions for all users that the training set has seen.\n",
    "user_counts = ratings_df[\"UserID\"].value_counts()\n",
    "filtered_ratings_df = ratings_df[ratings_df[\"UserID\"].isin(user_counts[user_counts >= 2].index)]\n",
    "\n",
    "items = set(ratings_df[\"WineID\"].tolist())\n",
    "users = set(ratings_df[\"UserID\"].tolist())\n",
    "display(len(items))\n",
    "display(len(users))\n",
    "\n",
    "#filtered ratings\n",
    "items_filtered = set(filtered_ratings_df[\"WineID\"].tolist())\n",
    "users_filtered = set(filtered_ratings_df[\"UserID\"].tolist())\n",
    "display(len(items_filtered))\n",
    "display(len(users_filtered))\n",
    "\n",
    "\n",
    "train_df, test_df = train_test_split(filtered_ratings_df, test_size=0.2, stratify=filtered_ratings_df[\"UserID\"])\n",
    "\n",
    "display(train_df.shape)\n",
    "display(test_df.shape)"
   ]
  },
  {
   "cell_type": "markdown",
   "id": "7a6360e0-39bc-42a7-9a32-07ef8e0669d5",
   "metadata": {},
   "source": []
  },
  {
   "cell_type": "code",
   "execution_count": 539,
   "id": "a389aa50-44b6-4df7-9ec8-d9662f908392",
   "metadata": {},
   "outputs": [
    {
     "name": "stdout",
     "output_type": "stream",
     "text": [
      "Missing users in train set: 0\n"
     ]
    }
   ],
   "source": [
    "#check of user coverage\n",
    "train_users = set(train_df['UserID'].unique())\n",
    "test_users = set(test_df['UserID'].unique())\n",
    "missing_users = test_users - train_users\n",
    "print(f\"Missing users in train set: {len(missing_users)}\")"
   ]
  },
  {
   "cell_type": "code",
   "execution_count": 542,
   "id": "b5863956-09b9-4067-8101-dccddec8fcbb",
   "metadata": {},
   "outputs": [
    {
     "name": "stdout",
     "output_type": "stream",
     "text": [
      "Missing items in train set: 4\n"
     ]
    }
   ],
   "source": [
    "train_items = set(train_df['WineID'].unique())\n",
    "test_items = set(test_df['WineID'].unique())\n",
    "missing_items = test_items - train_items\n",
    "print(f\"Missing items in train set: {len(missing_items)}\")"
   ]
  },
  {
   "cell_type": "code",
   "execution_count": 470,
   "id": "57088a62-a038-48c7-b061-0d795463470a",
   "metadata": {},
   "outputs": [
    {
     "name": "stdout",
     "output_type": "stream",
     "text": [
      "Index(['RatingID', 'UserID', 'WineID', 'Vintage', 'Rating', 'Date'], dtype='object')\n"
     ]
    }
   ],
   "source": [
    "print(train_df.columns)"
   ]
  },
  {
   "cell_type": "code",
   "execution_count": 472,
   "id": "6477c5e4-3e07-49a2-8b37-02efe4ab97aa",
   "metadata": {},
   "outputs": [
    {
     "name": "stdout",
     "output_type": "stream",
     "text": [
      "Index(['RatingID', 'user', 'item', 'Vintage', 'rating', 'Date'], dtype='object')\n",
      "Index(['RatingID', 'user', 'item', 'Vintage', 'rating', 'Date'], dtype='object')\n"
     ]
    }
   ],
   "source": [
    "train_df = train_df.rename(columns={'UserID':'user', 'WineID':'item', 'Rating':'rating'})\n",
    "test_df = test_df.rename(columns={'UserID':'user', 'WineID':'item', 'Rating':'rating'})\n",
    "print(test_df.columns)\n",
    "print(train_df.columns)"
   ]
  },
  {
   "cell_type": "markdown",
   "id": "af2e2a56-2b99-4637-a401-2c589e256162",
   "metadata": {},
   "source": [
    "# Individual Recommendations"
   ]
  },
  {
   "cell_type": "code",
   "execution_count": 475,
   "id": "d976646d-5692-4c46-9680-27225a224fd6",
   "metadata": {},
   "outputs": [],
   "source": [
    "import sys\n",
    "import os\n",
    "\n",
    "# Verify path correctness\n",
    "path = '../Individual_Recommenders/'\n",
    "assert os.path.exists(path), f\"Path {path} does not exist\"\n",
    "\n",
    "sys.path.insert(0, path)\n",
    "from IRS import Individual_Recommenders"
   ]
  },
  {
   "cell_type": "code",
   "execution_count": 478,
   "id": "7e8199b5-0386-452b-9f52-cc5c48d93942",
   "metadata": {},
   "outputs": [],
   "source": [
    "instanc_ind_recsys = Individual_Recommenders()\n",
    "\n",
    "#train the model\n",
    "ind_recsys_model = instanc_ind_recsys.useruser_individual_recommender_train(train_df)"
   ]
  },
  {
   "cell_type": "markdown",
   "id": "f6e280f9-55b6-49af-be77-d85188266e13",
   "metadata": {},
   "source": [
    "## Generate predicted ratings"
   ]
  },
  {
   "cell_type": "code",
   "execution_count": 483,
   "id": "66128519-bcf5-472c-8a1c-2fee17b382c1",
   "metadata": {},
   "outputs": [
    {
     "data": {
      "text/html": [
       "<div>\n",
       "<style scoped>\n",
       "    .dataframe tbody tr th:only-of-type {\n",
       "        vertical-align: middle;\n",
       "    }\n",
       "\n",
       "    .dataframe tbody tr th {\n",
       "        vertical-align: top;\n",
       "    }\n",
       "\n",
       "    .dataframe thead th {\n",
       "        text-align: right;\n",
       "    }\n",
       "</style>\n",
       "<table border=\"1\" class=\"dataframe\">\n",
       "  <thead>\n",
       "    <tr style=\"text-align: right;\">\n",
       "      <th></th>\n",
       "      <th>item</th>\n",
       "      <th>user</th>\n",
       "    </tr>\n",
       "  </thead>\n",
       "  <tbody>\n",
       "    <tr>\n",
       "      <th>0</th>\n",
       "      <td>112641</td>\n",
       "      <td>1245188</td>\n",
       "    </tr>\n",
       "    <tr>\n",
       "      <th>1</th>\n",
       "      <td>112641</td>\n",
       "      <td>1245200</td>\n",
       "    </tr>\n",
       "    <tr>\n",
       "      <th>2</th>\n",
       "      <td>112641</td>\n",
       "      <td>1212437</td>\n",
       "    </tr>\n",
       "    <tr>\n",
       "      <th>3</th>\n",
       "      <td>112641</td>\n",
       "      <td>1212442</td>\n",
       "    </tr>\n",
       "    <tr>\n",
       "      <th>4</th>\n",
       "      <td>112641</td>\n",
       "      <td>1212444</td>\n",
       "    </tr>\n",
       "    <tr>\n",
       "      <th>...</th>\n",
       "      <td>...</td>\n",
       "      <td>...</td>\n",
       "    </tr>\n",
       "    <tr>\n",
       "      <th>9634235</th>\n",
       "      <td>155647</td>\n",
       "      <td>1179634</td>\n",
       "    </tr>\n",
       "    <tr>\n",
       "      <th>9634236</th>\n",
       "      <td>155647</td>\n",
       "      <td>1179637</td>\n",
       "    </tr>\n",
       "    <tr>\n",
       "      <th>9634237</th>\n",
       "      <td>155647</td>\n",
       "      <td>1703926</td>\n",
       "    </tr>\n",
       "    <tr>\n",
       "      <th>9634238</th>\n",
       "      <td>155647</td>\n",
       "      <td>1048570</td>\n",
       "    </tr>\n",
       "    <tr>\n",
       "      <th>9634239</th>\n",
       "      <td>155647</td>\n",
       "      <td>1081343</td>\n",
       "    </tr>\n",
       "  </tbody>\n",
       "</table>\n",
       "<p>9634240 rows × 2 columns</p>\n",
       "</div>"
      ],
      "text/plain": [
       "           item     user\n",
       "0        112641  1245188\n",
       "1        112641  1245200\n",
       "2        112641  1212437\n",
       "3        112641  1212442\n",
       "4        112641  1212444\n",
       "...         ...      ...\n",
       "9634235  155647  1179634\n",
       "9634236  155647  1179637\n",
       "9634237  155647  1703926\n",
       "9634238  155647  1048570\n",
       "9634239  155647  1081343\n",
       "\n",
       "[9634240 rows x 2 columns]"
      ]
     },
     "metadata": {},
     "output_type": "display_data"
    }
   ],
   "source": [
    "#list of unique users and items \n",
    "test_item = set(test_df[\"item\"].tolist())\n",
    "test_user = set(test_df[\"user\"].tolist())\n",
    "\n",
    "#generate dataframe where each row represents 1 user-item pair\n",
    "extended_test_df = pd.DataFrame({'item': list(test_item)}).merge(pd.DataFrame({'user': list(test_user)}), how='cross')\n",
    "display(extended_test_df)"
   ]
  },
  {
   "cell_type": "code",
   "execution_count": 431,
   "id": "48d11270-2481-4c51-b411-f6b42341be4a",
   "metadata": {},
   "outputs": [
    {
     "data": {
      "text/html": [
       "<div>\n",
       "<style scoped>\n",
       "    .dataframe tbody tr th:only-of-type {\n",
       "        vertical-align: middle;\n",
       "    }\n",
       "\n",
       "    .dataframe tbody tr th {\n",
       "        vertical-align: top;\n",
       "    }\n",
       "\n",
       "    .dataframe thead th {\n",
       "        text-align: right;\n",
       "    }\n",
       "</style>\n",
       "<table border=\"1\" class=\"dataframe\">\n",
       "  <thead>\n",
       "    <tr style=\"text-align: right;\">\n",
       "      <th></th>\n",
       "      <th>item</th>\n",
       "      <th>user</th>\n",
       "      <th>predicted_rating</th>\n",
       "    </tr>\n",
       "  </thead>\n",
       "  <tbody>\n",
       "    <tr>\n",
       "      <th>0</th>\n",
       "      <td>112641</td>\n",
       "      <td>1245188</td>\n",
       "      <td>3.667472</td>\n",
       "    </tr>\n",
       "    <tr>\n",
       "      <th>1</th>\n",
       "      <td>112641</td>\n",
       "      <td>1245200</td>\n",
       "      <td>3.183655</td>\n",
       "    </tr>\n",
       "    <tr>\n",
       "      <th>2</th>\n",
       "      <td>112641</td>\n",
       "      <td>1212437</td>\n",
       "      <td>3.654864</td>\n",
       "    </tr>\n",
       "    <tr>\n",
       "      <th>3</th>\n",
       "      <td>112641</td>\n",
       "      <td>1212442</td>\n",
       "      <td>3.293305</td>\n",
       "    </tr>\n",
       "    <tr>\n",
       "      <th>4</th>\n",
       "      <td>112641</td>\n",
       "      <td>1212444</td>\n",
       "      <td>3.754603</td>\n",
       "    </tr>\n",
       "    <tr>\n",
       "      <th>...</th>\n",
       "      <td>...</td>\n",
       "      <td>...</td>\n",
       "      <td>...</td>\n",
       "    </tr>\n",
       "    <tr>\n",
       "      <th>9675451</th>\n",
       "      <td>163839</td>\n",
       "      <td>1179634</td>\n",
       "      <td>NaN</td>\n",
       "    </tr>\n",
       "    <tr>\n",
       "      <th>9675452</th>\n",
       "      <td>163839</td>\n",
       "      <td>1179637</td>\n",
       "      <td>NaN</td>\n",
       "    </tr>\n",
       "    <tr>\n",
       "      <th>9675453</th>\n",
       "      <td>163839</td>\n",
       "      <td>1703926</td>\n",
       "      <td>NaN</td>\n",
       "    </tr>\n",
       "    <tr>\n",
       "      <th>9675454</th>\n",
       "      <td>163839</td>\n",
       "      <td>1048570</td>\n",
       "      <td>NaN</td>\n",
       "    </tr>\n",
       "    <tr>\n",
       "      <th>9675455</th>\n",
       "      <td>163839</td>\n",
       "      <td>1081343</td>\n",
       "      <td>NaN</td>\n",
       "    </tr>\n",
       "  </tbody>\n",
       "</table>\n",
       "<p>9675456 rows × 3 columns</p>\n",
       "</div>"
      ],
      "text/plain": [
       "           item     user  predicted_rating\n",
       "0        112641  1245188          3.667472\n",
       "1        112641  1245200          3.183655\n",
       "2        112641  1212437          3.654864\n",
       "3        112641  1212442          3.293305\n",
       "4        112641  1212444          3.754603\n",
       "...         ...      ...               ...\n",
       "9675451  163839  1179634               NaN\n",
       "9675452  163839  1179637               NaN\n",
       "9675453  163839  1703926               NaN\n",
       "9675454  163839  1048570               NaN\n",
       "9675455  163839  1081343               NaN\n",
       "\n",
       "[9675456 rows x 3 columns]"
      ]
     },
     "metadata": {},
     "output_type": "display_data"
    }
   ],
   "source": [
    "#do predictions \n",
    "extended_test_df['predicted_rating'] = ind_recsys_model.predict(extended_test_df)\n",
    "display(extended_test_df)"
   ]
  },
  {
   "cell_type": "code",
   "execution_count": 434,
   "id": "d32146a0-6d18-4ae7-a040-415b9750fec9",
   "metadata": {},
   "outputs": [
    {
     "data": {
      "text/html": [
       "<div>\n",
       "<style scoped>\n",
       "    .dataframe tbody tr th:only-of-type {\n",
       "        vertical-align: middle;\n",
       "    }\n",
       "\n",
       "    .dataframe tbody tr th {\n",
       "        vertical-align: top;\n",
       "    }\n",
       "\n",
       "    .dataframe thead th {\n",
       "        text-align: right;\n",
       "    }\n",
       "</style>\n",
       "<table border=\"1\" class=\"dataframe\">\n",
       "  <thead>\n",
       "    <tr style=\"text-align: right;\">\n",
       "      <th></th>\n",
       "      <th>item</th>\n",
       "      <th>user</th>\n",
       "      <th>predicted_rating</th>\n",
       "    </tr>\n",
       "  </thead>\n",
       "  <tbody>\n",
       "    <tr>\n",
       "      <th>9</th>\n",
       "      <td>112641</td>\n",
       "      <td>1146924</td>\n",
       "      <td>NaN</td>\n",
       "    </tr>\n",
       "    <tr>\n",
       "      <th>11</th>\n",
       "      <td>112641</td>\n",
       "      <td>1146927</td>\n",
       "      <td>NaN</td>\n",
       "    </tr>\n",
       "    <tr>\n",
       "      <th>12</th>\n",
       "      <td>112641</td>\n",
       "      <td>1474609</td>\n",
       "      <td>NaN</td>\n",
       "    </tr>\n",
       "    <tr>\n",
       "      <th>32</th>\n",
       "      <td>112641</td>\n",
       "      <td>1245295</td>\n",
       "      <td>NaN</td>\n",
       "    </tr>\n",
       "    <tr>\n",
       "      <th>63</th>\n",
       "      <td>112641</td>\n",
       "      <td>1212680</td>\n",
       "      <td>NaN</td>\n",
       "    </tr>\n",
       "    <tr>\n",
       "      <th>...</th>\n",
       "      <td>...</td>\n",
       "      <td>...</td>\n",
       "      <td>...</td>\n",
       "    </tr>\n",
       "    <tr>\n",
       "      <th>9675451</th>\n",
       "      <td>163839</td>\n",
       "      <td>1179634</td>\n",
       "      <td>NaN</td>\n",
       "    </tr>\n",
       "    <tr>\n",
       "      <th>9675452</th>\n",
       "      <td>163839</td>\n",
       "      <td>1179637</td>\n",
       "      <td>NaN</td>\n",
       "    </tr>\n",
       "    <tr>\n",
       "      <th>9675453</th>\n",
       "      <td>163839</td>\n",
       "      <td>1703926</td>\n",
       "      <td>NaN</td>\n",
       "    </tr>\n",
       "    <tr>\n",
       "      <th>9675454</th>\n",
       "      <td>163839</td>\n",
       "      <td>1048570</td>\n",
       "      <td>NaN</td>\n",
       "    </tr>\n",
       "    <tr>\n",
       "      <th>9675455</th>\n",
       "      <td>163839</td>\n",
       "      <td>1081343</td>\n",
       "      <td>NaN</td>\n",
       "    </tr>\n",
       "  </tbody>\n",
       "</table>\n",
       "<p>3735135 rows × 3 columns</p>\n",
       "</div>"
      ],
      "text/plain": [
       "           item     user  predicted_rating\n",
       "9        112641  1146924               NaN\n",
       "11       112641  1146927               NaN\n",
       "12       112641  1474609               NaN\n",
       "32       112641  1245295               NaN\n",
       "63       112641  1212680               NaN\n",
       "...         ...      ...               ...\n",
       "9675451  163839  1179634               NaN\n",
       "9675452  163839  1179637               NaN\n",
       "9675453  163839  1703926               NaN\n",
       "9675454  163839  1048570               NaN\n",
       "9675455  163839  1081343               NaN\n",
       "\n",
       "[3735135 rows x 3 columns]"
      ]
     },
     "metadata": {},
     "output_type": "display_data"
    }
   ],
   "source": [
    "display(extended_test_df[extended_test_df['predicted_rating'].isna()])"
   ]
  },
  {
   "cell_type": "markdown",
   "id": "be708ad1-6fbf-4046-b85a-7c753ff916e9",
   "metadata": {},
   "source": [
    "# Aggregation strategies\n",
    "\n",
    "**In the following we will look at differnt Aggregation strategies such as:**\n",
    "- Additive Aggregator\n",
    "- LeastMiseryAggregator\n",
    "- BalancedAggregator\n",
    "- EPFuzzDAAggregator"
   ]
  },
  {
   "cell_type": "code",
   "execution_count": 118,
   "id": "973e947c-b7b6-41d5-8b01-d3b73ed0285f",
   "metadata": {},
   "outputs": [],
   "source": [
    "import aggregation_strategies.aggregators as aggr_utils\n",
    "\n",
    "\n",
    "# all aggregation_strategies = [\"BASE\", \"ADD\", \"LMS\", \"GFAR\", \"EPFuzzDA\"]\n",
    "#aggregation_strategies = [\"BASE\", \"ADD\", \"LMS\"]\n",
    "aggregation_strategies = [\"BASE\"]\n",
    "\n",
    "recommendations_number = 10 #number of recommendations to make\n",
    "\n",
    "def generate_group_recommendations_forall_groups(test_df, group_dict, recommendations_number):\n",
    "    group_recommendations = dict()\n",
    "    for group_id in group_dict:\n",
    "        \n",
    "        # extract group info\n",
    "        group = group_dict[group_id]\n",
    "        group_size = group['group_size']\n",
    "        group_similarity = group['group_similarity']\n",
    "        group_members = group['group_members']\n",
    "            \n",
    "        group_ratings = test_df.loc[test_df['user'].isin(group_members)]\n",
    "        \n",
    "        group_rec = dict()\n",
    "        for aggregation_strategy in aggregation_strategies:\n",
    "            agg = aggr_utils.AggregationStrategy.getAggregator(aggregation_strategy)\n",
    "            group_rec = {**group_rec, **agg.generate_group_recommendations_for_group(group_ratings, recommendations_number)}\n",
    "        \n",
    "        \n",
    "        group_recommendations[group_id] = group_rec\n",
    "        \n",
    "    return group_recommendations"
   ]
  },
  {
   "cell_type": "code",
   "execution_count": 120,
   "id": "bf184826-38ab-4261-ae84-d2a482cb29c7",
   "metadata": {},
   "outputs": [
    {
     "name": "stderr",
     "output_type": "stream",
     "text": [
      "/Users/sebastian/Documents/Documents - MacBook Air von Sebastian/Maastricht University/Year 3/Recommender Systems/Project repository/RecommenderSystems/Group Recommender/aggregation_strategies/aggregators.py:52: FutureWarning: The provided callable <function sum at 0x108b5d3a0> is currently using SeriesGroupBy.sum. In a future version of pandas, the provided callable will be used directly. To keep current behavior pass the string \"sum\" instead.\n",
      "  aggregated_df = group_ratings.groupby('item').agg({\"predicted_rating\": [np.sum, np.prod, np.min, np.max]})\n",
      "/Users/sebastian/Documents/Documents - MacBook Air von Sebastian/Maastricht University/Year 3/Recommender Systems/Project repository/RecommenderSystems/Group Recommender/aggregation_strategies/aggregators.py:52: FutureWarning: The provided callable <function prod at 0x108b5dda0> is currently using SeriesGroupBy.prod. In a future version of pandas, the provided callable will be used directly. To keep current behavior pass the string \"prod\" instead.\n",
      "  aggregated_df = group_ratings.groupby('item').agg({\"predicted_rating\": [np.sum, np.prod, np.min, np.max]})\n",
      "/Users/sebastian/Documents/Documents - MacBook Air von Sebastian/Maastricht University/Year 3/Recommender Systems/Project repository/RecommenderSystems/Group Recommender/aggregation_strategies/aggregators.py:52: FutureWarning: The provided callable <function min at 0x108b5dbc0> is currently using SeriesGroupBy.min. In a future version of pandas, the provided callable will be used directly. To keep current behavior pass the string \"min\" instead.\n",
      "  aggregated_df = group_ratings.groupby('item').agg({\"predicted_rating\": [np.sum, np.prod, np.min, np.max]})\n",
      "/Users/sebastian/Documents/Documents - MacBook Air von Sebastian/Maastricht University/Year 3/Recommender Systems/Project repository/RecommenderSystems/Group Recommender/aggregation_strategies/aggregators.py:52: FutureWarning: The provided callable <function max at 0x108b5da80> is currently using SeriesGroupBy.max. In a future version of pandas, the provided callable will be used directly. To keep current behavior pass the string \"max\" instead.\n",
      "  aggregated_df = group_ratings.groupby('item').agg({\"predicted_rating\": [np.sum, np.prod, np.min, np.max]})\n"
     ]
    },
    {
     "ename": "KeyError",
     "evalue": "'amin'",
     "output_type": "error",
     "traceback": [
      "\u001b[0;31m---------------------------------------------------------------------------\u001b[0m",
      "\u001b[0;31mKeyError\u001b[0m                                  Traceback (most recent call last)",
      "\u001b[0;32m/var/folders/cf/q7bl9m0529ncggwfh1ml6k5m0000gn/T/ipykernel_4465/340890786.py\u001b[0m in \u001b[0;36m?\u001b[0;34m()\u001b[0m\n\u001b[0;32m----> 1\u001b[0;31m \u001b[0mgroup_recommendations\u001b[0m \u001b[0;34m=\u001b[0m \u001b[0mgenerate_group_recommendations_forall_groups\u001b[0m\u001b[0;34m(\u001b[0m\u001b[0mextended_test_df\u001b[0m\u001b[0;34m,\u001b[0m \u001b[0mgroup_dict\u001b[0m\u001b[0;34m,\u001b[0m \u001b[0mrecommendations_number\u001b[0m\u001b[0;34m)\u001b[0m\u001b[0;34m\u001b[0m\u001b[0;34m\u001b[0m\u001b[0m\n\u001b[0m",
      "\u001b[0;32m/var/folders/cf/q7bl9m0529ncggwfh1ml6k5m0000gn/T/ipykernel_4465/2946303637.py\u001b[0m in \u001b[0;36m?\u001b[0;34m(test_df, group_dict, recommendations_number)\u001b[0m\n\u001b[1;32m     21\u001b[0m \u001b[0;34m\u001b[0m\u001b[0m\n\u001b[1;32m     22\u001b[0m         \u001b[0mgroup_rec\u001b[0m \u001b[0;34m=\u001b[0m \u001b[0mdict\u001b[0m\u001b[0;34m(\u001b[0m\u001b[0;34m)\u001b[0m\u001b[0;34m\u001b[0m\u001b[0;34m\u001b[0m\u001b[0m\n\u001b[1;32m     23\u001b[0m         \u001b[0;32mfor\u001b[0m \u001b[0maggregation_strategy\u001b[0m \u001b[0;32min\u001b[0m \u001b[0maggregation_strategies\u001b[0m\u001b[0;34m:\u001b[0m\u001b[0;34m\u001b[0m\u001b[0;34m\u001b[0m\u001b[0m\n\u001b[1;32m     24\u001b[0m             \u001b[0magg\u001b[0m \u001b[0;34m=\u001b[0m \u001b[0maggr_utils\u001b[0m\u001b[0;34m.\u001b[0m\u001b[0mAggregationStrategy\u001b[0m\u001b[0;34m.\u001b[0m\u001b[0mgetAggregator\u001b[0m\u001b[0;34m(\u001b[0m\u001b[0maggregation_strategy\u001b[0m\u001b[0;34m)\u001b[0m\u001b[0;34m\u001b[0m\u001b[0;34m\u001b[0m\u001b[0m\n\u001b[0;32m---> 25\u001b[0;31m             \u001b[0mgroup_rec\u001b[0m \u001b[0;34m=\u001b[0m \u001b[0;34m{\u001b[0m\u001b[0;34m**\u001b[0m\u001b[0mgroup_rec\u001b[0m\u001b[0;34m,\u001b[0m \u001b[0;34m**\u001b[0m\u001b[0magg\u001b[0m\u001b[0;34m.\u001b[0m\u001b[0mgenerate_group_recommendations_for_group\u001b[0m\u001b[0;34m(\u001b[0m\u001b[0mgroup_ratings\u001b[0m\u001b[0;34m,\u001b[0m \u001b[0mrecommendations_number\u001b[0m\u001b[0;34m)\u001b[0m\u001b[0;34m}\u001b[0m\u001b[0;34m\u001b[0m\u001b[0;34m\u001b[0m\u001b[0m\n\u001b[0m\u001b[1;32m     26\u001b[0m \u001b[0;34m\u001b[0m\u001b[0m\n\u001b[1;32m     27\u001b[0m \u001b[0;34m\u001b[0m\u001b[0m\n\u001b[1;32m     28\u001b[0m         \u001b[0mgroup_recommendations\u001b[0m\u001b[0;34m[\u001b[0m\u001b[0mgroup_id\u001b[0m\u001b[0;34m]\u001b[0m \u001b[0;34m=\u001b[0m \u001b[0mgroup_rec\u001b[0m\u001b[0;34m\u001b[0m\u001b[0;34m\u001b[0m\u001b[0m\n",
      "\u001b[0;32m~/Documents/Documents - MacBook Air von Sebastian/Maastricht University/Year 3/Recommender Systems/Project repository/RecommenderSystems/Group Recommender/aggregation_strategies/aggregators.py\u001b[0m in \u001b[0;36m?\u001b[0;34m(self, group_ratings, recommendations_number)\u001b[0m\n\u001b[1;32m     58\u001b[0m         \u001b[0;31m# multiplicative\u001b[0m\u001b[0;34m\u001b[0m\u001b[0;34m\u001b[0m\u001b[0m\n\u001b[1;32m     59\u001b[0m         \u001b[0mmul_df\u001b[0m \u001b[0;34m=\u001b[0m \u001b[0maggregated_df\u001b[0m\u001b[0;34m.\u001b[0m\u001b[0msort_values\u001b[0m\u001b[0;34m(\u001b[0m\u001b[0mby\u001b[0m\u001b[0;34m=\u001b[0m\u001b[0;34m\"prod\"\u001b[0m\u001b[0;34m,\u001b[0m \u001b[0mascending\u001b[0m\u001b[0;34m=\u001b[0m\u001b[0;32mFalse\u001b[0m\u001b[0;34m)\u001b[0m\u001b[0;34m.\u001b[0m\u001b[0mreset_index\u001b[0m\u001b[0;34m(\u001b[0m\u001b[0;34m)\u001b[0m\u001b[0;34m[\u001b[0m\u001b[0;34m[\u001b[0m\u001b[0;34m'item'\u001b[0m\u001b[0;34m,\u001b[0m \u001b[0;34m'prod'\u001b[0m\u001b[0;34m]\u001b[0m\u001b[0;34m]\u001b[0m\u001b[0;34m\u001b[0m\u001b[0;34m\u001b[0m\u001b[0m\n\u001b[1;32m     60\u001b[0m         \u001b[0mmul_recommendation_list\u001b[0m \u001b[0;34m=\u001b[0m \u001b[0mlist\u001b[0m\u001b[0;34m(\u001b[0m\u001b[0mmul_df\u001b[0m\u001b[0;34m.\u001b[0m\u001b[0mhead\u001b[0m\u001b[0;34m(\u001b[0m\u001b[0mrecommendations_number\u001b[0m\u001b[0;34m)\u001b[0m\u001b[0;34m[\u001b[0m\u001b[0;34m'item'\u001b[0m\u001b[0;34m]\u001b[0m\u001b[0;34m)\u001b[0m\u001b[0;34m\u001b[0m\u001b[0;34m\u001b[0m\u001b[0m\n\u001b[1;32m     61\u001b[0m         \u001b[0;31m# least misery\u001b[0m\u001b[0;34m\u001b[0m\u001b[0;34m\u001b[0m\u001b[0m\n\u001b[0;32m---> 62\u001b[0;31m         \u001b[0mlms_df\u001b[0m \u001b[0;34m=\u001b[0m \u001b[0maggregated_df\u001b[0m\u001b[0;34m.\u001b[0m\u001b[0msort_values\u001b[0m\u001b[0;34m(\u001b[0m\u001b[0mby\u001b[0m\u001b[0;34m=\u001b[0m\u001b[0;34m\"min\"\u001b[0m\u001b[0;34m,\u001b[0m \u001b[0mascending\u001b[0m\u001b[0;34m=\u001b[0m\u001b[0;32mFalse\u001b[0m\u001b[0;34m)\u001b[0m\u001b[0;34m.\u001b[0m\u001b[0mreset_index\u001b[0m\u001b[0;34m(\u001b[0m\u001b[0;34m)\u001b[0m\u001b[0;34m[\u001b[0m\u001b[0;34m[\u001b[0m\u001b[0;34m'item'\u001b[0m\u001b[0;34m,\u001b[0m \u001b[0;34m'min'\u001b[0m\u001b[0;34m]\u001b[0m\u001b[0;34m]\u001b[0m\u001b[0;34m\u001b[0m\u001b[0;34m\u001b[0m\u001b[0m\n\u001b[0m\u001b[1;32m     63\u001b[0m         \u001b[0mlms_recommendation_list\u001b[0m \u001b[0;34m=\u001b[0m \u001b[0mlist\u001b[0m\u001b[0;34m(\u001b[0m\u001b[0mlms_df\u001b[0m\u001b[0;34m.\u001b[0m\u001b[0mhead\u001b[0m\u001b[0;34m(\u001b[0m\u001b[0mrecommendations_number\u001b[0m\u001b[0;34m)\u001b[0m\u001b[0;34m[\u001b[0m\u001b[0;34m'item'\u001b[0m\u001b[0;34m]\u001b[0m\u001b[0;34m)\u001b[0m\u001b[0;34m\u001b[0m\u001b[0;34m\u001b[0m\u001b[0m\n\u001b[1;32m     64\u001b[0m         \u001b[0;31m# most pleasure\u001b[0m\u001b[0;34m\u001b[0m\u001b[0;34m\u001b[0m\u001b[0m\n\u001b[1;32m     65\u001b[0m         \u001b[0mmpl_df\u001b[0m \u001b[0;34m=\u001b[0m \u001b[0maggregated_df\u001b[0m\u001b[0;34m.\u001b[0m\u001b[0msort_values\u001b[0m\u001b[0;34m(\u001b[0m\u001b[0mby\u001b[0m\u001b[0;34m=\u001b[0m\u001b[0;34m\"max\"\u001b[0m\u001b[0;34m,\u001b[0m \u001b[0mascending\u001b[0m\u001b[0;34m=\u001b[0m\u001b[0;32mFalse\u001b[0m\u001b[0;34m)\u001b[0m\u001b[0;34m.\u001b[0m\u001b[0mreset_index\u001b[0m\u001b[0;34m(\u001b[0m\u001b[0;34m)\u001b[0m\u001b[0;34m[\u001b[0m\u001b[0;34m[\u001b[0m\u001b[0;34m'item'\u001b[0m\u001b[0;34m,\u001b[0m \u001b[0;34m'max'\u001b[0m\u001b[0;34m]\u001b[0m\u001b[0;34m]\u001b[0m\u001b[0;34m\u001b[0m\u001b[0;34m\u001b[0m\u001b[0m\n",
      "\u001b[0;32m/opt/anaconda3/lib/python3.11/site-packages/pandas/core/frame.py\u001b[0m in \u001b[0;36m?\u001b[0;34m(self, by, axis, ascending, inplace, kind, na_position, ignore_index, key)\u001b[0m\n\u001b[1;32m   6940\u001b[0m             )\n\u001b[1;32m   6941\u001b[0m         \u001b[0;32melif\u001b[0m \u001b[0mlen\u001b[0m\u001b[0;34m(\u001b[0m\u001b[0mby\u001b[0m\u001b[0;34m)\u001b[0m\u001b[0;34m:\u001b[0m\u001b[0;34m\u001b[0m\u001b[0;34m\u001b[0m\u001b[0m\n\u001b[1;32m   6942\u001b[0m             \u001b[0;31m# len(by) == 1\u001b[0m\u001b[0;34m\u001b[0m\u001b[0;34m\u001b[0m\u001b[0m\n\u001b[1;32m   6943\u001b[0m \u001b[0;34m\u001b[0m\u001b[0m\n\u001b[0;32m-> 6944\u001b[0;31m             \u001b[0mk\u001b[0m \u001b[0;34m=\u001b[0m \u001b[0mself\u001b[0m\u001b[0;34m.\u001b[0m\u001b[0m_get_label_or_level_values\u001b[0m\u001b[0;34m(\u001b[0m\u001b[0mby\u001b[0m\u001b[0;34m[\u001b[0m\u001b[0;36m0\u001b[0m\u001b[0;34m]\u001b[0m\u001b[0;34m,\u001b[0m \u001b[0maxis\u001b[0m\u001b[0;34m=\u001b[0m\u001b[0maxis\u001b[0m\u001b[0;34m)\u001b[0m\u001b[0;34m\u001b[0m\u001b[0;34m\u001b[0m\u001b[0m\n\u001b[0m\u001b[1;32m   6945\u001b[0m \u001b[0;34m\u001b[0m\u001b[0m\n\u001b[1;32m   6946\u001b[0m             \u001b[0;31m# need to rewrap column in Series to apply key function\u001b[0m\u001b[0;34m\u001b[0m\u001b[0;34m\u001b[0m\u001b[0m\n\u001b[1;32m   6947\u001b[0m             \u001b[0;32mif\u001b[0m \u001b[0mkey\u001b[0m \u001b[0;32mis\u001b[0m \u001b[0;32mnot\u001b[0m \u001b[0;32mNone\u001b[0m\u001b[0;34m:\u001b[0m\u001b[0;34m\u001b[0m\u001b[0;34m\u001b[0m\u001b[0m\n",
      "\u001b[0;32m/opt/anaconda3/lib/python3.11/site-packages/pandas/core/generic.py\u001b[0m in \u001b[0;36m?\u001b[0;34m(self, key, axis)\u001b[0m\n\u001b[1;32m   1840\u001b[0m             \u001b[0mvalues\u001b[0m \u001b[0;34m=\u001b[0m \u001b[0mself\u001b[0m\u001b[0;34m.\u001b[0m\u001b[0mxs\u001b[0m\u001b[0;34m(\u001b[0m\u001b[0mkey\u001b[0m\u001b[0;34m,\u001b[0m \u001b[0maxis\u001b[0m\u001b[0;34m=\u001b[0m\u001b[0mother_axes\u001b[0m\u001b[0;34m[\u001b[0m\u001b[0;36m0\u001b[0m\u001b[0;34m]\u001b[0m\u001b[0;34m)\u001b[0m\u001b[0;34m.\u001b[0m\u001b[0m_values\u001b[0m\u001b[0;34m\u001b[0m\u001b[0;34m\u001b[0m\u001b[0m\n\u001b[1;32m   1841\u001b[0m         \u001b[0;32melif\u001b[0m \u001b[0mself\u001b[0m\u001b[0;34m.\u001b[0m\u001b[0m_is_level_reference\u001b[0m\u001b[0;34m(\u001b[0m\u001b[0mkey\u001b[0m\u001b[0;34m,\u001b[0m \u001b[0maxis\u001b[0m\u001b[0;34m=\u001b[0m\u001b[0maxis\u001b[0m\u001b[0;34m)\u001b[0m\u001b[0;34m:\u001b[0m\u001b[0;34m\u001b[0m\u001b[0;34m\u001b[0m\u001b[0m\n\u001b[1;32m   1842\u001b[0m             \u001b[0mvalues\u001b[0m \u001b[0;34m=\u001b[0m \u001b[0mself\u001b[0m\u001b[0;34m.\u001b[0m\u001b[0maxes\u001b[0m\u001b[0;34m[\u001b[0m\u001b[0maxis\u001b[0m\u001b[0;34m]\u001b[0m\u001b[0;34m.\u001b[0m\u001b[0mget_level_values\u001b[0m\u001b[0;34m(\u001b[0m\u001b[0mkey\u001b[0m\u001b[0;34m)\u001b[0m\u001b[0;34m.\u001b[0m\u001b[0m_values\u001b[0m\u001b[0;34m\u001b[0m\u001b[0;34m\u001b[0m\u001b[0m\n\u001b[1;32m   1843\u001b[0m         \u001b[0;32melse\u001b[0m\u001b[0;34m:\u001b[0m\u001b[0;34m\u001b[0m\u001b[0;34m\u001b[0m\u001b[0m\n\u001b[0;32m-> 1844\u001b[0;31m             \u001b[0;32mraise\u001b[0m \u001b[0mKeyError\u001b[0m\u001b[0;34m(\u001b[0m\u001b[0mkey\u001b[0m\u001b[0;34m)\u001b[0m\u001b[0;34m\u001b[0m\u001b[0;34m\u001b[0m\u001b[0m\n\u001b[0m\u001b[1;32m   1845\u001b[0m \u001b[0;34m\u001b[0m\u001b[0m\n\u001b[1;32m   1846\u001b[0m         \u001b[0;31m# Check for duplicates\u001b[0m\u001b[0;34m\u001b[0m\u001b[0;34m\u001b[0m\u001b[0m\n\u001b[1;32m   1847\u001b[0m         \u001b[0;32mif\u001b[0m \u001b[0mvalues\u001b[0m\u001b[0;34m.\u001b[0m\u001b[0mndim\u001b[0m \u001b[0;34m>\u001b[0m \u001b[0;36m1\u001b[0m\u001b[0;34m:\u001b[0m\u001b[0;34m\u001b[0m\u001b[0;34m\u001b[0m\u001b[0m\n",
      "\u001b[0;31mKeyError\u001b[0m: 'amin'"
     ]
    }
   ],
   "source": [
    "group_recommendations = generate_group_recommendations_forall_groups(extended_test_df, group_dict, recommendations_number)"
   ]
  }
 ],
 "metadata": {
  "kernelspec": {
   "display_name": "Python 3 (ipykernel)",
   "language": "python",
   "name": "python3"
  },
  "language_info": {
   "codemirror_mode": {
    "name": "ipython",
    "version": 3
   },
   "file_extension": ".py",
   "mimetype": "text/x-python",
   "name": "python",
   "nbconvert_exporter": "python",
   "pygments_lexer": "ipython3",
   "version": "3.11.7"
  }
 },
 "nbformat": 4,
 "nbformat_minor": 5
}
