{
 "cells": [
  {
   "cell_type": "code",
   "id": "8e2be399-cfdb-4b76-b65e-61fe3c93fa36",
   "metadata": {
    "ExecuteTime": {
     "end_time": "2024-10-04T00:02:44.174686Z",
     "start_time": "2024-10-04T00:02:44.163647Z"
    }
   },
   "source": [
    "## all imports up here, rerun this block when adding\n",
    "import pandas as pd\n",
    "import numpy as np\n",
    "import cv2 as cv\n",
    "import sys\n",
    "sys.path.insert(0, '../Synthetic Group Creation/')\n",
    "from groups_generators import GroupsGenerator\n",
    "sys.path.insert(0, '../Synthetic Group Creation/')\n",
    "import config as cfg  "
   ],
   "outputs": [],
   "execution_count": 6
  },
  {
   "cell_type": "code",
   "id": "fb44a283-6534-4f85-ae76-1a041d0b039f",
   "metadata": {
    "ExecuteTime": {
     "end_time": "2024-10-04T00:02:44.617486Z",
     "start_time": "2024-10-04T00:02:44.508903Z"
    }
   },
   "source": [
    "ratings_df = pd.read_csv(\"../../Datasets/XWines_Slim_1K_wines_150K_ratings/XWines_Slim_150K_ratings.csv\", low_memory=False, encoding=\"utf-8\", memory_map=True)\n",
    "wines_df = pd.read_csv(\"../../Datasets/XWines_Slim_1K_wines_150K_ratings/XWines_Slim_1K_wines.csv\", low_memory=False, encoding=\"utf-8\", memory_map=True)"
   ],
   "outputs": [],
   "execution_count": 7
  },
  {
   "cell_type": "code",
   "id": "4c036882-5f10-4640-999b-3bafc56ce1ff",
   "metadata": {
    "ExecuteTime": {
     "end_time": "2024-10-04T00:02:44.620185Z",
     "start_time": "2024-10-04T00:02:44.618517Z"
    }
   },
   "source": [
    "#wines_df = pd.read_csv(\"../../Datasets/All-XWines_Full_100K_wines_21M_ratings/XWines_Full_100K_wines.csv\", low_memory=False, encoding=\"utf-8\", memory_map=True)\n",
    "#ratings_df = pd.read_csv(\"../../Datasets/All-XWines_Full_100K_wines_21M_ratings/XWines_Full_21M_ratings.csv\", low_memory=False, encoding=\"utf-8\", memory_map=True)"
   ],
   "outputs": [],
   "execution_count": 8
  },
  {
   "cell_type": "code",
   "id": "b83b66a0-1e05-46f1-8704-f2bdbc494845",
   "metadata": {
    "ExecuteTime": {
     "end_time": "2024-10-04T00:02:44.625572Z",
     "start_time": "2024-10-04T00:02:44.620666Z"
    }
   },
   "source": [
    "ratings_df.head()"
   ],
   "outputs": [
    {
     "data": {
      "text/plain": [
       "   RatingID   UserID  WineID Vintage  Rating                 Date\n",
       "0       143  1356810  103471    1950     4.5  2021-11-02 20:52:59\n",
       "1       199  1173759  111415    1951     5.0  2015-08-20 17:46:26\n",
       "2       348  1164877  111395    1952     5.0  2020-11-13 05:40:26\n",
       "3       374  1207665  111433    1953     5.0  2017-05-05 06:44:13\n",
       "4       834  1075841  111431    1955     5.0  2016-09-14 20:18:38"
      ],
      "text/html": [
       "<div>\n",
       "<style scoped>\n",
       "    .dataframe tbody tr th:only-of-type {\n",
       "        vertical-align: middle;\n",
       "    }\n",
       "\n",
       "    .dataframe tbody tr th {\n",
       "        vertical-align: top;\n",
       "    }\n",
       "\n",
       "    .dataframe thead th {\n",
       "        text-align: right;\n",
       "    }\n",
       "</style>\n",
       "<table border=\"1\" class=\"dataframe\">\n",
       "  <thead>\n",
       "    <tr style=\"text-align: right;\">\n",
       "      <th></th>\n",
       "      <th>RatingID</th>\n",
       "      <th>UserID</th>\n",
       "      <th>WineID</th>\n",
       "      <th>Vintage</th>\n",
       "      <th>Rating</th>\n",
       "      <th>Date</th>\n",
       "    </tr>\n",
       "  </thead>\n",
       "  <tbody>\n",
       "    <tr>\n",
       "      <th>0</th>\n",
       "      <td>143</td>\n",
       "      <td>1356810</td>\n",
       "      <td>103471</td>\n",
       "      <td>1950</td>\n",
       "      <td>4.5</td>\n",
       "      <td>2021-11-02 20:52:59</td>\n",
       "    </tr>\n",
       "    <tr>\n",
       "      <th>1</th>\n",
       "      <td>199</td>\n",
       "      <td>1173759</td>\n",
       "      <td>111415</td>\n",
       "      <td>1951</td>\n",
       "      <td>5.0</td>\n",
       "      <td>2015-08-20 17:46:26</td>\n",
       "    </tr>\n",
       "    <tr>\n",
       "      <th>2</th>\n",
       "      <td>348</td>\n",
       "      <td>1164877</td>\n",
       "      <td>111395</td>\n",
       "      <td>1952</td>\n",
       "      <td>5.0</td>\n",
       "      <td>2020-11-13 05:40:26</td>\n",
       "    </tr>\n",
       "    <tr>\n",
       "      <th>3</th>\n",
       "      <td>374</td>\n",
       "      <td>1207665</td>\n",
       "      <td>111433</td>\n",
       "      <td>1953</td>\n",
       "      <td>5.0</td>\n",
       "      <td>2017-05-05 06:44:13</td>\n",
       "    </tr>\n",
       "    <tr>\n",
       "      <th>4</th>\n",
       "      <td>834</td>\n",
       "      <td>1075841</td>\n",
       "      <td>111431</td>\n",
       "      <td>1955</td>\n",
       "      <td>5.0</td>\n",
       "      <td>2016-09-14 20:18:38</td>\n",
       "    </tr>\n",
       "  </tbody>\n",
       "</table>\n",
       "</div>"
      ]
     },
     "execution_count": 9,
     "metadata": {},
     "output_type": "execute_result"
    }
   ],
   "execution_count": 9
  },
  {
   "cell_type": "code",
   "id": "83c11fca-9561-4657-abbd-a258aa297dcf",
   "metadata": {
    "ExecuteTime": {
     "end_time": "2024-10-04T00:02:44.628373Z",
     "start_time": "2024-10-04T00:02:44.626453Z"
    }
   },
   "source": [
    "wines_df.shape"
   ],
   "outputs": [
    {
     "data": {
      "text/plain": [
       "(1007, 17)"
      ]
     },
     "execution_count": 10,
     "metadata": {},
     "output_type": "execute_result"
    }
   ],
   "execution_count": 10
  },
  {
   "cell_type": "code",
   "id": "6d848890-9ed7-447b-929a-7528881d4a0d",
   "metadata": {
    "ExecuteTime": {
     "end_time": "2024-10-04T00:02:44.633752Z",
     "start_time": "2024-10-04T00:02:44.629022Z"
    }
   },
   "source": [
    "wines_df.head()"
   ],
   "outputs": [
    {
     "data": {
      "text/plain": [
       "   WineID                         WineName       Type  \\\n",
       "0  100001               Espumante Moscatel  Sparkling   \n",
       "1  100002                       Ancellotta        Red   \n",
       "2  100003               Cabernet Sauvignon        Red   \n",
       "3  100005  Maison de Ville Cabernet-Merlot        Red   \n",
       "4  100007     Do Lugar Moscatel Espumantes  Sparkling   \n",
       "\n",
       "                       Elaborate                            Grapes  \\\n",
       "0                  Varietal/100%                ['Muscat/Moscato']   \n",
       "1                  Varietal/100%                    ['Ancellotta']   \n",
       "2                  Varietal/100%            ['Cabernet Sauvignon']   \n",
       "3  Assemblage/Bordeaux Red Blend  ['Cabernet Sauvignon', 'Merlot']   \n",
       "4                  Varietal/100%         ['Muscat/Moscato Bianco']   \n",
       "\n",
       "                                           Harmonize   ABV           Body  \\\n",
       "0                 ['Pork', 'Rich Fish', 'Shellfish']   7.5  Medium-bodied   \n",
       "1  ['Beef', 'Barbecue', 'Codfish', 'Pasta', 'Pizz...  12.0  Medium-bodied   \n",
       "2                        ['Beef', 'Lamb', 'Poultry']  12.0    Full-bodied   \n",
       "3           ['Beef', 'Lamb', 'Game Meat', 'Poultry']  11.0    Full-bodied   \n",
       "4                 ['Pork', 'Rich Fish', 'Shellfish']   7.5  Medium-bodied   \n",
       "\n",
       "  Acidity Code Country  RegionID    RegionName  WineryID    WineryName  \\\n",
       "0    High   BR  Brazil      1001  Serra Gaúcha     10001   Casa Perini   \n",
       "1  Medium   BR  Brazil      1001  Serra Gaúcha     10001   Casa Perini   \n",
       "2    High   BR  Brazil      1001  Serra Gaúcha     10002  Castellamare   \n",
       "3  Medium   BR  Brazil      1001  Serra Gaúcha     10000        Aurora   \n",
       "4    High   BR  Brazil      1001  Serra Gaúcha     10012    Dal Pizzol   \n",
       "\n",
       "                                  Website  \\\n",
       "0        http://www.vinicolaperini.com.br   \n",
       "1        http://www.vinicolaperini.com.br   \n",
       "2  https://www.emporiocastellamare.com.br   \n",
       "3        http://www.vinicolaaurora.com.br   \n",
       "4             http://www.dalpizzol.com.br   \n",
       "\n",
       "                                            Vintages  \n",
       "0  [2020, 2019, 2018, 2017, 2016, 2015, 2014, 201...  \n",
       "1  [2016, 2015, 2014, 2013, 2012, 2011, 2010, 200...  \n",
       "2  [2021, 2020, 2019, 2018, 2017, 2016, 2015, 201...  \n",
       "3  [2021, 2020, 2019, 2018, 2017, 2016, 2015, 201...  \n",
       "4  [2018, 2017, 2016, 2015, 2014, 2013, 2012, 201...  "
      ],
      "text/html": [
       "<div>\n",
       "<style scoped>\n",
       "    .dataframe tbody tr th:only-of-type {\n",
       "        vertical-align: middle;\n",
       "    }\n",
       "\n",
       "    .dataframe tbody tr th {\n",
       "        vertical-align: top;\n",
       "    }\n",
       "\n",
       "    .dataframe thead th {\n",
       "        text-align: right;\n",
       "    }\n",
       "</style>\n",
       "<table border=\"1\" class=\"dataframe\">\n",
       "  <thead>\n",
       "    <tr style=\"text-align: right;\">\n",
       "      <th></th>\n",
       "      <th>WineID</th>\n",
       "      <th>WineName</th>\n",
       "      <th>Type</th>\n",
       "      <th>Elaborate</th>\n",
       "      <th>Grapes</th>\n",
       "      <th>Harmonize</th>\n",
       "      <th>ABV</th>\n",
       "      <th>Body</th>\n",
       "      <th>Acidity</th>\n",
       "      <th>Code</th>\n",
       "      <th>Country</th>\n",
       "      <th>RegionID</th>\n",
       "      <th>RegionName</th>\n",
       "      <th>WineryID</th>\n",
       "      <th>WineryName</th>\n",
       "      <th>Website</th>\n",
       "      <th>Vintages</th>\n",
       "    </tr>\n",
       "  </thead>\n",
       "  <tbody>\n",
       "    <tr>\n",
       "      <th>0</th>\n",
       "      <td>100001</td>\n",
       "      <td>Espumante Moscatel</td>\n",
       "      <td>Sparkling</td>\n",
       "      <td>Varietal/100%</td>\n",
       "      <td>['Muscat/Moscato']</td>\n",
       "      <td>['Pork', 'Rich Fish', 'Shellfish']</td>\n",
       "      <td>7.5</td>\n",
       "      <td>Medium-bodied</td>\n",
       "      <td>High</td>\n",
       "      <td>BR</td>\n",
       "      <td>Brazil</td>\n",
       "      <td>1001</td>\n",
       "      <td>Serra Gaúcha</td>\n",
       "      <td>10001</td>\n",
       "      <td>Casa Perini</td>\n",
       "      <td>http://www.vinicolaperini.com.br</td>\n",
       "      <td>[2020, 2019, 2018, 2017, 2016, 2015, 2014, 201...</td>\n",
       "    </tr>\n",
       "    <tr>\n",
       "      <th>1</th>\n",
       "      <td>100002</td>\n",
       "      <td>Ancellotta</td>\n",
       "      <td>Red</td>\n",
       "      <td>Varietal/100%</td>\n",
       "      <td>['Ancellotta']</td>\n",
       "      <td>['Beef', 'Barbecue', 'Codfish', 'Pasta', 'Pizz...</td>\n",
       "      <td>12.0</td>\n",
       "      <td>Medium-bodied</td>\n",
       "      <td>Medium</td>\n",
       "      <td>BR</td>\n",
       "      <td>Brazil</td>\n",
       "      <td>1001</td>\n",
       "      <td>Serra Gaúcha</td>\n",
       "      <td>10001</td>\n",
       "      <td>Casa Perini</td>\n",
       "      <td>http://www.vinicolaperini.com.br</td>\n",
       "      <td>[2016, 2015, 2014, 2013, 2012, 2011, 2010, 200...</td>\n",
       "    </tr>\n",
       "    <tr>\n",
       "      <th>2</th>\n",
       "      <td>100003</td>\n",
       "      <td>Cabernet Sauvignon</td>\n",
       "      <td>Red</td>\n",
       "      <td>Varietal/100%</td>\n",
       "      <td>['Cabernet Sauvignon']</td>\n",
       "      <td>['Beef', 'Lamb', 'Poultry']</td>\n",
       "      <td>12.0</td>\n",
       "      <td>Full-bodied</td>\n",
       "      <td>High</td>\n",
       "      <td>BR</td>\n",
       "      <td>Brazil</td>\n",
       "      <td>1001</td>\n",
       "      <td>Serra Gaúcha</td>\n",
       "      <td>10002</td>\n",
       "      <td>Castellamare</td>\n",
       "      <td>https://www.emporiocastellamare.com.br</td>\n",
       "      <td>[2021, 2020, 2019, 2018, 2017, 2016, 2015, 201...</td>\n",
       "    </tr>\n",
       "    <tr>\n",
       "      <th>3</th>\n",
       "      <td>100005</td>\n",
       "      <td>Maison de Ville Cabernet-Merlot</td>\n",
       "      <td>Red</td>\n",
       "      <td>Assemblage/Bordeaux Red Blend</td>\n",
       "      <td>['Cabernet Sauvignon', 'Merlot']</td>\n",
       "      <td>['Beef', 'Lamb', 'Game Meat', 'Poultry']</td>\n",
       "      <td>11.0</td>\n",
       "      <td>Full-bodied</td>\n",
       "      <td>Medium</td>\n",
       "      <td>BR</td>\n",
       "      <td>Brazil</td>\n",
       "      <td>1001</td>\n",
       "      <td>Serra Gaúcha</td>\n",
       "      <td>10000</td>\n",
       "      <td>Aurora</td>\n",
       "      <td>http://www.vinicolaaurora.com.br</td>\n",
       "      <td>[2021, 2020, 2019, 2018, 2017, 2016, 2015, 201...</td>\n",
       "    </tr>\n",
       "    <tr>\n",
       "      <th>4</th>\n",
       "      <td>100007</td>\n",
       "      <td>Do Lugar Moscatel Espumantes</td>\n",
       "      <td>Sparkling</td>\n",
       "      <td>Varietal/100%</td>\n",
       "      <td>['Muscat/Moscato Bianco']</td>\n",
       "      <td>['Pork', 'Rich Fish', 'Shellfish']</td>\n",
       "      <td>7.5</td>\n",
       "      <td>Medium-bodied</td>\n",
       "      <td>High</td>\n",
       "      <td>BR</td>\n",
       "      <td>Brazil</td>\n",
       "      <td>1001</td>\n",
       "      <td>Serra Gaúcha</td>\n",
       "      <td>10012</td>\n",
       "      <td>Dal Pizzol</td>\n",
       "      <td>http://www.dalpizzol.com.br</td>\n",
       "      <td>[2018, 2017, 2016, 2015, 2014, 2013, 2012, 201...</td>\n",
       "    </tr>\n",
       "  </tbody>\n",
       "</table>\n",
       "</div>"
      ]
     },
     "execution_count": 11,
     "metadata": {},
     "output_type": "execute_result"
    }
   ],
   "execution_count": 11
  },
  {
   "cell_type": "markdown",
   "id": "f89ef9b3-6c6e-4c30-8a46-fdcf79c7cb4f",
   "metadata": {},
   "source": [
    "**Group settings**"
   ]
  },
  {
   "cell_type": "code",
   "id": "96541610-8d07-436a-b2de-c6d1a6e8c15d",
   "metadata": {
    "ExecuteTime": {
     "end_time": "2024-10-04T00:02:44.665481Z",
     "start_time": "2024-10-04T00:02:44.663335Z"
    }
   },
   "source": [
    "group_sizes_to_create = cfg.group_sizes_to_create\n",
    "group_similarity_to_create = cfg.group_similarity_to_create\n",
    "group_number = cfg.group_number"
   ],
   "outputs": [],
   "execution_count": 12
  },
  {
   "cell_type": "markdown",
   "id": "5bd6902b-124f-4667-a264-a7e2b9605cee",
   "metadata": {},
   "source": [
    "# Similarity evaluation"
   ]
  },
  {
   "cell_type": "code",
   "id": "639c1bfa-0a0b-4ade-aec8-adb01bf2804c",
   "metadata": {
    "ExecuteTime": {
     "end_time": "2024-10-04T00:02:44.718532Z",
     "start_time": "2024-10-04T00:02:44.706821Z"
    }
   },
   "source": [
    "# Counts the amount of ratings per user\n",
    "ratings_per_user = ratings_df.groupby('UserID').size()\n",
    "\n",
    "# Calculate the average number of ratings per user\n",
    "average_number_of_rating = ratings_per_user.mean()\n",
    "\n",
    "#Round Value\n",
    "rounded_average_number_of_rating = round(average_number_of_rating)\n",
    "print(rounded_average_number_of_rating)"
   ],
   "outputs": [
    {
     "name": "stdout",
     "output_type": "stream",
     "text": [
      "14\n"
     ]
    }
   ],
   "execution_count": 13
  },
  {
   "cell_type": "code",
   "id": "89da2a5b-af2b-4740-b2fd-29a2fc7eea76",
   "metadata": {
    "ExecuteTime": {
     "end_time": "2024-10-04T00:02:44.821511Z",
     "start_time": "2024-10-04T00:02:44.809409Z"
    }
   },
   "source": [
    "# Count the number of ratings for each user\n",
    "user_counts = ratings_df['UserID'].value_counts()\n",
    "\n",
    "# Filter users who have at least the specified number of ratings\n",
    "filtered_users = user_counts[user_counts <= rounded_average_number_of_rating].index\n",
    "\n",
    "# Filter the DataFrame to keep only these users\n",
    "ratings_df = ratings_df[ratings_df['UserID'].isin(filtered_users)]\n",
    "print(ratings_df)"
   ],
   "outputs": [
    {
     "name": "stdout",
     "output_type": "stream",
     "text": [
      "        RatingID   UserID  WineID Vintage  Rating                 Date\n",
      "3            374  1207665  111433    1953     5.0  2017-05-05 06:44:13\n",
      "4            834  1075841  111431    1955     5.0  2016-09-14 20:18:38\n",
      "5            876  1211463  111395    1955     5.0  2021-12-02 23:12:49\n",
      "6           1005  1076348  111433    1955     4.5  2021-06-19 19:53:56\n",
      "8           1029  1225931  111431    1955     5.0  2017-04-24 01:41:52\n",
      "...          ...      ...     ...     ...     ...                  ...\n",
      "149993  21013409  1086949  111484    N.V.     4.5  2019-04-14 17:31:49\n",
      "149994  21013430  1026866  111479    N.V.     4.0  2014-11-22 15:00:48\n",
      "149995  21013438  1000052  111468    N.V.     4.5  2021-12-22 21:03:51\n",
      "149997  21013494  1218581  113690    N.V.     3.5  2019-04-14 17:45:08\n",
      "149999  21013509  1059173  111479    N.V.     5.0  2019-09-08 15:42:28\n",
      "\n",
      "[70480 rows x 6 columns]\n"
     ]
    }
   ],
   "execution_count": 14
  },
  {
   "cell_type": "code",
   "id": "66f9a940-275f-4871-a4cc-d1fca31cc70e",
   "metadata": {
    "ExecuteTime": {
     "end_time": "2024-10-04T00:02:46.213109Z",
     "start_time": "2024-10-04T00:02:45.011493Z"
    }
   },
   "source": [
    "# computing similarity between each pair of users\n",
    "user_matrix = ratings_df.pivot_table(columns='WineID', index='UserID', values='Rating')\n",
    "user_id_set = set(ratings_df['UserID'])\n",
    "user_id_indexes = user_matrix.index.values\n",
    "user_matrix = user_matrix.fillna(0)\n",
    "numpy_array = user_matrix.to_numpy()\n",
    "sim_matrix = np.corrcoef(numpy_array)"
   ],
   "outputs": [],
   "execution_count": 15
  },
  {
   "cell_type": "markdown",
   "id": "fcfdb39b-c8e3-4ea2-9f8b-4917c4c66dae",
   "metadata": {},
   "source": [
    "## Visualization of the similarity distribution"
   ]
  },
  {
   "cell_type": "code",
   "id": "3cefe30b-fc5a-4cd9-8269-1cd07ca4ff66",
   "metadata": {
    "ExecuteTime": {
     "end_time": "2024-10-04T00:02:47.365115Z",
     "start_time": "2024-10-04T00:02:46.220003Z"
    }
   },
   "source": [
    "%matplotlib inline\n",
    "import matplotlib.pyplot as plt\n",
    "plt.hist(sim_matrix.flatten())\n",
    "plt.yscale(\"log\")\n",
    "plt.xlabel(\"Pearson's Correlation Coeficient\")"
   ],
   "outputs": [
    {
     "data": {
      "text/plain": [
       "Text(0.5, 0, \"Pearson's Correlation Coeficient\")"
      ]
     },
     "execution_count": 16,
     "metadata": {},
     "output_type": "execute_result"
    },
    {
     "data": {
      "text/plain": [
       "<Figure size 640x480 with 1 Axes>"
      ],
      "image/png": "[encoded data removed]"
     },
     "metadata": {},
     "output_type": "display_data"
    }
   ],
   "execution_count": 16
  },
  {
   "cell_type": "markdown",
   "id": "e08d5696-e75a-4ef7-87e2-8649c2ba7550",
   "metadata": {},
   "source": [
    "## Group creation"
   ]
  },
  {
   "cell_type": "code",
   "id": "68873b73-1509-4a67-961a-fd879dbcd58c",
   "metadata": {
    "ExecuteTime": {
     "end_time": "2024-10-04T00:02:51.375322Z",
     "start_time": "2024-10-04T00:02:47.366553Z"
    }
   },
   "source": [
    "from groups_generators import GroupsGenerator\n",
    "user_id_set = sorted(user_id_set)\n",
    "group_list = list()\n",
    "\n",
    "for group_type in group_similarity_to_create:\n",
    "    grpGenerator = GroupsGenerator.getGroupsGenerator(group_type)\n",
    "    current_list = grpGenerator.generateGroups(user_id_indexes, user_id_set, sim_matrix, group_sizes_to_create, group_number)\n",
    "    group_list = group_list + current_list\n",
    "\n",
    "group_dict = dict()\n",
    "for group_id, group in zip(range(len(group_list)), group_list):\n",
    "    group_dict[group_id] = group"
   ],
   "outputs": [
    {
     "name": "stdout",
     "output_type": "stream",
     "text": [
      "20\n",
      "40\n",
      "60\n",
      "20\n",
      "40\n",
      "60\n",
      "20\n",
      "40\n",
      "60\n",
      "20\n",
      "40\n",
      "60\n"
     ]
    }
   ],
   "execution_count": 17
  },
  {
   "cell_type": "code",
   "id": "df781f21-5d44-4ee9-8d08-a73ceece9387",
   "metadata": {
    "ExecuteTime": {
     "end_time": "2024-10-04T00:02:51.656223Z",
     "start_time": "2024-10-04T00:02:51.377080Z"
    }
   },
   "source": [
    "group_similarity = \"similar\"\n",
    "group_size = 8\n",
    "histogram_list = []\n",
    "for gid in group_dict.keys():\n",
    "    g = group_dict[gid]\n",
    "    if g[\"group_similarity\"] == group_similarity and g[\"group_size\"] == group_size:\n",
    "        member_index = [user_id_indexes.tolist().index(member) for member in g[\"group_members\"]]\n",
    "        s = sim_matrix[member_index]\n",
    "        histogram_list.extend(s[:,member_index].flatten().tolist())\n",
    "\n",
    "        \n",
    "plt.hist(histogram_list)\n",
    "#plt.yscale(\"log\")\n",
    "plt.xlabel(\"PCC for \"+group_similarity+\" groups, size:\"+str(group_size)+\" threshold:\"+str(cfg.similar_threshold))    \n",
    "plt.savefig(\"pcc_\"+group_similarity+\"_\"+str(group_size)+\"_\"+str(int(cfg.similar_threshold*10))+\".png\", dpi=300)"
   ],
   "outputs": [
    {
     "data": {
      "text/plain": [
       "<Figure size 640x480 with 1 Axes>"
      ],
      "image/png": "[encoded data removed]"
     },
     "metadata": {},
     "output_type": "display_data"
    }
   ],
   "execution_count": 18
  },
  {
   "cell_type": "code",
   "id": "93052783-373d-4a79-9494-e0176c560219",
   "metadata": {
    "ExecuteTime": {
     "end_time": "2024-10-04T00:02:51.922660Z",
     "start_time": "2024-10-04T00:02:51.657929Z"
    }
   },
   "source": [
    "group_similarity = \"divergent\"\n",
    "group_size = 8\n",
    "histogram_list = []\n",
    "for gid in group_dict.keys():\n",
    "    g = group_dict[gid]\n",
    "    if g[\"group_similarity\"] == group_similarity and g[\"group_size\"] == group_size:\n",
    "        member_index = [user_id_indexes.tolist().index(member) for member in g[\"group_members\"]]\n",
    "        s = sim_matrix[member_index]\n",
    "        histogram_list.extend(s[:,member_index].flatten().tolist())\n",
    "\n",
    "        \n",
    "plt.hist(histogram_list)\n",
    "#plt.yscale(\"log\")\n",
    "plt.xlabel(\"PCC for \"+group_similarity+\" groups, size:\"+str(group_size)+\" threshold:\"+str(cfg.dissimilar_threshold))    \n",
    "plt.savefig(\"pcc_\"+group_similarity+\"_\"+str(group_size)+\"_\"+str(int(cfg.dissimilar_threshold*10))+\".png\", dpi=300)"
   ],
   "outputs": [
    {
     "data": {
      "text/plain": [
       "<Figure size 640x480 with 1 Axes>"
      ],
      "image/png": "[encoded data removed]"
     },
     "metadata": {},
     "output_type": "display_data"
    }
   ],
   "execution_count": 19
  },
  {
   "cell_type": "markdown",
   "id": "5a3ecb65-b14d-4adf-95d3-0ad8727bd872",
   "metadata": {},
   "source": [
    "### Comparing groups internal average similarity between the different types and sizes "
   ]
  },
  {
   "cell_type": "code",
   "id": "0bfa2fed-658d-41fd-a852-6a3ce40964e0",
   "metadata": {
    "ExecuteTime": {
     "end_time": "2024-10-04T00:02:51.930946Z",
     "start_time": "2024-10-04T00:02:51.923638Z"
    }
   },
   "source": [
    "groups_list = list()\n",
    "for group in group_dict:\n",
    "    groups_list.append(\n",
    "        {\n",
    "            'group_id': group,\n",
    "            'group_size': group_dict[group]['group_size'],\n",
    "            'group_similarity': group_dict[group]['group_similarity'],\n",
    "            'group_members': group_dict[group]['group_members'],\n",
    "            'avg_similarity': group_dict[group]['avg_similarity']\n",
    "        }\n",
    "    )\n",
    "\n",
    "groups_df = pd.DataFrame.from_records(groups_list)\n",
    "display(groups_df.head(10))"
   ],
   "outputs": [
    {
     "data": {
      "text/plain": [
       "   group_id  group_size group_similarity       group_members  avg_similarity\n",
       "0         0           2           random  [1289797, 1393700]       -0.009674\n",
       "1         1           2           random  [1366127, 1004168]       -0.008242\n",
       "2         2           2           random  [1240789, 1277541]       -0.010677\n",
       "3         3           2           random  [1689752, 1155516]        0.079470\n",
       "4         4           2           random  [1402831, 1135188]       -0.010666\n",
       "5         5           2           random  [1019546, 1216671]        0.084150\n",
       "6         6           2           random  [1250221, 1364007]       -0.011004\n",
       "7         7           2           random  [2049904, 1298350]       -0.008542\n",
       "8         8           2           random  [1009530, 1457483]        0.173955\n",
       "9         9           2           random  [1004382, 1275951]       -0.009082"
      ],
      "text/html": [
       "<div>\n",
       "<style scoped>\n",
       "    .dataframe tbody tr th:only-of-type {\n",
       "        vertical-align: middle;\n",
       "    }\n",
       "\n",
       "    .dataframe tbody tr th {\n",
       "        vertical-align: top;\n",
       "    }\n",
       "\n",
       "    .dataframe thead th {\n",
       "        text-align: right;\n",
       "    }\n",
       "</style>\n",
       "<table border=\"1\" class=\"dataframe\">\n",
       "  <thead>\n",
       "    <tr style=\"text-align: right;\">\n",
       "      <th></th>\n",
       "      <th>group_id</th>\n",
       "      <th>group_size</th>\n",
       "      <th>group_similarity</th>\n",
       "      <th>group_members</th>\n",
       "      <th>avg_similarity</th>\n",
       "    </tr>\n",
       "  </thead>\n",
       "  <tbody>\n",
       "    <tr>\n",
       "      <th>0</th>\n",
       "      <td>0</td>\n",
       "      <td>2</td>\n",
       "      <td>random</td>\n",
       "      <td>[1289797, 1393700]</td>\n",
       "      <td>-0.009674</td>\n",
       "    </tr>\n",
       "    <tr>\n",
       "      <th>1</th>\n",
       "      <td>1</td>\n",
       "      <td>2</td>\n",
       "      <td>random</td>\n",
       "      <td>[1366127, 1004168]</td>\n",
       "      <td>-0.008242</td>\n",
       "    </tr>\n",
       "    <tr>\n",
       "      <th>2</th>\n",
       "      <td>2</td>\n",
       "      <td>2</td>\n",
       "      <td>random</td>\n",
       "      <td>[1240789, 1277541]</td>\n",
       "      <td>-0.010677</td>\n",
       "    </tr>\n",
       "    <tr>\n",
       "      <th>3</th>\n",
       "      <td>3</td>\n",
       "      <td>2</td>\n",
       "      <td>random</td>\n",
       "      <td>[1689752, 1155516]</td>\n",
       "      <td>0.079470</td>\n",
       "    </tr>\n",
       "    <tr>\n",
       "      <th>4</th>\n",
       "      <td>4</td>\n",
       "      <td>2</td>\n",
       "      <td>random</td>\n",
       "      <td>[1402831, 1135188]</td>\n",
       "      <td>-0.010666</td>\n",
       "    </tr>\n",
       "    <tr>\n",
       "      <th>5</th>\n",
       "      <td>5</td>\n",
       "      <td>2</td>\n",
       "      <td>random</td>\n",
       "      <td>[1019546, 1216671]</td>\n",
       "      <td>0.084150</td>\n",
       "    </tr>\n",
       "    <tr>\n",
       "      <th>6</th>\n",
       "      <td>6</td>\n",
       "      <td>2</td>\n",
       "      <td>random</td>\n",
       "      <td>[1250221, 1364007]</td>\n",
       "      <td>-0.011004</td>\n",
       "    </tr>\n",
       "    <tr>\n",
       "      <th>7</th>\n",
       "      <td>7</td>\n",
       "      <td>2</td>\n",
       "      <td>random</td>\n",
       "      <td>[2049904, 1298350]</td>\n",
       "      <td>-0.008542</td>\n",
       "    </tr>\n",
       "    <tr>\n",
       "      <th>8</th>\n",
       "      <td>8</td>\n",
       "      <td>2</td>\n",
       "      <td>random</td>\n",
       "      <td>[1009530, 1457483]</td>\n",
       "      <td>0.173955</td>\n",
       "    </tr>\n",
       "    <tr>\n",
       "      <th>9</th>\n",
       "      <td>9</td>\n",
       "      <td>2</td>\n",
       "      <td>random</td>\n",
       "      <td>[1004382, 1275951]</td>\n",
       "      <td>-0.009082</td>\n",
       "    </tr>\n",
       "  </tbody>\n",
       "</table>\n",
       "</div>"
      ]
     },
     "metadata": {},
     "output_type": "display_data"
    }
   ],
   "execution_count": 20
  },
  {
   "cell_type": "code",
   "id": "f2fed3c0-ef28-433d-ad60-f1156e66dfac",
   "metadata": {
    "ExecuteTime": {
     "end_time": "2024-10-04T00:02:52.134380Z",
     "start_time": "2024-10-04T00:02:51.931663Z"
    }
   },
   "source": [
    "import seaborn as sns\n",
    "\n",
    "\n",
    "plt.rcParams[\"figure.figsize\"] = (20,10)\n",
    "sns.boxplot(x = groups_df['group_size'],\n",
    "            y = groups_df['avg_similarity'],\n",
    "            hue = groups_df['group_similarity'])\n",
    "import matplotlib.pyplot as plt"
   ],
   "outputs": [
    {
     "data": {
      "text/plain": [
       "<Figure size 2000x1000 with 1 Axes>"
      ],
      "image/png": "[encoded data removed]"
     },
     "metadata": {},
     "output_type": "display_data"
    }
   ],
   "execution_count": 21
  },
  {
   "cell_type": "markdown",
   "id": "2c1a9397-df5f-43a8-b242-8da1b3919fcc",
   "metadata": {},
   "source": [
    "# Train/Test split"
   ]
  },
  {
   "cell_type": "code",
   "id": "13a208dd-7909-4550-9964-1a0659f87169",
   "metadata": {
    "ExecuteTime": {
     "end_time": "2024-10-04T00:02:52.266391Z",
     "start_time": "2024-10-04T00:02:52.135564Z"
    }
   },
   "source": [
    "from sklearn.model_selection import train_test_split\n",
    "from sklearn.metrics import precision_recall_fscore_support"
   ],
   "outputs": [],
   "execution_count": 22
  },
  {
   "metadata": {},
   "cell_type": "markdown",
   "source": "**Read in Data again for clean start**",
   "id": "22aad910aa7621aa"
  },
  {
   "cell_type": "code",
   "id": "a25064cb-8a53-455b-b231-42d4482522f7",
   "metadata": {
    "ExecuteTime": {
     "end_time": "2024-10-04T00:02:52.368550Z",
     "start_time": "2024-10-04T00:02:52.267346Z"
    }
   },
   "source": [
    "ratings_df = pd.read_csv(\"../../Datasets/XWines_Slim_1K_wines_150K_ratings/XWines_Slim_150K_ratings.csv\", low_memory=False, encoding=\"utf-8\", memory_map=True)\n",
    "wines_df = pd.read_csv(\"../../Datasets/XWines_Slim_1K_wines_150K_ratings/XWines_Slim_1K_wines.csv\", low_memory=False, encoding=\"utf-8\", memory_map=True)"
   ],
   "outputs": [],
   "execution_count": 23
  },
  {
   "cell_type": "code",
   "id": "dcc256b8-454d-4959-9bfc-13f5a31da311",
   "metadata": {
    "ExecuteTime": {
     "end_time": "2024-10-04T00:02:52.380732Z",
     "start_time": "2024-10-04T00:02:52.374403Z"
    }
   },
   "source": [
    "ratings_df.head()"
   ],
   "outputs": [
    {
     "data": {
      "text/plain": [
       "   RatingID   UserID  WineID Vintage  Rating                 Date\n",
       "0       143  1356810  103471    1950     4.5  2021-11-02 20:52:59\n",
       "1       199  1173759  111415    1951     5.0  2015-08-20 17:46:26\n",
       "2       348  1164877  111395    1952     5.0  2020-11-13 05:40:26\n",
       "3       374  1207665  111433    1953     5.0  2017-05-05 06:44:13\n",
       "4       834  1075841  111431    1955     5.0  2016-09-14 20:18:38"
      ],
      "text/html": [
       "<div>\n",
       "<style scoped>\n",
       "    .dataframe tbody tr th:only-of-type {\n",
       "        vertical-align: middle;\n",
       "    }\n",
       "\n",
       "    .dataframe tbody tr th {\n",
       "        vertical-align: top;\n",
       "    }\n",
       "\n",
       "    .dataframe thead th {\n",
       "        text-align: right;\n",
       "    }\n",
       "</style>\n",
       "<table border=\"1\" class=\"dataframe\">\n",
       "  <thead>\n",
       "    <tr style=\"text-align: right;\">\n",
       "      <th></th>\n",
       "      <th>RatingID</th>\n",
       "      <th>UserID</th>\n",
       "      <th>WineID</th>\n",
       "      <th>Vintage</th>\n",
       "      <th>Rating</th>\n",
       "      <th>Date</th>\n",
       "    </tr>\n",
       "  </thead>\n",
       "  <tbody>\n",
       "    <tr>\n",
       "      <th>0</th>\n",
       "      <td>143</td>\n",
       "      <td>1356810</td>\n",
       "      <td>103471</td>\n",
       "      <td>1950</td>\n",
       "      <td>4.5</td>\n",
       "      <td>2021-11-02 20:52:59</td>\n",
       "    </tr>\n",
       "    <tr>\n",
       "      <th>1</th>\n",
       "      <td>199</td>\n",
       "      <td>1173759</td>\n",
       "      <td>111415</td>\n",
       "      <td>1951</td>\n",
       "      <td>5.0</td>\n",
       "      <td>2015-08-20 17:46:26</td>\n",
       "    </tr>\n",
       "    <tr>\n",
       "      <th>2</th>\n",
       "      <td>348</td>\n",
       "      <td>1164877</td>\n",
       "      <td>111395</td>\n",
       "      <td>1952</td>\n",
       "      <td>5.0</td>\n",
       "      <td>2020-11-13 05:40:26</td>\n",
       "    </tr>\n",
       "    <tr>\n",
       "      <th>3</th>\n",
       "      <td>374</td>\n",
       "      <td>1207665</td>\n",
       "      <td>111433</td>\n",
       "      <td>1953</td>\n",
       "      <td>5.0</td>\n",
       "      <td>2017-05-05 06:44:13</td>\n",
       "    </tr>\n",
       "    <tr>\n",
       "      <th>4</th>\n",
       "      <td>834</td>\n",
       "      <td>1075841</td>\n",
       "      <td>111431</td>\n",
       "      <td>1955</td>\n",
       "      <td>5.0</td>\n",
       "      <td>2016-09-14 20:18:38</td>\n",
       "    </tr>\n",
       "  </tbody>\n",
       "</table>\n",
       "</div>"
      ]
     },
     "execution_count": 24,
     "metadata": {},
     "output_type": "execute_result"
    }
   ],
   "execution_count": 24
  },
  {
   "metadata": {},
   "cell_type": "markdown",
   "source": "## Data pre-processing",
   "id": "1803984fee5fe9bb"
  },
  {
   "cell_type": "markdown",
   "id": "ca351718-4ac7-4992-bde7-23ec56fdc354",
   "metadata": {},
   "source": [
    "**To ensure that the distribution of users in the training and test sets is similar, we use stratified sampling. This means that the proportion of users in each group (similar or dissimilar) is preserved in both the training and test sets.**"
   ]
  },
  {
   "metadata": {
    "ExecuteTime": {
     "end_time": "2024-10-04T00:02:52.564636Z",
     "start_time": "2024-10-04T00:02:52.381672Z"
    }
   },
   "cell_type": "code",
   "source": [
    "from sklearn.model_selection import train_test_split\n",
    "\n",
    "# Data pre-processing\n",
    "\n",
    "#Filter out users with fewer than 5 ratings\n",
    "user_counts = ratings_df[\"UserID\"].value_counts()\n",
    "filtered_ratings_df = ratings_df[ratings_df[\"UserID\"].isin(user_counts[user_counts >= 5].index)]\n",
    "\n",
    "items_filtered = set(filtered_ratings_df[\"WineID\"].tolist())\n",
    "users_filtered = set(filtered_ratings_df[\"UserID\"].tolist())\n",
    "display(len(items_filtered))\n",
    "display(len(users_filtered))\n",
    "\n",
    "#Filter the wine_data to include only the wines present in the filtered ratings\n",
    "filtered_wine_data = wines_df[wines_df[\"WineID\"].isin(items_filtered)]\n",
    "display(filtered_wine_data.shape)  #\n",
    "\n",
    "#Perform the train-test split on the filtered ratings\n",
    "train_df, test_df = train_test_split(filtered_ratings_df, test_size=0.2, stratify=filtered_ratings_df[\"UserID\"])\n",
    "\n",
    "#check of user coverage\n",
    "train_users = set(train_df['UserID'].unique())\n",
    "test_users = set(test_df['UserID'].unique())\n",
    "missing_users = test_users - train_users\n",
    "print(f\"Missing users in train set: {len(missing_users)}\")\n",
    "\n",
    "train_items = set(train_df['WineID'].unique())\n",
    "test_items = set(test_df['WineID'].unique())\n",
    "missing_items = test_items - train_items\n",
    "print(f\"Missing items in train set: {len(missing_items)}\")\n",
    "print(f\"Missing item IDs: {missing_items}\")\n",
    "\n",
    "if missing_items:\n",
    "    missing_in_train_rows= train_df[train_df[\"WineID\"].isin(missing_items)]\n",
    "    train_df = pd.concat([train_df, missing_in_train_rows])\n",
    "    test_df = test_df[~test_df[\"WineID\"].isin(missing_items)]\n",
    "\n",
    "#check again:\n",
    "train_items = set(train_df['WineID'].unique())\n",
    "test_items = set(test_df['WineID'].unique())\n",
    "missing_items = test_items - train_items\n",
    "\n",
    "print(f\"Missing items in train set: {len(missing_items)}\")\n",
    "print(f\"Missing item IDs: {missing_items}\")\n",
    "\n",
    "#Ensure train and test sets only contain wines from filtered_wine_data\n",
    "train_wine_data = filtered_wine_data[filtered_wine_data[\"WineID\"].isin(train_df[\"WineID\"])].reset_index(drop=True)\n",
    "test_wine_data = filtered_wine_data[filtered_wine_data[\"WineID\"].isin(test_df[\"WineID\"])].reset_index(drop=True)\n",
    "\n",
    "display(train_wine_data.shape) \n",
    "display(test_wine_data.shape)   "
   ],
   "id": "04648ad4-a852-467f-89fa-d0c7e652ff3d",
   "outputs": [
    {
     "data": {
      "text/plain": [
       "1002"
      ]
     },
     "metadata": {},
     "output_type": "display_data"
    },
    {
     "data": {
      "text/plain": [
       "10254"
      ]
     },
     "metadata": {},
     "output_type": "display_data"
    },
    {
     "data": {
      "text/plain": [
       "(1002, 17)"
      ]
     },
     "metadata": {},
     "output_type": "display_data"
    },
    {
     "name": "stdout",
     "output_type": "stream",
     "text": [
      "Missing users in train set: 0\n",
      "Missing items in train set: 4\n",
      "Missing item IDs: {174121, 109547, 155249, 178374}\n",
      "Missing items in train set: 0\n",
      "Missing item IDs: set()\n"
     ]
    },
    {
     "data": {
      "text/plain": [
       "(998, 17)"
      ]
     },
     "metadata": {},
     "output_type": "display_data"
    },
    {
     "data": {
      "text/plain": [
       "(928, 17)"
      ]
     },
     "metadata": {},
     "output_type": "display_data"
    }
   ],
   "execution_count": 25
  },
  {
   "cell_type": "markdown",
   "id": "af2e2a56-2b99-4637-a401-2c589e256162",
   "metadata": {},
   "source": [
    "# Individual Recommendations"
   ]
  },
  {
   "metadata": {},
   "cell_type": "markdown",
   "source": "## Wine feature creation",
   "id": "7f03f329ad0ea07e"
  },
  {
   "metadata": {
    "ExecuteTime": {
     "end_time": "2024-10-04T00:02:52.641303Z",
     "start_time": "2024-10-04T00:02:52.565251Z"
    }
   },
   "cell_type": "code",
   "source": [
    "import numpy as np\n",
    "import pandas as pd\n",
    "import scipy.sparse as sp\n",
    "from sklearn.feature_extraction.text import TfidfVectorizer\n",
    "from sklearn.neighbors import KNeighborsRegressor\n",
    "from sklearn.preprocessing import OneHotEncoder, StandardScaler\n",
    "\n",
    "def create_wine_features(wine_data):\n",
    "    \"\"\"\n",
    "    Create and combine wine features (textual, categorical, and numerical) from the wine data.\n",
    "    \n",
    "    Args:\n",
    "    - wine_data: DataFrame containing wine feature data.\n",
    "    \n",
    "    Returns:\n",
    "    - wine_features: Sparse matrix of combined wine features (without weights).\n",
    "    \"\"\"\n",
    "    \n",
    "    # Make a copy of the wine data to avoid modifying the original DataFrame\n",
    "    wine_data = wine_data.copy()\n",
    "\n",
    "    # Preprocessing 'Grapes' and 'Harmonize' columns (convert list to space-separated string)\n",
    "    wine_data['Grapes'] = wine_data['Grapes'].apply(lambda x: ' '.join(eval(x)))\n",
    "    wine_data['Harmonize'] = wine_data['Harmonize'].apply(lambda x: ' '.join(eval(x)))\n",
    "\n",
    "    # Function to handle mixed vintages: list or integer\n",
    "    def convert_to_list(vintages):\n",
    "        if isinstance(vintages, int):\n",
    "            return [str(vintages)] \n",
    "        elif isinstance(vintages, str):\n",
    "            try:\n",
    "                return list(map(str, eval(vintages)))  \n",
    "            except:\n",
    "                return [str(vintages)]  \n",
    "        else:\n",
    "            return [str(vintages)]  \n",
    "\n",
    "    #Apply the conversion to the 'Vintages' column and convert to space-separated string\n",
    "    wine_data['Vintages'] = wine_data['Vintages'].apply(convert_to_list)\n",
    "    wine_data['Vintages'] = wine_data['Vintages'].apply(lambda x: ' '.join(x))\n",
    "\n",
    "    #TFIDf vectorization for textual features (Grapes, Harmonize, Vintages)\n",
    "    tfidf = TfidfVectorizer()\n",
    "    wine_data_tfidf_grapes = tfidf.fit_transform(wine_data['Grapes'])\n",
    "    wine_data_tfidf_harmonize = tfidf.fit_transform(wine_data['Harmonize'])\n",
    "    wine_data_tfidf_vintages = tfidf.fit_transform(wine_data['Vintages'])\n",
    "\n",
    "    #One-hot encoding for categorical features ('Type', 'Body', 'Acidity', 'Country', 'RegionName', 'WineryName')\n",
    "    one_hot = OneHotEncoder()\n",
    "    categorical_features = ['Type', 'Body', 'Acidity', 'Country', 'RegionName', 'WineryName']\n",
    "    wine_categorical_onehot = one_hot.fit_transform(wine_data[categorical_features])\n",
    "\n",
    "    #Scale the numerical feature 'ABV'\n",
    "    scaler = StandardScaler()\n",
    "    wine_abv_scaled = scaler.fit_transform(wine_data[['ABV']])\n",
    "\n",
    "    #Combine all features into a single sparse matrix\n",
    "    wine_features = sp.hstack([\n",
    "        wine_data_tfidf_grapes, \n",
    "        wine_data_tfidf_harmonize, \n",
    "        wine_data_tfidf_vintages,\n",
    "        wine_categorical_onehot, \n",
    "        wine_abv_scaled\n",
    "    ]).tocsr()\n",
    "\n",
    "    return (wine_features, wine_categorical_onehot, wine_abv_scaled, \n",
    "            wine_data_tfidf_grapes, wine_data_tfidf_harmonize, wine_data_tfidf_vintages)"
   ],
   "id": "4f11e5c82dafaf38",
   "outputs": [],
   "execution_count": 26
  },
  {
   "metadata": {
    "ExecuteTime": {
     "end_time": "2024-10-04T00:02:52.644643Z",
     "start_time": "2024-10-04T00:02:52.642323Z"
    }
   },
   "cell_type": "code",
   "source": [
    "from scipy.optimize import minimize\n",
    "from sklearn.metrics import mean_squared_error\n",
    "\n",
    "def calculate_optimal_weights(wine_features_train, y_train):\n",
    "    \"\"\"\n",
    "    Calculate the optimal weights for the wine features using scipy.optimize.minimize.\n",
    "    Best_weights: Optimized weights for each feature.\n",
    "    \"\"\"\n",
    "    \n",
    "    def objective_function(weights):\n",
    "\n",
    "        weighted_wine_features = wine_features_train.multiply(weights)\n",
    "\n",
    "        predictions = np.mean(weighted_wine_features, axis=1).A1  \n",
    "        \n",
    "        mse = mean_squared_error(y_train, predictions)\n",
    "        return mse\n",
    "\n",
    "    # Initial guess for weights (all set to 1.0)\n",
    "    initial_weights = [1.0] * wine_features_train.shape[1]\n",
    "\n",
    "    # Define bounds for each weight (e.g., between 0.1 and 3.0)\n",
    "    bounds = [(0.1, 3.0)] * wine_features_train.shape[1]\n",
    "\n",
    "    # Use scipy.optimize.minimize with 'L-BFGS-B' method\n",
    "    result = minimize(objective_function, initial_weights, method='L-BFGS-B', bounds=bounds)\n",
    "\n",
    "    # Return the optimized weights\n",
    "    return result.x\n"
   ],
   "id": "dbfbfd9aa5b50a77",
   "outputs": [],
   "execution_count": 27
  },
  {
   "metadata": {
    "ExecuteTime": {
     "end_time": "2024-10-04T00:02:52.648110Z",
     "start_time": "2024-10-04T00:02:52.645286Z"
    }
   },
   "cell_type": "code",
   "source": [
    "import scipy.sparse as sp\n",
    "\n",
    "def apply_optimized_weights_to_features(wine_features, wine_categorical_onehot, wine_abv_scaled,\n",
    "                                        wine_data_tfidf_grapes, wine_data_tfidf_harmonize, \n",
    "                                        wine_data_tfidf_vintages, \n",
    "                                        optimized_weights):\n",
    "    \"\"\"\n",
    "    Apply the optimized weights to the wine features and return the final weighted feature matrix.\n",
    "    Returns:\n",
    "    - weighted_wine_features: The final weighted sparse matrix of wine features.\n",
    "    \"\"\"\n",
    "    # Get the sizes of each feature group\n",
    "    grapes_size = wine_data_tfidf_grapes.shape[1]\n",
    "    harmonize_size = wine_data_tfidf_harmonize.shape[1]\n",
    "    vintages_size = wine_data_tfidf_vintages.shape[1]\n",
    "    one_hot_size = wine_categorical_onehot.shape[1]\n",
    "    abv_size = wine_abv_scaled.shape[1]  # ABV should be 1 column, but we handle it for consistency\n",
    "\n",
    "    #Apply weights to the TFIDF features\n",
    "    wine_data_tfidf_grapes_weighted = wine_features[:, :grapes_size] * optimized_weights[0]\n",
    "    wine_data_tfidf_harmonize_weighted = wine_features[:, grapes_size:grapes_size + harmonize_size] * optimized_weights[1]\n",
    "    wine_data_tfidf_vintages_weighted = wine_features[:, grapes_size + harmonize_size:grapes_size + harmonize_size + vintages_size] * optimized_weights[2]\n",
    "\n",
    "    #Apply weights to the one-hot encoded categorical features\n",
    "    start = grapes_size + harmonize_size + vintages_size\n",
    "    wine_categorical_onehot_weighted = wine_features[:, start:start + one_hot_size] * optimized_weights[3]\n",
    "    \n",
    "    #Apply weight to the scaled ABV feature (the last feature in the matrix)\n",
    "    wine_abv_scaled_weighted = wine_features[:, start + one_hot_size:start + one_hot_size + abv_size] * optimized_weights[4]\n",
    "\n",
    "    #Combine all the weighted features back into a single sparse matrix\n",
    "    weighted_wine_features = sp.hstack([\n",
    "        wine_data_tfidf_grapes_weighted, \n",
    "        wine_data_tfidf_harmonize_weighted, \n",
    "        wine_data_tfidf_vintages_weighted,\n",
    "        wine_categorical_onehot_weighted,\n",
    "        wine_abv_scaled_weighted\n",
    "    ]).tocsr()\n",
    "\n",
    "    return weighted_wine_features\n"
   ],
   "id": "722145b74fb35961",
   "outputs": [],
   "execution_count": 28
  },
  {
   "metadata": {},
   "cell_type": "markdown",
   "source": "## Wine feature creation",
   "id": "d94b53bd8b15c406"
  },
  {
   "metadata": {
    "ExecuteTime": {
     "end_time": "2024-10-04T00:02:52.710261Z",
     "start_time": "2024-10-04T00:02:52.648601Z"
    }
   },
   "cell_type": "code",
   "source": [
    "#Calculate the basic wine features\n",
    "(wine_features_basic_train, wine_categorical_onehot, wine_abv_scaled,wine_data_tfidf_grapes, wine_data_tfidf_harmonize, wine_data_tfidf_vintages) = create_wine_features(train_wine_data)\n"
   ],
   "id": "7305ec53dc0a5b76",
   "outputs": [],
   "execution_count": 29
  },
  {
   "metadata": {
    "ExecuteTime": {
     "end_time": "2024-10-04T00:03:01.682599Z",
     "start_time": "2024-10-04T00:02:52.710951Z"
    }
   },
   "cell_type": "code",
   "source": [
    "y_train = train_df['Rating'].values\n",
    "x_train = []\n",
    "for idx, row in train_df.iterrows():\n",
    "    user_id = row['UserID']\n",
    "    wine_id = row['WineID']\n",
    "    wine_index = train_wine_data.index[train_wine_data['WineID'] == wine_id].tolist()[0]\n",
    "    wine_feature = wine_features_basic_train[wine_index]\n",
    "    x_train.append(wine_feature)\n",
    "x_train = sp.vstack(x_train)  "
   ],
   "id": "2e835d14fbd50e21",
   "outputs": [],
   "execution_count": 30
  },
  {
   "metadata": {
    "ExecuteTime": {
     "end_time": "2024-10-04T00:22:54.229463Z",
     "start_time": "2024-10-04T00:03:01.683464Z"
    }
   },
   "cell_type": "code",
   "source": [
    "#Optimize weights using the training data\n",
    "optimized_weights = calculate_optimal_weights(x_train, y_train)"
   ],
   "id": "10e68ceca26ca797",
   "outputs": [],
   "execution_count": 31
  },
  {
   "metadata": {
    "ExecuteTime": {
     "end_time": "2024-10-04T00:22:54.324489Z",
     "start_time": "2024-10-04T00:22:54.232025Z"
    }
   },
   "cell_type": "code",
   "source": [
    "(wine_features_basic_all, wine_categorical_onehot_all, wine_abv_scaled_all,wine_data_tfidf_grapes_all, wine_data_tfidf_harmonize_all, wine_data_tfidf_vintages_all) = create_wine_features(wines_df)\n",
    "\n",
    "weighted_wine_features = apply_optimized_weights_to_features(wine_features=wine_features_basic_all, wine_categorical_onehot=wine_categorical_onehot_all, wine_abv_scaled=wine_abv_scaled_all,wine_data_tfidf_grapes=wine_data_tfidf_grapes_all, wine_data_tfidf_harmonize= wine_data_tfidf_harmonize_all, wine_data_tfidf_vintages=wine_data_tfidf_vintages_all,optimized_weights=optimized_weights)"
   ],
   "id": "aee844a4fced7228",
   "outputs": [],
   "execution_count": 32
  },
  {
   "metadata": {},
   "cell_type": "markdown",
   "source": "## Individual Recommendation ",
   "id": "3a70bddd4ed86b62"
  },
  {
   "metadata": {},
   "cell_type": "markdown",
   "source": "### Training of an Regressor for a single user",
   "id": "fea1ae706855ff9"
  },
  {
   "metadata": {},
   "cell_type": "markdown",
   "source": [
    "**Why KNN?** \n",
    "- Able to provide a reasonable quality of the recommendations with a relatively small number of ratings."
   ],
   "id": "8e13797b44983a0a"
  },
  {
   "metadata": {
    "ExecuteTime": {
     "end_time": "2024-10-04T00:22:54.327957Z",
     "start_time": "2024-10-04T00:22:54.325187Z"
    }
   },
   "cell_type": "code",
   "source": [
    "def train_regressor(user_id, train_df, wine_features, wine_data, n_neighbors=3):\n",
    "    \"\"\"\n",
    "    Train a KNN regressor for a given user using the train_df and wine features.\n",
    "    Returns:\n",
    "    Knn: Trained KNN regressor for the user.\n",
    "    \"\"\"\n",
    "    #Retrieve the ratings of this user from the train set\n",
    "    user_train_ratings = train_df[train_df['UserID'] == user_id]\n",
    "    \n",
    "    #Get the WineIDs that this user has rated\n",
    "    rated_wine_ids = user_train_ratings['WineID'].values\n",
    "    \n",
    "    #Retrieve the wine features for these rated wines\n",
    "    wine_indices = [wine_data.index[wine_data['WineID'] == wid].tolist()[0] for wid in rated_wine_ids]\n",
    "    X_train = wine_features[wine_indices, :]  # Features of rated wines\n",
    "    y_train = user_train_ratings['Rating'].values  # The user's ratings\n",
    "    \n",
    "    #Train the KNN regressor\n",
    "    knn = KNeighborsRegressor(n_neighbors=n_neighbors)\n",
    "    knn.fit(X_train, y_train)\n",
    "    \n",
    "    return knn"
   ],
   "id": "bd9f4cdc8536cf7e",
   "outputs": [],
   "execution_count": 33
  },
  {
   "metadata": {},
   "cell_type": "markdown",
   "source": "### Predictions for a user from the test set for all wines contained in the test set",
   "id": "3f3aed89ed236d79"
  },
  {
   "metadata": {
    "ExecuteTime": {
     "end_time": "2024-10-04T00:22:54.330304Z",
     "start_time": "2024-10-04T00:22:54.328527Z"
    }
   },
   "cell_type": "code",
   "source": [
    "def predict_for_user(user_id, regressor, test_df, wine_features, wine_data):\n",
    "    \"\"\"\n",
    "    Make predictions for a given user on all wines in the test set.\n",
    "    \n",
    "    Returns:\n",
    "    Predictions: DataFrame containing WineID and predicted ratings for this user.\n",
    "    \"\"\"\n",
    "    #Retrieve all wines in the test set\n",
    "    test_wine_ids = test_df['WineID'].unique()\n",
    "    \n",
    "    #Get the wine features for all wines in the test set\n",
    "    wine_indices = [wine_data.index[wine_data['WineID'] == wid].tolist()[0] for wid in test_wine_ids]\n",
    "    X_test = wine_features[wine_indices, :]\n",
    "    \n",
    "    #Make predictions for all test wines\n",
    "    predicted_ratings = regressor.predict(X_test)\n",
    "    \n",
    "    #Return a DataFrame with the predicted ratings\n",
    "    predictions = pd.DataFrame({\n",
    "        'user': user_id,\n",
    "        'item': test_wine_ids,\n",
    "        'rating': predicted_ratings\n",
    "    })\n",
    "    \n",
    "    return predictions"
   ],
   "id": "db7b5e33e4cd57db",
   "outputs": [],
   "execution_count": 34
  },
  {
   "metadata": {},
   "cell_type": "markdown",
   "source": "### Predictions for users from the test set for all wines contained in the test set",
   "id": "caa9c02997b481ae"
  },
  {
   "metadata": {
    "ExecuteTime": {
     "end_time": "2024-10-04T00:22:54.332945Z",
     "start_time": "2024-10-04T00:22:54.330812Z"
    }
   },
   "cell_type": "code",
   "source": [
    "def predict_for_all_users(train_df, test_df, wine_features, wine_data):\n",
    "    \"\"\"\n",
    "    Train a regressor for each user and predict ratings on the test set.   \n",
    "    Returns:\n",
    "    All_predictions: DataFrame containing predictions for all users.\n",
    "    \"\"\"\n",
    "    all_predictions = []\n",
    "    \n",
    "    #Loop through each user in the test set\n",
    "    test_users = test_df['UserID'].unique()\n",
    "    \n",
    "    for user_id in test_users:\n",
    "        #Train the regressor for this user using their training data\n",
    "        regressor = train_regressor(user_id, train_df, wine_features, wine_data)\n",
    "        \n",
    "        #Predict ratings for all wines in the test set for this user\n",
    "        user_predictions = predict_for_user(user_id, regressor, test_df, wine_features, wine_data)\n",
    "        \n",
    "        #Append predictions to the list\n",
    "        all_predictions.append(user_predictions)\n",
    "    \n",
    "    # Concatenate all user predictions into a single DataFrame\n",
    "    all_predictions_df = pd.concat(all_predictions, ignore_index=True)\n",
    "    \n",
    "    return all_predictions_df"
   ],
   "id": "7f0b86fde5322d1e",
   "outputs": [],
   "execution_count": 35
  },
  {
   "metadata": {
    "ExecuteTime": {
     "end_time": "2024-10-04T00:28:11.371596Z",
     "start_time": "2024-10-04T00:22:54.333464Z"
    }
   },
   "cell_type": "code",
   "source": "all_predictions_df = predict_for_all_users(train_df, test_df, weighted_wine_features, wines_df)",
   "id": "fa6725dae99b9e81",
   "outputs": [],
   "execution_count": 36
  },
  {
   "metadata": {
    "ExecuteTime": {
     "end_time": "2024-10-04T00:28:11.379206Z",
     "start_time": "2024-10-04T00:28:11.373160Z"
    }
   },
   "cell_type": "code",
   "source": "all_predictions_df.head",
   "id": "a351d025b473814f",
   "outputs": [
    {
     "data": {
      "text/plain": [
       "<bound method NDFrame.head of             user    item    rating\n",
       "0        1135855  106752  3.666667\n",
       "1        1135855  179039  3.500000\n",
       "2        1135855  167443  3.833333\n",
       "3        1135855  155368  3.666667\n",
       "4        1135855  162841  3.666667\n",
       "...          ...     ...       ...\n",
       "9515707  1166271  104585  5.000000\n",
       "9515708  1166271  142170  4.666667\n",
       "9515709  1166271  146941  5.000000\n",
       "9515710  1166271  143191  5.000000\n",
       "9515711  1166271  144081  4.666667\n",
       "\n",
       "[9515712 rows x 3 columns]>"
      ]
     },
     "execution_count": 37,
     "metadata": {},
     "output_type": "execute_result"
    }
   ],
   "execution_count": 37
  },
  {
   "cell_type": "markdown",
   "id": "be708ad1-6fbf-4046-b85a-7c753ff916e9",
   "metadata": {},
   "source": [
    "# Aggregation strategies\n",
    "\n",
    "**In the following we will look at differnt Aggregation strategies such as:**\n",
    "- Additive Aggregator\n",
    "- LeastMiseryAggregator\n",
    "- BalancedAggregator\n",
    "- EPFuzzDAAggregator"
   ]
  },
  {
   "cell_type": "code",
   "id": "973e947c-b7b6-41d5-8b01-d3b73ed0285f",
   "metadata": {
    "ExecuteTime": {
     "end_time": "2024-10-04T00:28:11.400512Z",
     "start_time": "2024-10-04T00:28:11.379747Z"
    }
   },
   "source": [
    "import aggregation_strategies.aggregators as aggr_utils\n",
    "\n",
    "\n",
    "# all aggregation_strategies = [\"BASE\", \"ADD\", \"LMS\", \"GFAR\", \"EPFuzzDA\"]\n",
    "#aggregation_strategies = [\"BASE\", \"ADD\", \"LMS\"]\n",
    "aggregation_strategies = [\"BASE\"]\n",
    "\n",
    "recommendations_number = 10 #number of recommendations to make\n",
    "\n",
    "def generate_group_recommendations_forall_groups(test_df, group_dict, recommendations_number):\n",
    "    group_recommendations = dict()\n",
    "    for group_id in group_dict:\n",
    "        \n",
    "        # extract group info\n",
    "        group = group_dict[group_id]\n",
    "        group_size = group['group_size']\n",
    "        group_similarity = group['group_similarity']\n",
    "        group_members = group['group_members']\n",
    "            \n",
    "        group_ratings = test_df.loc[test_df['user'].isin(group_members)]\n",
    "        \n",
    "        group_rec = dict()\n",
    "        for aggregation_strategy in aggregation_strategies:\n",
    "            agg = aggr_utils.AggregationStrategy.getAggregator(aggregation_strategy)\n",
    "            group_rec = {**group_rec, **agg.generate_group_recommendations_for_group(group_ratings, recommendations_number)}\n",
    "        \n",
    "        \n",
    "        group_recommendations[group_id] = group_rec\n",
    "        \n",
    "    return group_recommendations"
   ],
   "outputs": [],
   "execution_count": 38
  },
  {
   "cell_type": "code",
   "id": "bf184826-38ab-4261-ae84-d2a482cb29c7",
   "metadata": {
    "ExecuteTime": {
     "end_time": "2024-10-04T00:28:18.459585Z",
     "start_time": "2024-10-04T00:28:11.401241Z"
    }
   },
   "source": "group_recommendations = generate_group_recommendations_forall_groups(all_predictions_df, group_dict, recommendations_number)",
   "outputs": [],
   "execution_count": 39
  },
  {
   "cell_type": "markdown",
   "id": "8b48d922",
   "metadata": {},
   "source": [
    "# Evaluating the Group Recommender System"
   ]
  },
  {
   "metadata": {
    "ExecuteTime": {
     "end_time": "2024-10-04T00:28:18.469232Z",
     "start_time": "2024-10-04T00:28:18.461120Z"
    }
   },
   "cell_type": "code",
   "source": "test_df = test_df.rename(columns={'UserID':'user', 'WineID':'item', 'Rating':'rating'})",
   "id": "fce644f7c70e0d27",
   "outputs": [],
   "execution_count": 40
  },
  {
   "cell_type": "code",
   "id": "f55c0a6b",
   "metadata": {
    "ExecuteTime": {
     "end_time": "2024-10-04T00:28:18.475766Z",
     "start_time": "2024-10-04T00:28:18.469859Z"
    }
   },
   "source": [
    "# Global settings\n",
    "binarize_feedback = True\n",
    "binarize_feedback_positive_threshold = 3  # Set a threshold for binarization\n",
    "\n",
    "def evaluateUserNDCG(user_ground_truth, group_recommendation):\n",
    "    dcg = 0\n",
    "\n",
    "    for k, item in enumerate(group_recommendation):\n",
    "        dcg = dcg + ((user_ground_truth.loc[item, \"final_rating\"] if item in user_ground_truth.index else 0) / np.log2(k + 2)) # +2? CHeck with the course slides\n",
    "\n",
    "    idcg = 0\n",
    "    user_ground_truth.sort_values(\"final_rating\", inplace=True, ascending=False)\n",
    "    for k in range(min(len(user_ground_truth), len(group_recommendation))):\n",
    "        idcg = idcg + (user_ground_truth.iloc[k][\"final_rating\"] / np.log2(k + 2)) # +2? CHeck with the course slides\n",
    "    if idcg > 0:\n",
    "        ndcg = dcg / idcg\n",
    "    else:\n",
    "        ndcg = 0\n",
    "\n",
    "    return ndcg\n",
    "\n",
    "\n",
    "def evaluateGroupRecommendation(group_ground_truth, group_recommendation, group_members, binarize_feedback, binarize_feedback_positive_threshold):\n",
    "    ndcg_list = list()\n",
    "    dcg_list = list()\n",
    "    \n",
    "    for user in group_members:\n",
    "        user_ground_truth = group_ground_truth.loc[group_ground_truth['user'] == user]\n",
    "        user_ground_truth.set_index(\"item\", inplace=True)\n",
    "\n",
    "        # feedback binarization\n",
    "        if binarize_feedback:\n",
    "            user_ground_truth[\"final_rating\"] = 0\n",
    "            user_ground_truth.loc[user_ground_truth.rating >= binarize_feedback_positive_threshold, \"final_rating\"] = 1         \n",
    "        else:\n",
    "            user_ground_truth[\"final_rating\"] = user_ground_truth[\"rating\"]\n",
    "        \n",
    "        ndcg_user = evaluateUserNDCG(user_ground_truth, group_recommendation)\n",
    "        ndcg_list.append(ndcg_user)\n",
    "\n",
    "        # failsafe for all negative results\n",
    "        if np.amax(ndcg_list) > 0:\n",
    "            ndcg_min_max = np.amin(ndcg_list) / np.amax(ndcg_list)\n",
    "        else:\n",
    "            ndcg_min_max = 0.0\n",
    "    \n",
    "    return [\n",
    "        {\n",
    "            \"metric\": \"NDCG\",\n",
    "            \"aggr_metric\": \"mean\",\n",
    "            \"value\": np.mean(ndcg_list)\n",
    "        },\n",
    "        {\n",
    "            \"metric\": \"NDCG\",\n",
    "            \"aggr_metric\": \"min\",\n",
    "            \"value\": np.amin(ndcg_list)\n",
    "        },\n",
    "        {\n",
    "            \"metric\": \"NDCG\",\n",
    "            \"aggr_metric\": \"minmax\",\n",
    "            \"value\": ndcg_min_max\n",
    "        }\n",
    "    ]\n",
    "\n",
    "def evaluate_group_recommendations_forall_groups(ground_truth, group_recommendations, group_dict):\n",
    "                                                 \n",
    "    group_evaluations = list()\n",
    "    for group_id in group_dict:\n",
    "        \n",
    "        \n",
    "        # extract group info\n",
    "        group = group_dict[group_id]\n",
    "        group_size = group['group_size']\n",
    "        group_similarity = group['group_similarity']\n",
    "        group_members = group['group_members']\n",
    "        group_rec = group_recommendations[group_id]\n",
    "            \n",
    "        # filter ratings in ground_truth for the group members\n",
    "        group_ground_truth = ground_truth.loc[ground_truth['user'].isin(group_members)]\n",
    "        \n",
    "\n",
    "        for aggregation_strategy in group_rec:\n",
    "            agg_group_rec = group_rec[aggregation_strategy]\n",
    "            agg_group_rec_eval = evaluateGroupRecommendation(group_ground_truth, agg_group_rec, group_members, binarize_feedback, binarize_feedback_positive_threshold)    \n",
    "            # Adding aggregation strategy info\n",
    "            for row in agg_group_rec_eval:\n",
    "                row['aggregation_strategy'] = aggregation_strategy\n",
    "                row['group_id'] = group_id\n",
    "\n",
    "            group_evaluations = group_evaluations + agg_group_rec_eval\n",
    "        \n",
    "    return group_evaluations    \n",
    "\n",
    "\n"
   ],
   "outputs": [],
   "execution_count": 41
  },
  {
   "cell_type": "code",
   "id": "074616c9",
   "metadata": {
    "ExecuteTime": {
     "end_time": "2024-10-04T00:28:28.289751Z",
     "start_time": "2024-10-04T00:28:18.481371Z"
    }
   },
   "source": [
    "import warnings\n",
    "warnings.filterwarnings('ignore')\n",
    "\n",
    "ground_truth = all_predictions_df\n",
    "decoupled_results = evaluate_group_recommendations_forall_groups(ground_truth, group_recommendations, group_dict)\n",
    "\n",
    "ground_truth = test_df\n",
    "coupled_results = evaluate_group_recommendations_forall_groups(ground_truth, group_recommendations, group_dict)\n",
    "\n",
    "# WE USE DECOUPLED RESULTS - MUCH MORE ACCURATE SINCE WE USE THE PREDICTED RATINGS INSTEAD OF DIRECTLY FROM THE TEST SET\n",
    "\n",
    "# Create DataFrame for evaluation results\n",
    "eval_df = pd.DataFrame.from_records(decoupled_results)\n",
    "\n",
    "group_composition_DF = pd.DataFrame(group_dict).T\n",
    "eval_df_with_group_info = group_composition_DF.join(eval_df.set_index(\"group_id\")).reset_index()\n",
    "eval_df_with_group_info.head()"
   ],
   "outputs": [
    {
     "data": {
      "text/plain": [
       "   index group_size group_similarity       group_members avg_similarity  \\\n",
       "0      0          2           random  [1289797, 1393700]      -0.009674   \n",
       "1      0          2           random  [1289797, 1393700]      -0.009674   \n",
       "2      0          2           random  [1289797, 1393700]      -0.009674   \n",
       "3      0          2           random  [1289797, 1393700]      -0.009674   \n",
       "4      0          2           random  [1289797, 1393700]      -0.009674   \n",
       "\n",
       "  metric aggr_metric  value aggregation_strategy  \n",
       "0   NDCG        mean    1.0                  ADD  \n",
       "1   NDCG         min    1.0                  ADD  \n",
       "2   NDCG      minmax    1.0                  ADD  \n",
       "3   NDCG        mean    1.0                  MUL  \n",
       "4   NDCG         min    1.0                  MUL  "
      ],
      "text/html": [
       "<div>\n",
       "<style scoped>\n",
       "    .dataframe tbody tr th:only-of-type {\n",
       "        vertical-align: middle;\n",
       "    }\n",
       "\n",
       "    .dataframe tbody tr th {\n",
       "        vertical-align: top;\n",
       "    }\n",
       "\n",
       "    .dataframe thead th {\n",
       "        text-align: right;\n",
       "    }\n",
       "</style>\n",
       "<table border=\"1\" class=\"dataframe\">\n",
       "  <thead>\n",
       "    <tr style=\"text-align: right;\">\n",
       "      <th></th>\n",
       "      <th>index</th>\n",
       "      <th>group_size</th>\n",
       "      <th>group_similarity</th>\n",
       "      <th>group_members</th>\n",
       "      <th>avg_similarity</th>\n",
       "      <th>metric</th>\n",
       "      <th>aggr_metric</th>\n",
       "      <th>value</th>\n",
       "      <th>aggregation_strategy</th>\n",
       "    </tr>\n",
       "  </thead>\n",
       "  <tbody>\n",
       "    <tr>\n",
       "      <th>0</th>\n",
       "      <td>0</td>\n",
       "      <td>2</td>\n",
       "      <td>random</td>\n",
       "      <td>[1289797, 1393700]</td>\n",
       "      <td>-0.009674</td>\n",
       "      <td>NDCG</td>\n",
       "      <td>mean</td>\n",
       "      <td>1.0</td>\n",
       "      <td>ADD</td>\n",
       "    </tr>\n",
       "    <tr>\n",
       "      <th>1</th>\n",
       "      <td>0</td>\n",
       "      <td>2</td>\n",
       "      <td>random</td>\n",
       "      <td>[1289797, 1393700]</td>\n",
       "      <td>-0.009674</td>\n",
       "      <td>NDCG</td>\n",
       "      <td>min</td>\n",
       "      <td>1.0</td>\n",
       "      <td>ADD</td>\n",
       "    </tr>\n",
       "    <tr>\n",
       "      <th>2</th>\n",
       "      <td>0</td>\n",
       "      <td>2</td>\n",
       "      <td>random</td>\n",
       "      <td>[1289797, 1393700]</td>\n",
       "      <td>-0.009674</td>\n",
       "      <td>NDCG</td>\n",
       "      <td>minmax</td>\n",
       "      <td>1.0</td>\n",
       "      <td>ADD</td>\n",
       "    </tr>\n",
       "    <tr>\n",
       "      <th>3</th>\n",
       "      <td>0</td>\n",
       "      <td>2</td>\n",
       "      <td>random</td>\n",
       "      <td>[1289797, 1393700]</td>\n",
       "      <td>-0.009674</td>\n",
       "      <td>NDCG</td>\n",
       "      <td>mean</td>\n",
       "      <td>1.0</td>\n",
       "      <td>MUL</td>\n",
       "    </tr>\n",
       "    <tr>\n",
       "      <th>4</th>\n",
       "      <td>0</td>\n",
       "      <td>2</td>\n",
       "      <td>random</td>\n",
       "      <td>[1289797, 1393700]</td>\n",
       "      <td>-0.009674</td>\n",
       "      <td>NDCG</td>\n",
       "      <td>min</td>\n",
       "      <td>1.0</td>\n",
       "      <td>MUL</td>\n",
       "    </tr>\n",
       "  </tbody>\n",
       "</table>\n",
       "</div>"
      ]
     },
     "execution_count": 42,
     "metadata": {},
     "output_type": "execute_result"
    }
   ],
   "execution_count": 42
  },
  {
   "cell_type": "code",
   "id": "3f99a714",
   "metadata": {
    "ExecuteTime": {
     "end_time": "2024-10-04T00:28:28.703095Z",
     "start_time": "2024-10-04T00:28:28.290535Z"
    }
   },
   "source": [
    "all_group_res = eval_df.groupby(['metric', 'aggr_metric', 'aggregation_strategy']).mean().reset_index()\n",
    "\n",
    "g = sns.catplot(data=eval_df, row=\"metric\", col=\"aggr_metric\", \n",
    "                   x=\"aggregation_strategy\", y=\"value\", sharex=False, sharey=False,\n",
    "                   kind=\"bar\",  height=3.5, aspect=1.2)"
   ],
   "outputs": [
    {
     "data": {
      "text/plain": [
       "<Figure size 1260x350 with 3 Axes>"
      ],
      "image/png": "[encoded data removed]"
     },
     "metadata": {},
     "output_type": "display_data"
    }
   ],
   "execution_count": 43
  },
  {
   "cell_type": "code",
   "id": "9944ab5c",
   "metadata": {
    "ExecuteTime": {
     "end_time": "2024-10-04T00:28:30.448249Z",
     "start_time": "2024-10-04T00:28:28.704486Z"
    }
   },
   "source": [
    "g = sns.catplot(data=eval_df_with_group_info, col=\"group_size\", row=\"aggr_metric\", \n",
    "                   x=\"aggregation_strategy\", y=\"value\", sharex=False, sharey=\"row\",\n",
    "                   kind=\"bar\",  height=3.5, aspect=1.2)\n",
    "plt.suptitle(\"Metric\")\n",
    "plt.tight_layout()"
   ],
   "outputs": [
    {
     "data": {
      "text/plain": [
       "<Figure size 1260x1050 with 9 Axes>"
      ],
      "image/png": "[encoded data removed]"
     },
     "metadata": {},
     "output_type": "display_data"
    }
   ],
   "execution_count": 44
  },
  {
   "cell_type": "code",
   "id": "cc756bcd",
   "metadata": {},
   "source": [
    "def evaluateGroupRecommendationPrecisionRecall(group_ground_truth, group_recommendation, group_members, binarize_feedback, binarize_feedback_positive_threshold):\n",
    "    precision_list = []\n",
    "    recall_list = []\n",
    "\n",
    "    for user in group_members:\n",
    "        user_ground_truth = group_ground_truth.loc[group_ground_truth['user'] == user]\n",
    "        user_ground_truth.set_index(\"item\", inplace=True)\n",
    "\n",
    "        # Feedback binarization\n",
    "        if binarize_feedback:\n",
    "            user_ground_truth[\"final_rating\"] = 0\n",
    "            user_ground_truth.loc[user_ground_truth.rating >= binarize_feedback_positive_threshold, \"final_rating\"] = 1         \n",
    "        else:\n",
    "            user_ground_truth[\"final_rating\"] = user_ground_truth[\"rating\"]\n",
    "\n",
    "        # Calculate Precision and Recall\n",
    "        true_positives = np.sum((user_ground_truth[\"final_rating\"] == 1) & (user_ground_truth.index.isin(group_recommendation)))\n",
    "        predicted_positives = len(group_recommendation)\n",
    "        actual_positives = np.sum(user_ground_truth[\"final_rating\"] == 1)\n",
    "\n",
    "        precision = true_positives / predicted_positives if predicted_positives > 0 else 0\n",
    "        recall = true_positives / actual_positives if actual_positives > 0 else 0\n",
    "\n",
    "        precision_list.append(precision)\n",
    "        recall_list.append(recall)\n",
    "\n",
    "    return [\n",
    "        {\n",
    "            \"metric\": \"Precision\",\n",
    "            \"aggr_metric\": \"mean\",\n",
    "            \"value\": np.mean(precision_list)\n",
    "        },\n",
    "        {\n",
    "            \"metric\": \"Precision\",\n",
    "            \"aggr_metric\": \"min\",\n",
    "            \"value\": np.amin(precision_list)\n",
    "        },\n",
    "        {\n",
    "            \"metric\": \"Precision\",\n",
    "            \"aggr_metric\": \"minmax\",\n",
    "            \"value\": np.amin(precision_list) / (np.amax(precision_list) if np.amax(precision_list) > 0 else 1)\n",
    "        },\n",
    "        {\n",
    "            \"metric\": \"Recall\",\n",
    "            \"aggr_metric\": \"mean\",\n",
    "            \"value\": np.mean(recall_list)\n",
    "        },\n",
    "        {\n",
    "            \"metric\": \"Recall\",\n",
    "            \"aggr_metric\": \"min\",\n",
    "            \"value\": np.amin(recall_list)\n",
    "        },\n",
    "        {\n",
    "            \"metric\": \"Recall\",\n",
    "            \"aggr_metric\": \"minmax\",\n",
    "            \"value\": np.amin(recall_list) / (np.amax(recall_list) if np.amax(recall_list) > 0 else 1)\n",
    "        }\n",
    "    ]\n"
   ],
   "outputs": [],
   "execution_count": 45
  },
  {
   "cell_type": "code",
   "id": "71c078d2",
   "metadata": {
    "ExecuteTime": {
     "end_time": "2024-10-04T00:28:48.176840Z",
     "start_time": "2024-10-04T00:28:30.464061Z"
    }
   },
   "source": [
    "# Evaluate recommendations for NDCG\n",
    "ground_truth = all_predictions_df\n",
    "decoupled_results_ndcg = evaluate_group_recommendations_forall_groups(ground_truth, group_recommendations, group_dict)\n",
    "\n",
    "# Evaluate recommendations for Precision and Recall\n",
    "decoupled_results_precision_recall = []\n",
    "for group_id in group_dict:\n",
    "    group = group_dict[group_id]\n",
    "    group_members = group['group_members']\n",
    "    group_rec = group_recommendations[group_id]\n",
    "    \n",
    "    group_ground_truth = ground_truth.loc[ground_truth['user'].isin(group_members)]\n",
    "    \n",
    "    for aggregation_strategy in group_rec:\n",
    "        agg_group_rec = group_rec[aggregation_strategy]\n",
    "        agg_group_rec_eval = evaluateGroupRecommendationPrecisionRecall(group_ground_truth, agg_group_rec, group_members, binarize_feedback, binarize_feedback_positive_threshold)    \n",
    "\n",
    "        for row in agg_group_rec_eval:\n",
    "            row['aggregation_strategy'] = aggregation_strategy\n",
    "            row['group_id'] = group_id\n",
    "\n",
    "        decoupled_results_precision_recall += agg_group_rec_eval\n",
    "\n",
    "# Create DataFrame for Precision and Recall results\n",
    "eval_df_precision_recall = pd.DataFrame.from_records(decoupled_results_precision_recall)\n"
   ],
   "outputs": [],
   "execution_count": 46
  },
  {
   "cell_type": "code",
   "id": "9252e7e9",
   "metadata": {
    "ExecuteTime": {
     "end_time": "2024-10-04T00:28:48.612702Z",
     "start_time": "2024-10-04T00:28:48.178291Z"
    }
   },
   "source": [
    "import seaborn as sns\n",
    "import matplotlib.pyplot as plt\n",
    "\n",
    "# Plotting Precision\n",
    "g_precision = sns.catplot(data=eval_df_precision_recall[eval_df_precision_recall['metric'] == 'Precision'], \n",
    "                          x=\"aggregation_strategy\", y=\"value\", hue=\"aggr_metric\",\n",
    "                          kind=\"bar\", height=4, aspect=1.5)\n",
    "g_precision.set_axis_labels(\"Aggregation Strategy\", \"Precision Value\")\n",
    "g_precision.fig.suptitle(\"Precision by Aggregation Strategy\", y=1.03)\n",
    "\n",
    "# Plotting Recall\n",
    "g_recall = sns.catplot(data=eval_df_precision_recall[eval_df_precision_recall['metric'] == 'Recall'], \n",
    "                       x=\"aggregation_strategy\", y=\"value\", hue=\"aggr_metric\",\n",
    "                       kind=\"bar\", height=4, aspect=1.5)\n",
    "g_recall.set_axis_labels(\"Aggregation Strategy\", \"Recall Value\")\n",
    "g_recall.fig.suptitle(\"Recall by Aggregation Strategy\", y=1.03)\n",
    "\n",
    "plt.show()\n"
   ],
   "outputs": [
    {
     "data": {
      "text/plain": [
       "<Figure size 698.625x400 with 1 Axes>"
      ],
      "image/png": "[encoded data removed]"
     },
     "metadata": {},
     "output_type": "display_data"
    },
    {
     "data": {
      "text/plain": [
       "<Figure size 698.625x400 with 1 Axes>"
      ],
      "image/png": "[encoded data removed]"
     },
     "metadata": {},
     "output_type": "display_data"
    }
   ],
   "execution_count": 47
  }
 ],
 "metadata": {
  "kernelspec": {
   "display_name": "Python 3 (ipykernel)",
   "language": "python",
   "name": "python3"
  },
  "language_info": {
   "codemirror_mode": {
    "name": "ipython",
    "version": 3
   },
   "file_extension": ".py",
   "mimetype": "text/x-python",
   "name": "python",
   "nbconvert_exporter": "python",
   "pygments_lexer": "ipython3",
   "version": "3.11.5"
  }
 },
 "nbformat": 4,
 "nbformat_minor": 5
}
