{
 "cells": [
  {
   "cell_type": "code",
   "execution_count": 30,
   "id": "8e2be399-cfdb-4b76-b65e-61fe3c93fa36",
   "metadata": {},
   "outputs": [],
   "source": [
    "## all imports up here, rerun this block when adding\n",
    "import pandas as pd\n",
    "import numpy as np\n",
    "import cv2 as cv\n",
    "import sys\n",
    "sys.path.insert(0, '../Synthetic Group Creation/')\n",
    "from groups_generators import GroupsGenerator\n",
    "sys.path.insert(0, '../Synthetic Group Creation/')\n",
    "import config as cfg  \n"
   ]
  },
  {
   "cell_type": "code",
   "execution_count": 59,
   "id": "fb44a283-6534-4f85-ae76-1a041d0b039f",
   "metadata": {},
   "outputs": [],
   "source": [
    "ratings_df = pd.read_csv(\"../../Datasets/XWines_Slim_1K_wines_150K_ratings/XWines_Slim_150K_ratings.csv\", low_memory=False, encoding=\"utf-8\", memory_map=True)\n",
    "wines_df = pd.read_csv(\"../../Datasets/XWines_Slim_1K_wines_150K_ratings/XWines_Slim_1K_wines.csv\", low_memory=False, encoding=\"utf-8\", memory_map=True)"
   ]
  },
  {
   "cell_type": "code",
   "execution_count": null,
   "id": "4c036882-5f10-4640-999b-3bafc56ce1ff",
   "metadata": {},
   "outputs": [],
   "source": [
    "wines_df = pd.read_csv(\"../../Datasets/All-XWines_Full_100K_wines_21M_ratings/XWines_Full_100K_wines.csv\", low_memory=False, encoding=\"utf-8\", memory_map=True)\n",
    "ratings_df = pd.read_csv(\"../../Datasets/All-XWines_Full_100K_wines_21M_ratings/XWines_Full_21M_ratings.csv\", low_memory=False, encoding=\"utf-8\", memory_map=True)"
   ]
  },
  {
   "cell_type": "code",
   "execution_count": 67,
   "id": "b83b66a0-1e05-46f1-8704-f2bdbc494845",
   "metadata": {},
   "outputs": [
    {
     "data": {
      "text/html": [
       "<div>\n",
       "<style scoped>\n",
       "    .dataframe tbody tr th:only-of-type {\n",
       "        vertical-align: middle;\n",
       "    }\n",
       "\n",
       "    .dataframe tbody tr th {\n",
       "        vertical-align: top;\n",
       "    }\n",
       "\n",
       "    .dataframe thead th {\n",
       "        text-align: right;\n",
       "    }\n",
       "</style>\n",
       "<table border=\"1\" class=\"dataframe\">\n",
       "  <thead>\n",
       "    <tr style=\"text-align: right;\">\n",
       "      <th></th>\n",
       "      <th>RatingID</th>\n",
       "      <th>UserID</th>\n",
       "      <th>WineID</th>\n",
       "      <th>Vintage</th>\n",
       "      <th>Rating</th>\n",
       "      <th>Date</th>\n",
       "    </tr>\n",
       "  </thead>\n",
       "  <tbody>\n",
       "    <tr>\n",
       "      <th>0</th>\n",
       "      <td>143</td>\n",
       "      <td>1356810</td>\n",
       "      <td>103471</td>\n",
       "      <td>1950</td>\n",
       "      <td>4.5</td>\n",
       "      <td>2021-11-02 20:52:59</td>\n",
       "    </tr>\n",
       "    <tr>\n",
       "      <th>1</th>\n",
       "      <td>199</td>\n",
       "      <td>1173759</td>\n",
       "      <td>111415</td>\n",
       "      <td>1951</td>\n",
       "      <td>5.0</td>\n",
       "      <td>2015-08-20 17:46:26</td>\n",
       "    </tr>\n",
       "    <tr>\n",
       "      <th>2</th>\n",
       "      <td>348</td>\n",
       "      <td>1164877</td>\n",
       "      <td>111395</td>\n",
       "      <td>1952</td>\n",
       "      <td>5.0</td>\n",
       "      <td>2020-11-13 05:40:26</td>\n",
       "    </tr>\n",
       "    <tr>\n",
       "      <th>3</th>\n",
       "      <td>374</td>\n",
       "      <td>1207665</td>\n",
       "      <td>111433</td>\n",
       "      <td>1953</td>\n",
       "      <td>5.0</td>\n",
       "      <td>2017-05-05 06:44:13</td>\n",
       "    </tr>\n",
       "    <tr>\n",
       "      <th>4</th>\n",
       "      <td>834</td>\n",
       "      <td>1075841</td>\n",
       "      <td>111431</td>\n",
       "      <td>1955</td>\n",
       "      <td>5.0</td>\n",
       "      <td>2016-09-14 20:18:38</td>\n",
       "    </tr>\n",
       "  </tbody>\n",
       "</table>\n",
       "</div>"
      ],
      "text/plain": [
       "   RatingID   UserID  WineID Vintage  Rating                 Date\n",
       "0       143  1356810  103471    1950     4.5  2021-11-02 20:52:59\n",
       "1       199  1173759  111415    1951     5.0  2015-08-20 17:46:26\n",
       "2       348  1164877  111395    1952     5.0  2020-11-13 05:40:26\n",
       "3       374  1207665  111433    1953     5.0  2017-05-05 06:44:13\n",
       "4       834  1075841  111431    1955     5.0  2016-09-14 20:18:38"
      ]
     },
     "execution_count": 67,
     "metadata": {},
     "output_type": "execute_result"
    }
   ],
   "source": [
    "ratings_df.head()"
   ]
  },
  {
   "cell_type": "code",
   "execution_count": 69,
   "id": "83c11fca-9561-4657-abbd-a258aa297dcf",
   "metadata": {},
   "outputs": [
    {
     "data": {
      "text/plain": [
       "(1007, 17)"
      ]
     },
     "execution_count": 69,
     "metadata": {},
     "output_type": "execute_result"
    }
   ],
   "source": [
    "wines_df.shape"
   ]
  },
  {
   "cell_type": "markdown",
   "id": "f89ef9b3-6c6e-4c30-8a46-fdcf79c7cb4f",
   "metadata": {},
   "source": [
    "**Group settings**"
   ]
  },
  {
   "cell_type": "code",
   "execution_count": 73,
   "id": "96541610-8d07-436a-b2de-c6d1a6e8c15d",
   "metadata": {},
   "outputs": [],
   "source": [
    "group_sizes_to_create = cfg.group_sizes_to_create\n",
    "group_similarity_to_create = cfg.group_similarity_to_create\n",
    "group_number = cfg.group_number"
   ]
  },
  {
   "cell_type": "markdown",
   "id": "5bd6902b-124f-4667-a264-a7e2b9605cee",
   "metadata": {},
   "source": [
    "# Similarity evaluation"
   ]
  },
  {
   "cell_type": "code",
   "execution_count": 77,
   "id": "639c1bfa-0a0b-4ade-aec8-adb01bf2804c",
   "metadata": {},
   "outputs": [
    {
     "name": "stdout",
     "output_type": "stream",
     "text": [
      "14\n"
     ]
    }
   ],
   "source": [
    "# Counts the amount of ratings per user\n",
    "ratings_per_user = ratings_df.groupby('UserID').size()\n",
    "\n",
    "# Calculate the average number of ratings per user\n",
    "average_number_of_rating = ratings_per_user.mean()\n",
    "\n",
    "#Round Value\n",
    "rounded_average_number_of_rating = round(average_number_of_rating)\n",
    "print(rounded_average_number_of_rating)"
   ]
  },
  {
   "cell_type": "code",
   "execution_count": 80,
   "id": "89da2a5b-af2b-4740-b2fd-29a2fc7eea76",
   "metadata": {},
   "outputs": [
    {
     "name": "stdout",
     "output_type": "stream",
     "text": [
      "        RatingID   UserID  WineID Vintage  Rating                 Date\n",
      "3            374  1207665  111433    1953     5.0  2017-05-05 06:44:13\n",
      "4            834  1075841  111431    1955     5.0  2016-09-14 20:18:38\n",
      "5            876  1211463  111395    1955     5.0  2021-12-02 23:12:49\n",
      "6           1005  1076348  111433    1955     4.5  2021-06-19 19:53:56\n",
      "8           1029  1225931  111431    1955     5.0  2017-04-24 01:41:52\n",
      "...          ...      ...     ...     ...     ...                  ...\n",
      "149993  21013409  1086949  111484    N.V.     4.5  2019-04-14 17:31:49\n",
      "149994  21013430  1026866  111479    N.V.     4.0  2014-11-22 15:00:48\n",
      "149995  21013438  1000052  111468    N.V.     4.5  2021-12-22 21:03:51\n",
      "149997  21013494  1218581  113690    N.V.     3.5  2019-04-14 17:45:08\n",
      "149999  21013509  1059173  111479    N.V.     5.0  2019-09-08 15:42:28\n",
      "\n",
      "[70480 rows x 6 columns]\n"
     ]
    }
   ],
   "source": [
    "# Count the number of ratings for each user\n",
    "user_counts = ratings_df['UserID'].value_counts()\n",
    "\n",
    "# Filter users who have at least the specified number of ratings\n",
    "filtered_users = user_counts[user_counts <= rounded_average_number_of_rating].index\n",
    "\n",
    "# Filter the DataFrame to keep only these users\n",
    "ratings_df = ratings_df[ratings_df['UserID'].isin(filtered_users)]\n",
    "print(ratings_df)"
   ]
  },
  {
   "cell_type": "code",
   "execution_count": 83,
   "id": "66f9a940-275f-4871-a4cc-d1fca31cc70e",
   "metadata": {},
   "outputs": [],
   "source": [
    "# computing similarity between each pair of users\n",
    "user_matrix = ratings_df.pivot_table(columns='WineID', index='UserID', values='Rating')\n",
    "user_id_set = set(ratings_df['UserID'])\n",
    "user_id_indexes = user_matrix.index.values\n",
    "user_matrix = user_matrix.fillna(0)\n",
    "numpy_array = user_matrix.to_numpy()\n",
    "sim_matrix = np.corrcoef(numpy_array)"
   ]
  },
  {
   "cell_type": "markdown",
   "id": "fcfdb39b-c8e3-4ea2-9f8b-4917c4c66dae",
   "metadata": {},
   "source": [
    "## Visualization of the similarity distribution"
   ]
  },
  {
   "cell_type": "code",
   "execution_count": 92,
   "id": "3cefe30b-fc5a-4cd9-8269-1cd07ca4ff66",
   "metadata": {},
   "outputs": [
    {
     "data": {
      "text/plain": [
       "Text(0.5, 0, \"Pearson's Correlation Coeficient\")"
      ]
     },
     "execution_count": 92,
     "metadata": {},
     "output_type": "execute_result"
    },
    {
     "data": {
      "image/png": "[encoded data removed]",
      "text/plain": [
       "<Figure size 640x480 with 1 Axes>"
      ]
     },
     "metadata": {},
     "output_type": "display_data"
    }
   ],
   "source": [
    "%matplotlib inline\n",
    "import matplotlib.pyplot as plt\n",
    "plt.hist(sim_matrix.flatten())\n",
    "plt.yscale(\"log\")\n",
    "plt.xlabel(\"Pearson's Correlation Coeficient\")"
   ]
  },
  {
   "cell_type": "markdown",
   "id": "e08d5696-e75a-4ef7-87e2-8649c2ba7550",
   "metadata": {},
   "source": [
    "## Group creation"
   ]
  },
  {
   "cell_type": "code",
   "execution_count": 117,
   "id": "68873b73-1509-4a67-961a-fd879dbcd58c",
   "metadata": {},
   "outputs": [
    {
     "name": "stdout",
     "output_type": "stream",
     "text": [
      "20\n",
      "40\n",
      "60\n",
      "20\n",
      "40\n",
      "60\n",
      "20\n",
      "40\n",
      "60\n",
      "20\n",
      "40\n",
      "60\n"
     ]
    }
   ],
   "source": [
    "from groups_generators import GroupsGenerator\n",
    "user_id_set = sorted(user_id_set)\n",
    "group_list = list()\n",
    "\n",
    "for group_type in group_similarity_to_create:\n",
    "    grpGenerator = GroupsGenerator.getGroupsGenerator(group_type)\n",
    "    current_list = grpGenerator.generateGroups(user_id_indexes, user_id_set, sim_matrix, group_sizes_to_create, group_number)\n",
    "    group_list = group_list + current_list\n",
    "\n",
    "group_dict = dict()\n",
    "for group_id, group in zip(range(len(group_list)), group_list):\n",
    "    group_dict[group_id] = group"
   ]
  },
  {
   "cell_type": "code",
   "execution_count": 122,
   "id": "df781f21-5d44-4ee9-8d08-a73ceece9387",
   "metadata": {},
   "outputs": [
    {
     "data": {
      "image/png": "[encoded data removed]",
      "text/plain": [
       "<Figure size 1200x700 with 1 Axes>"
      ]
     },
     "metadata": {},
     "output_type": "display_data"
    }
   ],
   "source": [
    "group_similarity = \"similar\"\n",
    "group_size = 8\n",
    "histogram_list = []\n",
    "for gid in group_dict.keys():\n",
    "    g = group_dict[gid]\n",
    "    if g[\"group_similarity\"] == group_similarity and g[\"group_size\"] == group_size:\n",
    "        member_index = [user_id_indexes.tolist().index(member) for member in g[\"group_members\"]]\n",
    "        s = sim_matrix[member_index]\n",
    "        histogram_list.extend(s[:,member_index].flatten().tolist())\n",
    "\n",
    "        \n",
    "plt.hist(histogram_list)\n",
    "#plt.yscale(\"log\")\n",
    "plt.xlabel(\"PCC for \"+group_similarity+\" groups, size:\"+str(group_size)+\" threshold:\"+str(cfg.similar_threshold))    \n",
    "plt.savefig(\"pcc_\"+group_similarity+\"_\"+str(group_size)+\"_\"+str(int(cfg.similar_threshold*10))+\".png\", dpi=300)"
   ]
  },
  {
   "cell_type": "code",
   "execution_count": 129,
   "id": "93052783-373d-4a79-9494-e0176c560219",
   "metadata": {},
   "outputs": [
    {
     "data": {
      "image/png": "[encoded data removed]",
      "text/plain": [
       "<Figure size 1200x700 with 1 Axes>"
      ]
     },
     "metadata": {},
     "output_type": "display_data"
    }
   ],
   "source": [
    "group_similarity = \"divergent\"\n",
    "group_size = 8\n",
    "histogram_list = []\n",
    "for gid in group_dict.keys():\n",
    "    g = group_dict[gid]\n",
    "    if g[\"group_similarity\"] == group_similarity and g[\"group_size\"] == group_size:\n",
    "        member_index = [user_id_indexes.tolist().index(member) for member in g[\"group_members\"]]\n",
    "        s = sim_matrix[member_index]\n",
    "        histogram_list.extend(s[:,member_index].flatten().tolist())\n",
    "\n",
    "        \n",
    "plt.hist(histogram_list)\n",
    "#plt.yscale(\"log\")\n",
    "plt.xlabel(\"PCC for \"+group_similarity+\" groups, size:\"+str(group_size)+\" threshold:\"+str(cfg.dissimilar_threshold))    \n",
    "plt.savefig(\"pcc_\"+group_similarity+\"_\"+str(group_size)+\"_\"+str(int(cfg.dissimilar_threshold*10))+\".png\", dpi=300)"
   ]
  },
  {
   "cell_type": "markdown",
   "id": "5a3ecb65-b14d-4adf-95d3-0ad8727bd872",
   "metadata": {},
   "source": [
    "### Comparing groups internal average similarity between the different types and sizes "
   ]
  },
  {
   "cell_type": "code",
   "execution_count": 151,
   "id": "0bfa2fed-658d-41fd-a852-6a3ce40964e0",
   "metadata": {},
   "outputs": [
    {
     "data": {
      "text/html": [
       "<div>\n",
       "<style scoped>\n",
       "    .dataframe tbody tr th:only-of-type {\n",
       "        vertical-align: middle;\n",
       "    }\n",
       "\n",
       "    .dataframe tbody tr th {\n",
       "        vertical-align: top;\n",
       "    }\n",
       "\n",
       "    .dataframe thead th {\n",
       "        text-align: right;\n",
       "    }\n",
       "</style>\n",
       "<table border=\"1\" class=\"dataframe\">\n",
       "  <thead>\n",
       "    <tr style=\"text-align: right;\">\n",
       "      <th></th>\n",
       "      <th>group_id</th>\n",
       "      <th>group_size</th>\n",
       "      <th>group_similarity</th>\n",
       "      <th>group_members</th>\n",
       "      <th>avg_similarity</th>\n",
       "    </tr>\n",
       "  </thead>\n",
       "  <tbody>\n",
       "    <tr>\n",
       "      <th>0</th>\n",
       "      <td>0</td>\n",
       "      <td>2</td>\n",
       "      <td>random</td>\n",
       "      <td>[1011730, 1222696]</td>\n",
       "      <td>-0.011088</td>\n",
       "    </tr>\n",
       "    <tr>\n",
       "      <th>1</th>\n",
       "      <td>1</td>\n",
       "      <td>2</td>\n",
       "      <td>random</td>\n",
       "      <td>[1465808, 1891978]</td>\n",
       "      <td>-0.003386</td>\n",
       "    </tr>\n",
       "    <tr>\n",
       "      <th>2</th>\n",
       "      <td>2</td>\n",
       "      <td>2</td>\n",
       "      <td>random</td>\n",
       "      <td>[1855392, 1642793]</td>\n",
       "      <td>-0.004753</td>\n",
       "    </tr>\n",
       "    <tr>\n",
       "      <th>3</th>\n",
       "      <td>3</td>\n",
       "      <td>2</td>\n",
       "      <td>random</td>\n",
       "      <td>[1950031, 1160507]</td>\n",
       "      <td>0.156548</td>\n",
       "    </tr>\n",
       "    <tr>\n",
       "      <th>4</th>\n",
       "      <td>4</td>\n",
       "      <td>2</td>\n",
       "      <td>random</td>\n",
       "      <td>[1367385, 1207951]</td>\n",
       "      <td>-0.010529</td>\n",
       "    </tr>\n",
       "    <tr>\n",
       "      <th>5</th>\n",
       "      <td>5</td>\n",
       "      <td>2</td>\n",
       "      <td>random</td>\n",
       "      <td>[1028380, 1496287]</td>\n",
       "      <td>0.093958</td>\n",
       "    </tr>\n",
       "    <tr>\n",
       "      <th>6</th>\n",
       "      <td>6</td>\n",
       "      <td>2</td>\n",
       "      <td>random</td>\n",
       "      <td>[1562442, 1183964]</td>\n",
       "      <td>-0.008479</td>\n",
       "    </tr>\n",
       "    <tr>\n",
       "      <th>7</th>\n",
       "      <td>7</td>\n",
       "      <td>2</td>\n",
       "      <td>random</td>\n",
       "      <td>[1276338, 1133004]</td>\n",
       "      <td>0.077521</td>\n",
       "    </tr>\n",
       "    <tr>\n",
       "      <th>8</th>\n",
       "      <td>8</td>\n",
       "      <td>2</td>\n",
       "      <td>random</td>\n",
       "      <td>[1020486, 1285964]</td>\n",
       "      <td>0.169644</td>\n",
       "    </tr>\n",
       "    <tr>\n",
       "      <th>9</th>\n",
       "      <td>9</td>\n",
       "      <td>2</td>\n",
       "      <td>random</td>\n",
       "      <td>[1156175, 1369086]</td>\n",
       "      <td>-0.009043</td>\n",
       "    </tr>\n",
       "  </tbody>\n",
       "</table>\n",
       "</div>"
      ],
      "text/plain": [
       "   group_id  group_size group_similarity       group_members  avg_similarity\n",
       "0         0           2           random  [1011730, 1222696]       -0.011088\n",
       "1         1           2           random  [1465808, 1891978]       -0.003386\n",
       "2         2           2           random  [1855392, 1642793]       -0.004753\n",
       "3         3           2           random  [1950031, 1160507]        0.156548\n",
       "4         4           2           random  [1367385, 1207951]       -0.010529\n",
       "5         5           2           random  [1028380, 1496287]        0.093958\n",
       "6         6           2           random  [1562442, 1183964]       -0.008479\n",
       "7         7           2           random  [1276338, 1133004]        0.077521\n",
       "8         8           2           random  [1020486, 1285964]        0.169644\n",
       "9         9           2           random  [1156175, 1369086]       -0.009043"
      ]
     },
     "metadata": {},
     "output_type": "display_data"
    }
   ],
   "source": [
    "groups_list = list()\n",
    "for group in group_dict:\n",
    "    groups_list.append(\n",
    "        {\n",
    "            'group_id': group,\n",
    "            'group_size': group_dict[group]['group_size'],\n",
    "            'group_similarity': group_dict[group]['group_similarity'],\n",
    "            'group_members': group_dict[group]['group_members'],\n",
    "            'avg_similarity': group_dict[group]['avg_similarity']\n",
    "        }\n",
    "    )\n",
    "\n",
    "groups_df = pd.DataFrame.from_records(groups_list)\n",
    "display(groups_df.head(10))"
   ]
  },
  {
   "cell_type": "code",
   "execution_count": 154,
   "id": "f2fed3c0-ef28-433d-ad60-f1156e66dfac",
   "metadata": {},
   "outputs": [
    {
     "data": {
      "image/png": "[encoded data removed]",
      "text/plain": [
       "<Figure size 2000x1000 with 1 Axes>"
      ]
     },
     "metadata": {},
     "output_type": "display_data"
    }
   ],
   "source": [
    "import seaborn as sns\n",
    "\n",
    "\n",
    "plt.rcParams[\"figure.figsize\"] = (20,10)\n",
    "sns.boxplot(x = groups_df['group_size'],\n",
    "            y = groups_df['avg_similarity'],\n",
    "            hue = groups_df['group_similarity'])\n",
    "import matplotlib.pyplot as plt"
   ]
  },
  {
   "cell_type": "code",
   "execution_count": null,
   "id": "3dd7d129-680d-4785-a37d-9f508d94f826",
   "metadata": {},
   "outputs": [],
   "source": []
  }
 ],
 "metadata": {
  "kernelspec": {
   "display_name": "Python 3 (ipykernel)",
   "language": "python",
   "name": "python3"
  },
  "language_info": {
   "codemirror_mode": {
    "name": "ipython",
    "version": 3
   },
   "file_extension": ".py",
   "mimetype": "text/x-python",
   "name": "python",
   "nbconvert_exporter": "python",
   "pygments_lexer": "ipython3",
   "version": "3.11.7"
  }
 },
 "nbformat": 4,
 "nbformat_minor": 5
}
