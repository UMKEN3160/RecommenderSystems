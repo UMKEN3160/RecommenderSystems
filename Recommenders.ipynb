{
 "cells": [
  {
   "cell_type": "code",
   "execution_count": null,
   "metadata": {},
   "outputs": [],
   "source": [
    "## all imports up here, rerun this block when adding\n",
    "import pandas as pd\n",
    "import numpy as np\n",
    "import cv2 as cv"
   ]
  },
  {
   "cell_type": "code",
   "execution_count": null,
   "metadata": {},
   "outputs": [],
   "source": [
    "\n",
    "##assumes dataset in folder\n",
    "wines   = pd.read_csv(\"XWines_100K_wines.csv\", low_memory=False, encoding=\"utf-8\", memory_map=True)\n",
    "ratings = pd.read_csv(\"XWines_21M_ratings.csv\", low_memory=False, encoding=\"utf-8\", memory_map=True)\n",
    "len(wines), len(ratings)"
   ]
  },
  {
   "cell_type": "code",
   "execution_count": null,
   "metadata": {},
   "outputs": [],
   "source": [
    "def read():\n",
    "    ##assumes dataset in folder\n",
    "    wines   = pd.read_csv(\"XWines_100K_wines.csv\", low_memory=False, encoding=\"utf-8\", memory_map=True)\n",
    "    ratings = pd.read_csv(\"XWines_21M_ratings.csv\", low_memory=False, encoding=\"utf-8\", memory_map=True)\n",
    "    return wines,ratings"
   ]
  }
 ],
 "metadata": {
  "kernelspec": {
   "display_name": "Python 3",
   "language": "python",
   "name": "python3"
  },
  "language_info": {
   "name": "python",
   "version": "3.10.7"
  }
 },
 "nbformat": 4,
 "nbformat_minor": 2
}
