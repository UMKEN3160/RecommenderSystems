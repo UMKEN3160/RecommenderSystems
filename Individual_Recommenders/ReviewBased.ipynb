{
 "cells": [
  {
   "cell_type": "code",
   "execution_count": 7,
   "metadata": {},
   "outputs": [],
   "source": [
    "##standard imports\n",
    "import pandas as pd\n",
    "import numpy as np\n",
    "from scipy.sparse import csr_matrix as csr\n",
    "from sklearn.preprocessing import OneHotEncoder, MinMaxScaler\n",
    "from matplotlib import pyplot as plt\n",
    "import cv2 as cv\n",
    "from sklearn.feature_extraction.text import TfidfVectorizer\n",
    "from sklearn.preprocessing import OneHotEncoder\n",
    "from sklearn.compose import ColumnTransformer\n",
    "import scipy.sparse as sp\n",
    "import warnings\n",
    "\n",
    "from scipy.sparse import csr_matrix\n",
    "from implicit.als import AlternatingLeastSquares\n",
    "from implicit.evaluation import mean_average_precision_at_k\n",
    "\n",
    "warnings.simplefilter(action='ignore', category=FutureWarning)\n"
   ]
  },
  {
   "cell_type": "code",
   "execution_count": 4,
   "metadata": {},
   "outputs": [],
   "source": [
    "##importing the data\n",
    "user_reviews = pd.read_csv(\"C:\\\\Users\\\\Dell\\\\reommenders\\\\RecommenderSystems\\\\XWines_Test_1K_ratings.csv\", low_memory=False, encoding=\"utf-8\", memory_map=True)\n",
    "wine_data= pd.read_csv(\"C:\\\\Users\\\\Dell\\\\reommenders\\\\RecommenderSystems\\\\XWines_Test_100_wines.csv\", low_memory=False, encoding=\"utf-8\", memory_map=True)\n"
   ]
  },
  {
   "cell_type": "code",
   "execution_count": 25,
   "metadata": {},
   "outputs": [
    {
     "name": "stderr",
     "output_type": "stream",
     "text": [
      "c:\\Users\\Dell\\AppData\\Local\\Programs\\Python\\Python310\\lib\\site-packages\\implicit\\utils.py:164: ParameterWarning: Method expects CSR input, and was passed csc_matrix instead. Converting to CSR took 0.00498652458190918 seconds\n",
      "  warnings.warn(\n",
      "100%|██████████| 20/20 [00:02<00:00,  8.84it/s]\n"
     ]
    },
    {
     "name": "stdout",
     "output_type": "stream",
     "text": [
      "  (100062, 1004166)\t5.0\n",
      "  (100062, 1007559)\t3.5\n",
      "  (100062, 1012823)\t5.0\n",
      "  (100062, 1018208)\t4.0\n",
      "  (100062, 1048267)\t3.5\n",
      "  (100062, 1054770)\t4.0\n",
      "  (100062, 1070878)\t3.5\n",
      "  (100062, 1080264)\t4.0\n",
      "  (100062, 1087116)\t4.0\n",
      "  (100062, 1117421)\t5.0\n",
      "  (100062, 1163513)\t3.5\n",
      "  (100062, 1169598)\t3.0\n",
      "  (100062, 1195953)\t3.5\n",
      "  (100062, 1196484)\t3.5\n",
      "  (100062, 1261887)\t3.0\n",
      "  (100062, 1642793)\t4.5\n",
      "  (100062, 1652802)\t5.0\n",
      "  (100062, 1737947)\t4.0\n",
      "  (100062, 1787480)\t5.0\n",
      "  (100062, 1795555)\t5.0\n",
      "  (100062, 2037611)\t5.0\n",
      "  (100191, 1004804)\t3.5\n",
      "  (100191, 1034367)\t3.0\n",
      "  (100191, 1034455)\t3.5\n",
      "  (100191, 1041653)\t2.5\n",
      "  :\t:\n",
      "  (195831, 1009767)\t5.0\n",
      "  (195831, 1119141)\t4.5\n",
      "  (195831, 1155087)\t3.0\n",
      "  (195831, 1280729)\t4.0\n",
      "  (195831, 1761781)\t4.0\n",
      "  (195831, 2012543)\t5.0\n",
      "  (195831, 2048967)\t3.0\n",
      "  (196718, 1162400)\t3.0\n",
      "  (196718, 1195284)\t3.5\n",
      "  (196718, 1195662)\t3.0\n",
      "  (196718, 1196127)\t3.5\n",
      "  (196718, 1218520)\t3.5\n",
      "  (196838, 1222784)\t3.0\n",
      "  (196838, 1277586)\t3.5\n",
      "  (196838, 1279250)\t3.0\n",
      "  (196838, 1403616)\t3.5\n",
      "  (196838, 1453983)\t4.0\n",
      "  (196838, 1509439)\t4.0\n",
      "  (196838, 1794991)\t4.0\n",
      "  (198580, 1192574)\t1.0\n",
      "  (198580, 1204929)\t1.5\n",
      "  (198580, 1354043)\t4.5\n",
      "  (198580, 1399011)\t3.5\n",
      "  (198580, 1563515)\t3.0\n",
      "  (198580, 2037735)\t5.0\n"
     ]
    },
    {
     "ename": "ValueError",
     "evalue": "user_items must contain 1 row for every user in userids",
     "output_type": "error",
     "traceback": [
      "\u001b[1;31m---------------------------------------------------------------------------\u001b[0m",
      "\u001b[1;31mValueError\u001b[0m                                Traceback (most recent call last)",
      "Cell \u001b[1;32mIn [25], line 15\u001b[0m\n\u001b[0;32m     13\u001b[0m user_items \u001b[38;5;241m=\u001b[39m user_item_matrix\u001b[38;5;241m.\u001b[39mT\u001b[38;5;241m.\u001b[39mtocsr()\n\u001b[0;32m     14\u001b[0m \u001b[38;5;28mprint\u001b[39m(user_items)\n\u001b[1;32m---> 15\u001b[0m recommendations \u001b[38;5;241m=\u001b[39m \u001b[43mals_model\u001b[49m\u001b[38;5;241;43m.\u001b[39;49m\u001b[43mrecommend\u001b[49m\u001b[43m(\u001b[49m\u001b[43muser_id\u001b[49m\u001b[43m,\u001b[49m\u001b[43m \u001b[49m\u001b[43muser_items\u001b[49m\u001b[43m,\u001b[49m\u001b[43m \u001b[49m\u001b[43mN\u001b[49m\u001b[38;5;241;43m=\u001b[39;49m\u001b[38;5;241;43m5\u001b[39;49m\u001b[43m)\u001b[49m\n\u001b[0;32m     17\u001b[0m \u001b[38;5;28mprint\u001b[39m(\u001b[38;5;124mf\u001b[39m\u001b[38;5;124m\"\u001b[39m\u001b[38;5;124mTop recommendations for user \u001b[39m\u001b[38;5;132;01m{\u001b[39;00muser_id\u001b[38;5;132;01m}\u001b[39;00m\u001b[38;5;124m: \u001b[39m\u001b[38;5;132;01m{\u001b[39;00mrecommendations\u001b[38;5;132;01m}\u001b[39;00m\u001b[38;5;124m\"\u001b[39m)\n\u001b[0;32m     19\u001b[0m mapk \u001b[38;5;241m=\u001b[39m mean_average_precision_at_k(als_model, user_item_matrix\u001b[38;5;241m.\u001b[39mT, K\u001b[38;5;241m=\u001b[39m\u001b[38;5;241m3\u001b[39m)\n",
      "File \u001b[1;32mc:\\Users\\Dell\\AppData\\Local\\Programs\\Python\\Python310\\lib\\site-packages\\implicit\\cpu\\matrix_factorization_base.py:49\u001b[0m, in \u001b[0;36mMatrixFactorizationBase.recommend\u001b[1;34m(self, userid, user_items, N, filter_already_liked_items, filter_items, recalculate_user, items)\u001b[0m\n\u001b[0;32m     47\u001b[0m     user_count \u001b[38;5;241m=\u001b[39m \u001b[38;5;241m1\u001b[39m \u001b[38;5;28;01mif\u001b[39;00m np\u001b[38;5;241m.\u001b[39misscalar(userid) \u001b[38;5;28;01melse\u001b[39;00m \u001b[38;5;28mlen\u001b[39m(userid)\n\u001b[0;32m     48\u001b[0m     \u001b[38;5;28;01mif\u001b[39;00m user_items\u001b[38;5;241m.\u001b[39mshape[\u001b[38;5;241m0\u001b[39m] \u001b[38;5;241m!=\u001b[39m user_count:\n\u001b[1;32m---> 49\u001b[0m         \u001b[38;5;28;01mraise\u001b[39;00m \u001b[38;5;167;01mValueError\u001b[39;00m(\u001b[38;5;124m\"\u001b[39m\u001b[38;5;124muser_items must contain 1 row for every user in userids\u001b[39m\u001b[38;5;124m\"\u001b[39m)\n\u001b[0;32m     51\u001b[0m user \u001b[38;5;241m=\u001b[39m \u001b[38;5;28mself\u001b[39m\u001b[38;5;241m.\u001b[39m_user_factor(userid, user_items, recalculate_user)\n\u001b[0;32m     53\u001b[0m item_factors \u001b[38;5;241m=\u001b[39m \u001b[38;5;28mself\u001b[39m\u001b[38;5;241m.\u001b[39mitem_factors\n",
      "\u001b[1;31mValueError\u001b[0m: user_items must contain 1 row for every user in userids"
     ]
    }
   ],
   "source": [
    "\n",
    "\n",
    "#RatingID,UserID,WineID,Vintage,Rating,Date\n",
    "# Convert the data into a pandas DataFrame\n",
    "df_filtered =  user_reviews[['UserID', 'WineID', 'Rating']]\n",
    "\n",
    "# Convert the DataFrame into a sparse matrix for the ALS model\n",
    "user_item_matrix = csr_matrix((df_filtered['Rating'], (df_filtered['UserID'], df_filtered['WineID'])))\n",
    "\n",
    "als_model = AlternatingLeastSquares(factors=10, regularization=0.1, iterations=20)\n",
    "\n",
    "als_model.fit(user_item_matrix.T)\n",
    "\n",
    "user_id = 1004166\n",
    "user_items = user_item_matrix.T.tocsr()\n",
    "print(user_items)\n",
    "recommendations = als_model.recommend(user_id, user_items, N=5)\n",
    "\n",
    "print(f\"Top recommendations for user {user_id}: {recommendations}\")\n",
    "\n",
    "mapk = mean_average_precision_at_k(als_model, user_item_matrix.T, K=3)\n",
    "print(f\"Mean Average Precision at K (MAP@3): {mapk}\")\n"
   ]
  }
 ],
 "metadata": {
  "kernelspec": {
   "display_name": "Python 3",
   "language": "python",
   "name": "python3"
  },
  "language_info": {
   "codemirror_mode": {
    "name": "ipython",
    "version": 3
   },
   "file_extension": ".py",
   "mimetype": "text/x-python",
   "name": "python",
   "nbconvert_exporter": "python",
   "pygments_lexer": "ipython3",
   "version": "3.10.7"
  }
 },
 "nbformat": 4,
 "nbformat_minor": 2
}
