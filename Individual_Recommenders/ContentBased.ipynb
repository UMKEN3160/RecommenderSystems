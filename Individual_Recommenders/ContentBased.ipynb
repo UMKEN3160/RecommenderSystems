{
 "cells": [
  {
   "cell_type": "markdown",
   "metadata": {},
   "source": [
    "#code aimed at generating a content based recommmender system\n",
    "#using the Xwines dataset"
   ]
  },
  {
   "cell_type": "code",
   "execution_count": 8,
   "metadata": {},
   "outputs": [],
   "source": [
    "##standard imports\n",
    "import pandas as pd\n",
    "import numpy as np\n",
    "from scipy.sparse import csr_matrix as csr\n",
    "from sklearn.preprocessing import OneHotEncoder, MinMaxScaler\n",
    "from matplotlib import pyplot as plt\n",
    "import cv2 as cv"
   ]
  },
  {
   "cell_type": "code",
   "execution_count": 49,
   "metadata": {
    "scrolled": true
   },
   "outputs": [
    {
     "name": "stdout",
     "output_type": "stream",
     "text": [
      "<class 'pandas.core.frame.DataFrame'>\n",
      "    WineID                                  WineName          Type  \\\n",
      "0   100062                             Origem Merlot           Red   \n",
      "1   100191                        Reserva Chardonnay         White   \n",
      "2   101847          Dona Antonia Porto Reserva Tawny  Dessert/Port   \n",
      "3   102055                            Fine Ruby Port  Dessert/Port   \n",
      "4   102079                                 Maré Alta         White   \n",
      "..     ...                                       ...           ...   \n",
      "95  195476  Cuvée Alexander Rose de Pinot Extra Brut     Sparkling   \n",
      "96  195831                            Kormilitsa Red           Red   \n",
      "97  196718                          Select Rosé Brut     Sparkling   \n",
      "98  196838                                  Kallisto         White   \n",
      "99  198580                     The Falcon Pinot Gris         White   \n",
      "\n",
      "           Elaborate                                             Grapes  \\\n",
      "0      Varietal/100%                                         ['Merlot']   \n",
      "1      Varietal/100%                                     ['Chardonnay']   \n",
      "2   Assemblage/Blend  ['Touriga Nacional', 'Touriga Franca', 'Tinta ...   \n",
      "3   Assemblage/Blend  ['Tinta Amarela', 'Tinta Barroca', 'Touriga Fr...   \n",
      "4   Assemblage/Blend                ['Loureiro', 'Alvarinho', 'Arinto']   \n",
      "..               ...                                                ...   \n",
      "95     Varietal/>75%               ['Pinot Noir', 'Cabernet Sauvignon']   \n",
      "96  Assemblage/Blend                   ['Cabernet Sauvignon', 'Limnio']   \n",
      "97  Assemblage/Blend  ['Pinot Blanc', 'Bianca', 'Muscat/Moscato', 'S...   \n",
      "98  Assemblage/Blend                            ['Assyrtiko', 'Robola']   \n",
      "99     Varietal/100%                                     ['Pinot Gris']   \n",
      "\n",
      "                                            Harmonize   ABV  \\\n",
      "0   ['Beef', 'Lamb', 'Veal', 'Grilled', 'Pizza', '...  13.0   \n",
      "1   ['Rich Fish', 'Seafood', 'Risotto', 'Poultry',...  13.0   \n",
      "2       ['Appetizer', 'Sweet Dessert', 'Blue Cheese']  20.0   \n",
      "3   ['Sweet Dessert', 'Cake', 'Fruit', 'Soft Cheese']  19.5   \n",
      "4   ['Fish', 'Shellfish', 'Vegetarian', 'Appetizer...  10.0   \n",
      "..                                                ...   ...   \n",
      "95   ['Appetizer', 'Snack', 'Shellfish', 'Rich Fish']  12.5   \n",
      "96          ['Beef', 'Lamb', 'Spicy Food', 'Poultry']  14.1   \n",
      "97   ['Shellfish', 'Appetizer', 'Snack', 'Lean Fish']  12.5   \n",
      "98  ['Shellfish', 'Lean Fish', 'Poultry', 'Blue Ch...  13.0   \n",
      "99  ['Pork', 'Spicy Food', 'Mushrooms', 'Vegetarian']  13.0   \n",
      "\n",
      "                 Body Acidity Code      Country  RegionID  \\\n",
      "0         Full-bodied  Medium   BR       Brazil      1002   \n",
      "1       Medium-bodied  Medium   BR       Brazil      1001   \n",
      "2    Very full-bodied    High   PT     Portugal      1031   \n",
      "3    Very full-bodied  Medium   PT     Portugal      1031   \n",
      "4   Very light-bodied    High   PT     Portugal      1034   \n",
      "..                ...     ...  ...          ...       ...   \n",
      "95      Medium-bodied    High   RU       Russia      2536   \n",
      "96        Full-bodied  Medium   GR       Greece      2328   \n",
      "97      Medium-bodied    High   RU       Russia      2536   \n",
      "98        Full-bodied    High   GR       Greece      2344   \n",
      "99      Medium-bodied    High   NZ  New Zealand      2485   \n",
      "\n",
      "                                RegionName  WineryID       WineryName  \\\n",
      "0                        Vale dos Vinhedos     10014     Casa Valduga   \n",
      "1                             Serra Gaúcha     10000           Aurora   \n",
      "2                                    Porto     10674   Porto Ferreira   \n",
      "3                                    Porto     10703         Sandeman   \n",
      "4                              Vinho Verde     11486    Fonte Pequena   \n",
      "..                                     ...       ...              ...   \n",
      "95  Taman Peninsula (Таманский полуостров)     60337          Aristov   \n",
      "96                              Chalkidiki     67523         Tsantali   \n",
      "97  Taman Peninsula (Таманский полуостров)     60334  Château Tamagne   \n",
      "98                                    Ilia     67626  Mercouri Estate   \n",
      "99                             Marlborough     69205     Lake Chalice   \n",
      "\n",
      "                                        Website  \\\n",
      "0                 http://www.casavalduga.com.br   \n",
      "1              http://www.vinicolaaurora.com.br   \n",
      "2   https://sogrape.com/pt/brand/porto-ferreira   \n",
      "3                       http://www.sandeman.com   \n",
      "4             https://www.casadafontepequena.pt   \n",
      "..                                          ...   \n",
      "95                       https://aristovwine.ru   \n",
      "96                      http://www.tsantali.com   \n",
      "97                         http://kuban-vino.ru   \n",
      "98                       http://www.mercouri.gr   \n",
      "99                   http://www.lakechalice.com   \n",
      "\n",
      "                                             Vintages  \n",
      "0   [2020, 2019, 2018, 2017, 2016, 2015, 2014, 201...  \n",
      "1   [2021, 2020, 2019, 2018, 2017, 2016, 2015, 201...  \n",
      "2   [2021, 2020, 2019, 2018, 2017, 2016, 2015, 201...  \n",
      "3   [2020, 2019, 2018, 2017, 2016, 2015, 2014, 201...  \n",
      "4   [2022, 2021, 2020, 2019, 2018, 2017, 2016, 201...  \n",
      "..                                                ...  \n",
      "95         [2020, 2019, 2018, 2017, 2016, 2015, 1991]  \n",
      "96  [2021, 2020, 2019, 2018, 2017, 2016, 2015, 201...  \n",
      "97  [2021, 2020, 2019, 2018, 2017, 2016, 2015, 201...  \n",
      "98  [2021, 2020, 2019, 2018, 2017, 2016, 2015, 201...  \n",
      "99  [2021, 2020, 2019, 2018, 2017, 2016, 2015, 201...  \n",
      "\n",
      "[100 rows x 17 columns]\n"
     ]
    }
   ],
   "source": [
    "##importing the data\n",
    "data   = pd.read_csv(\"XWines_Test_100_wines.csv\", low_memory=False, encoding=\"utf-8\", memory_map=True)\n",
    "print(type(data))\n",
    "print(data)\n",
    "#define scalar and encoder\n",
    "encoder = OneHotEncoder()\n",
    "scaler = MinMaxScaler()"
   ]
  },
  {
   "cell_type": "code",
   "execution_count": null,
   "metadata": {},
   "outputs": [],
   "source": [
    "##data cleaning"
   ]
  },
  {
   "cell_type": "code",
   "execution_count": 38,
   "metadata": {},
   "outputs": [],
   "source": [
    "#numerical data\n",
    "#WineID,WineName,Type,Elaborate,Grapes,Harmonize,ABV,Body,Acidity,Code,Country,RegionID,RegionName,WineryID,WineryName,Website,Vintages\n",
    "\n",
    "numerical_data=['ABV']\n",
    "encoded_data=[\"Type\",\"Acidity\",\"Grapes\",\"Country\"]\n",
    "all_scaled=[len(numerical_data)]\n",
    "\n",
    "for i in range(len(numerical_data)):\n",
    "    all_scaled[i]=scaler.fit_transform(data[[numerical_data[i]]])\n",
    "\n",
    "encoded_cols = encoder.fit_transform(data[encoded_data]).toarray()\n",
    "\n",
    "##change in future\n",
    "feature_matrix = np.hstack((encoded_cols,all_scaled[0]))"
   ]
  },
  {
   "cell_type": "code",
   "execution_count": 39,
   "metadata": {},
   "outputs": [
    {
     "name": "stdout",
     "output_type": "stream",
     "text": [
      "[[0.         0.         1.         ... 0.         0.         0.20454545]\n",
      " [0.         0.         0.         ... 0.         0.         0.20454545]\n",
      " [0.         1.         0.         ... 0.         0.         0.36363636]\n",
      " ...\n",
      " [0.         0.         0.         ... 0.         0.         0.19318182]\n",
      " [0.         0.         0.         ... 0.         0.         0.20454545]\n",
      " [0.         0.         0.         ... 0.         0.         0.20454545]]\n",
      "[[0. 0. 1. ... 0. 0. 0.]\n",
      " [0. 0. 0. ... 0. 0. 0.]\n",
      " [0. 1. 0. ... 0. 0. 0.]\n",
      " ...\n",
      " [0. 0. 0. ... 0. 0. 0.]\n",
      " [0. 0. 0. ... 0. 0. 0.]\n",
      " [0. 0. 0. ... 0. 0. 0.]]\n"
     ]
    }
   ],
   "source": [
    "from sklearn.metrics.pairwise import cosine_similarity\n",
    "\n",
    "# Calculate cosine similarity between wines\n",
    "cosine_sim = cosine_similarity(encoded_cols)\n",
    "print(feature_matrix)\n",
    "print(encoded_cols)"
   ]
  },
  {
   "cell_type": "code",
   "execution_count": 51,
   "metadata": {},
   "outputs": [
    {
     "name": "stdout",
     "output_type": "stream",
     "text": [
      "yep\n",
      "18               Merlot Reserve Trocken\n",
      "1                    Reserva Chardonnay\n",
      "6     Pátria Alentejo Selection Reserva\n",
      "8                 Calda Bordaleza Tinto\n",
      "9                        Regional Tinto\n",
      "Name: WineName, dtype: object\n"
     ]
    }
   ],
   "source": [
    "def get_recommendations(wine_name, data, cosine_sim):\n",
    "    # Get the index of the wine that matches the wine_name\n",
    "   \n",
    "    idx = data.index[data['WineName'] == wine_name].tolist()[0]\n",
    "    print(\"yep\")\n",
    "    # Get the similarity scores for this wine\n",
    "    sim_scores = list(enumerate(cosine_sim[idx]))\n",
    "    \n",
    "    # Sort wines by similarity scores\n",
    "    sim_scores = sorted(sim_scores, key=lambda x: x[1], reverse=True)\n",
    "    \n",
    "    # Get the indices of the top 5 most similar wines\n",
    "    sim_scores = sim_scores[1:6]\n",
    "    wine_indices = [i[0] for i in sim_scores]\n",
    "    \n",
    "    # Return the top 5 most similar wines\n",
    "    return data['WineName'].iloc[wine_indices]\n",
    "\n",
    "# Example usage:\n",
    "print(get_recommendations('Origem Merlot', data, cosine_sim))"
   ]
  }
 ],
 "metadata": {
  "kernelspec": {
   "display_name": "Python 3 (ipykernel)",
   "language": "python",
   "name": "python3"
  },
  "language_info": {
   "codemirror_mode": {
    "name": "ipython",
    "version": 3
   },
   "file_extension": ".py",
   "mimetype": "text/x-python",
   "name": "python",
   "nbconvert_exporter": "python",
   "pygments_lexer": "ipython3",
   "version": "3.11.7"
  }
 },
 "nbformat": 4,
 "nbformat_minor": 4
}
